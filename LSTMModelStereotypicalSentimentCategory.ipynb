{
  "nbformat": 4,
  "nbformat_minor": 0,
  "metadata": {
    "colab": {
      "provenance": [],
      "gpuType": "T4",
      "authorship_tag": "ABX9TyMkp7jfv7JV0z7YD5cXGTMx"
    },
    "kernelspec": {
      "name": "python3",
      "display_name": "Python 3"
    },
    "language_info": {
      "name": "python"
    },
    "accelerator": "GPU",
    "widgets": {
      "application/vnd.jupyter.widget-state+json": {
        "00349604835045bc9a2db4d7e11c3c33": {
          "model_module": "@jupyter-widgets/controls",
          "model_name": "VBoxModel",
          "model_module_version": "1.5.0",
          "state": {
            "_dom_classes": [],
            "_model_module": "@jupyter-widgets/controls",
            "_model_module_version": "1.5.0",
            "_model_name": "VBoxModel",
            "_view_count": null,
            "_view_module": "@jupyter-widgets/controls",
            "_view_module_version": "1.5.0",
            "_view_name": "VBoxView",
            "box_style": "",
            "children": [
              "IPY_MODEL_e320515757aa469c99753b3538d1c57a",
              "IPY_MODEL_47c4f8224eaf4016a32bb30d56bf7ecf",
              "IPY_MODEL_c3536000dc9e4ebd9962948a083384b2",
              "IPY_MODEL_3fd24989705e446483854527baf6dbd5"
            ],
            "layout": "IPY_MODEL_5186880f4a994ab9a6b92b2da6e98dfe"
          }
        },
        "f3aa26b9862a4262b08bebf70ad4f88c": {
          "model_module": "@jupyter-widgets/controls",
          "model_name": "HTMLModel",
          "model_module_version": "1.5.0",
          "state": {
            "_dom_classes": [],
            "_model_module": "@jupyter-widgets/controls",
            "_model_module_version": "1.5.0",
            "_model_name": "HTMLModel",
            "_view_count": null,
            "_view_module": "@jupyter-widgets/controls",
            "_view_module_version": "1.5.0",
            "_view_name": "HTMLView",
            "description": "",
            "description_tooltip": null,
            "layout": "IPY_MODEL_89dcd51c025b43cf8c6c341aa9a90c2d",
            "placeholder": "​",
            "style": "IPY_MODEL_d088703f99a94318a43155534507d7e3",
            "value": "<center> <img\nsrc=https://huggingface.co/front/assets/huggingface_logo-noborder.svg\nalt='Hugging Face'> <br> Copy a token from <a\nhref=\"https://huggingface.co/settings/tokens\" target=\"_blank\">your Hugging Face\ntokens page</a> and paste it below. <br> Immediately click login after copying\nyour token or it might be stored in plain text in this notebook file. </center>"
          }
        },
        "339ec80b51644d799992b20f5a6113ce": {
          "model_module": "@jupyter-widgets/controls",
          "model_name": "PasswordModel",
          "model_module_version": "1.5.0",
          "state": {
            "_dom_classes": [],
            "_model_module": "@jupyter-widgets/controls",
            "_model_module_version": "1.5.0",
            "_model_name": "PasswordModel",
            "_view_count": null,
            "_view_module": "@jupyter-widgets/controls",
            "_view_module_version": "1.5.0",
            "_view_name": "PasswordView",
            "continuous_update": true,
            "description": "Token:",
            "description_tooltip": null,
            "disabled": false,
            "layout": "IPY_MODEL_f982c5dccf6c44158233ca2dd9bf833e",
            "placeholder": "​",
            "style": "IPY_MODEL_dafe483d947f47adbd52ec839a487d06",
            "value": ""
          }
        },
        "0448dd70a4644f16b2291f66df17fa2c": {
          "model_module": "@jupyter-widgets/controls",
          "model_name": "CheckboxModel",
          "model_module_version": "1.5.0",
          "state": {
            "_dom_classes": [],
            "_model_module": "@jupyter-widgets/controls",
            "_model_module_version": "1.5.0",
            "_model_name": "CheckboxModel",
            "_view_count": null,
            "_view_module": "@jupyter-widgets/controls",
            "_view_module_version": "1.5.0",
            "_view_name": "CheckboxView",
            "description": "Add token as git credential?",
            "description_tooltip": null,
            "disabled": false,
            "indent": true,
            "layout": "IPY_MODEL_ab9cc73963974bb6b35bfcd028d2e644",
            "style": "IPY_MODEL_3bc426d964d84e34a96315d15818e61e",
            "value": true
          }
        },
        "9f5ea0dea9234f54be4deaf50125445a": {
          "model_module": "@jupyter-widgets/controls",
          "model_name": "ButtonModel",
          "model_module_version": "1.5.0",
          "state": {
            "_dom_classes": [],
            "_model_module": "@jupyter-widgets/controls",
            "_model_module_version": "1.5.0",
            "_model_name": "ButtonModel",
            "_view_count": null,
            "_view_module": "@jupyter-widgets/controls",
            "_view_module_version": "1.5.0",
            "_view_name": "ButtonView",
            "button_style": "",
            "description": "Login",
            "disabled": false,
            "icon": "",
            "layout": "IPY_MODEL_7018b9a1c0924c9498272d107bd0d452",
            "style": "IPY_MODEL_f60f30f81f3b482991222068b4a5a117",
            "tooltip": ""
          }
        },
        "211d7ddc99a941e382f6fb1ef235bd41": {
          "model_module": "@jupyter-widgets/controls",
          "model_name": "HTMLModel",
          "model_module_version": "1.5.0",
          "state": {
            "_dom_classes": [],
            "_model_module": "@jupyter-widgets/controls",
            "_model_module_version": "1.5.0",
            "_model_name": "HTMLModel",
            "_view_count": null,
            "_view_module": "@jupyter-widgets/controls",
            "_view_module_version": "1.5.0",
            "_view_name": "HTMLView",
            "description": "",
            "description_tooltip": null,
            "layout": "IPY_MODEL_4bf0fe41348641c59ccedb7bff7186bb",
            "placeholder": "​",
            "style": "IPY_MODEL_13b2a3bca3e94b4f9d49f6b90811d73d",
            "value": "\n<b>Pro Tip:</b> If you don't already have one, you can create a dedicated\n'notebooks' token with 'write' access, that you can then easily reuse for all\nnotebooks. </center>"
          }
        },
        "5186880f4a994ab9a6b92b2da6e98dfe": {
          "model_module": "@jupyter-widgets/base",
          "model_name": "LayoutModel",
          "model_module_version": "1.2.0",
          "state": {
            "_model_module": "@jupyter-widgets/base",
            "_model_module_version": "1.2.0",
            "_model_name": "LayoutModel",
            "_view_count": null,
            "_view_module": "@jupyter-widgets/base",
            "_view_module_version": "1.2.0",
            "_view_name": "LayoutView",
            "align_content": null,
            "align_items": "center",
            "align_self": null,
            "border": null,
            "bottom": null,
            "display": "flex",
            "flex": null,
            "flex_flow": "column",
            "grid_area": null,
            "grid_auto_columns": null,
            "grid_auto_flow": null,
            "grid_auto_rows": null,
            "grid_column": null,
            "grid_gap": null,
            "grid_row": null,
            "grid_template_areas": null,
            "grid_template_columns": null,
            "grid_template_rows": null,
            "height": null,
            "justify_content": null,
            "justify_items": null,
            "left": null,
            "margin": null,
            "max_height": null,
            "max_width": null,
            "min_height": null,
            "min_width": null,
            "object_fit": null,
            "object_position": null,
            "order": null,
            "overflow": null,
            "overflow_x": null,
            "overflow_y": null,
            "padding": null,
            "right": null,
            "top": null,
            "visibility": null,
            "width": "50%"
          }
        },
        "89dcd51c025b43cf8c6c341aa9a90c2d": {
          "model_module": "@jupyter-widgets/base",
          "model_name": "LayoutModel",
          "model_module_version": "1.2.0",
          "state": {
            "_model_module": "@jupyter-widgets/base",
            "_model_module_version": "1.2.0",
            "_model_name": "LayoutModel",
            "_view_count": null,
            "_view_module": "@jupyter-widgets/base",
            "_view_module_version": "1.2.0",
            "_view_name": "LayoutView",
            "align_content": null,
            "align_items": null,
            "align_self": null,
            "border": null,
            "bottom": null,
            "display": null,
            "flex": null,
            "flex_flow": null,
            "grid_area": null,
            "grid_auto_columns": null,
            "grid_auto_flow": null,
            "grid_auto_rows": null,
            "grid_column": null,
            "grid_gap": null,
            "grid_row": null,
            "grid_template_areas": null,
            "grid_template_columns": null,
            "grid_template_rows": null,
            "height": null,
            "justify_content": null,
            "justify_items": null,
            "left": null,
            "margin": null,
            "max_height": null,
            "max_width": null,
            "min_height": null,
            "min_width": null,
            "object_fit": null,
            "object_position": null,
            "order": null,
            "overflow": null,
            "overflow_x": null,
            "overflow_y": null,
            "padding": null,
            "right": null,
            "top": null,
            "visibility": null,
            "width": null
          }
        },
        "d088703f99a94318a43155534507d7e3": {
          "model_module": "@jupyter-widgets/controls",
          "model_name": "DescriptionStyleModel",
          "model_module_version": "1.5.0",
          "state": {
            "_model_module": "@jupyter-widgets/controls",
            "_model_module_version": "1.5.0",
            "_model_name": "DescriptionStyleModel",
            "_view_count": null,
            "_view_module": "@jupyter-widgets/base",
            "_view_module_version": "1.2.0",
            "_view_name": "StyleView",
            "description_width": ""
          }
        },
        "f982c5dccf6c44158233ca2dd9bf833e": {
          "model_module": "@jupyter-widgets/base",
          "model_name": "LayoutModel",
          "model_module_version": "1.2.0",
          "state": {
            "_model_module": "@jupyter-widgets/base",
            "_model_module_version": "1.2.0",
            "_model_name": "LayoutModel",
            "_view_count": null,
            "_view_module": "@jupyter-widgets/base",
            "_view_module_version": "1.2.0",
            "_view_name": "LayoutView",
            "align_content": null,
            "align_items": null,
            "align_self": null,
            "border": null,
            "bottom": null,
            "display": null,
            "flex": null,
            "flex_flow": null,
            "grid_area": null,
            "grid_auto_columns": null,
            "grid_auto_flow": null,
            "grid_auto_rows": null,
            "grid_column": null,
            "grid_gap": null,
            "grid_row": null,
            "grid_template_areas": null,
            "grid_template_columns": null,
            "grid_template_rows": null,
            "height": null,
            "justify_content": null,
            "justify_items": null,
            "left": null,
            "margin": null,
            "max_height": null,
            "max_width": null,
            "min_height": null,
            "min_width": null,
            "object_fit": null,
            "object_position": null,
            "order": null,
            "overflow": null,
            "overflow_x": null,
            "overflow_y": null,
            "padding": null,
            "right": null,
            "top": null,
            "visibility": null,
            "width": null
          }
        },
        "dafe483d947f47adbd52ec839a487d06": {
          "model_module": "@jupyter-widgets/controls",
          "model_name": "DescriptionStyleModel",
          "model_module_version": "1.5.0",
          "state": {
            "_model_module": "@jupyter-widgets/controls",
            "_model_module_version": "1.5.0",
            "_model_name": "DescriptionStyleModel",
            "_view_count": null,
            "_view_module": "@jupyter-widgets/base",
            "_view_module_version": "1.2.0",
            "_view_name": "StyleView",
            "description_width": ""
          }
        },
        "ab9cc73963974bb6b35bfcd028d2e644": {
          "model_module": "@jupyter-widgets/base",
          "model_name": "LayoutModel",
          "model_module_version": "1.2.0",
          "state": {
            "_model_module": "@jupyter-widgets/base",
            "_model_module_version": "1.2.0",
            "_model_name": "LayoutModel",
            "_view_count": null,
            "_view_module": "@jupyter-widgets/base",
            "_view_module_version": "1.2.0",
            "_view_name": "LayoutView",
            "align_content": null,
            "align_items": null,
            "align_self": null,
            "border": null,
            "bottom": null,
            "display": null,
            "flex": null,
            "flex_flow": null,
            "grid_area": null,
            "grid_auto_columns": null,
            "grid_auto_flow": null,
            "grid_auto_rows": null,
            "grid_column": null,
            "grid_gap": null,
            "grid_row": null,
            "grid_template_areas": null,
            "grid_template_columns": null,
            "grid_template_rows": null,
            "height": null,
            "justify_content": null,
            "justify_items": null,
            "left": null,
            "margin": null,
            "max_height": null,
            "max_width": null,
            "min_height": null,
            "min_width": null,
            "object_fit": null,
            "object_position": null,
            "order": null,
            "overflow": null,
            "overflow_x": null,
            "overflow_y": null,
            "padding": null,
            "right": null,
            "top": null,
            "visibility": null,
            "width": null
          }
        },
        "3bc426d964d84e34a96315d15818e61e": {
          "model_module": "@jupyter-widgets/controls",
          "model_name": "DescriptionStyleModel",
          "model_module_version": "1.5.0",
          "state": {
            "_model_module": "@jupyter-widgets/controls",
            "_model_module_version": "1.5.0",
            "_model_name": "DescriptionStyleModel",
            "_view_count": null,
            "_view_module": "@jupyter-widgets/base",
            "_view_module_version": "1.2.0",
            "_view_name": "StyleView",
            "description_width": ""
          }
        },
        "7018b9a1c0924c9498272d107bd0d452": {
          "model_module": "@jupyter-widgets/base",
          "model_name": "LayoutModel",
          "model_module_version": "1.2.0",
          "state": {
            "_model_module": "@jupyter-widgets/base",
            "_model_module_version": "1.2.0",
            "_model_name": "LayoutModel",
            "_view_count": null,
            "_view_module": "@jupyter-widgets/base",
            "_view_module_version": "1.2.0",
            "_view_name": "LayoutView",
            "align_content": null,
            "align_items": null,
            "align_self": null,
            "border": null,
            "bottom": null,
            "display": null,
            "flex": null,
            "flex_flow": null,
            "grid_area": null,
            "grid_auto_columns": null,
            "grid_auto_flow": null,
            "grid_auto_rows": null,
            "grid_column": null,
            "grid_gap": null,
            "grid_row": null,
            "grid_template_areas": null,
            "grid_template_columns": null,
            "grid_template_rows": null,
            "height": null,
            "justify_content": null,
            "justify_items": null,
            "left": null,
            "margin": null,
            "max_height": null,
            "max_width": null,
            "min_height": null,
            "min_width": null,
            "object_fit": null,
            "object_position": null,
            "order": null,
            "overflow": null,
            "overflow_x": null,
            "overflow_y": null,
            "padding": null,
            "right": null,
            "top": null,
            "visibility": null,
            "width": null
          }
        },
        "f60f30f81f3b482991222068b4a5a117": {
          "model_module": "@jupyter-widgets/controls",
          "model_name": "ButtonStyleModel",
          "model_module_version": "1.5.0",
          "state": {
            "_model_module": "@jupyter-widgets/controls",
            "_model_module_version": "1.5.0",
            "_model_name": "ButtonStyleModel",
            "_view_count": null,
            "_view_module": "@jupyter-widgets/base",
            "_view_module_version": "1.2.0",
            "_view_name": "StyleView",
            "button_color": null,
            "font_weight": ""
          }
        },
        "4bf0fe41348641c59ccedb7bff7186bb": {
          "model_module": "@jupyter-widgets/base",
          "model_name": "LayoutModel",
          "model_module_version": "1.2.0",
          "state": {
            "_model_module": "@jupyter-widgets/base",
            "_model_module_version": "1.2.0",
            "_model_name": "LayoutModel",
            "_view_count": null,
            "_view_module": "@jupyter-widgets/base",
            "_view_module_version": "1.2.0",
            "_view_name": "LayoutView",
            "align_content": null,
            "align_items": null,
            "align_self": null,
            "border": null,
            "bottom": null,
            "display": null,
            "flex": null,
            "flex_flow": null,
            "grid_area": null,
            "grid_auto_columns": null,
            "grid_auto_flow": null,
            "grid_auto_rows": null,
            "grid_column": null,
            "grid_gap": null,
            "grid_row": null,
            "grid_template_areas": null,
            "grid_template_columns": null,
            "grid_template_rows": null,
            "height": null,
            "justify_content": null,
            "justify_items": null,
            "left": null,
            "margin": null,
            "max_height": null,
            "max_width": null,
            "min_height": null,
            "min_width": null,
            "object_fit": null,
            "object_position": null,
            "order": null,
            "overflow": null,
            "overflow_x": null,
            "overflow_y": null,
            "padding": null,
            "right": null,
            "top": null,
            "visibility": null,
            "width": null
          }
        },
        "13b2a3bca3e94b4f9d49f6b90811d73d": {
          "model_module": "@jupyter-widgets/controls",
          "model_name": "DescriptionStyleModel",
          "model_module_version": "1.5.0",
          "state": {
            "_model_module": "@jupyter-widgets/controls",
            "_model_module_version": "1.5.0",
            "_model_name": "DescriptionStyleModel",
            "_view_count": null,
            "_view_module": "@jupyter-widgets/base",
            "_view_module_version": "1.2.0",
            "_view_name": "StyleView",
            "description_width": ""
          }
        },
        "7a165a21cdff45f58fb011f9142574d9": {
          "model_module": "@jupyter-widgets/controls",
          "model_name": "LabelModel",
          "model_module_version": "1.5.0",
          "state": {
            "_dom_classes": [],
            "_model_module": "@jupyter-widgets/controls",
            "_model_module_version": "1.5.0",
            "_model_name": "LabelModel",
            "_view_count": null,
            "_view_module": "@jupyter-widgets/controls",
            "_view_module_version": "1.5.0",
            "_view_name": "LabelView",
            "description": "",
            "description_tooltip": null,
            "layout": "IPY_MODEL_d5308b9e164f4f81b02f6a6dccfa326b",
            "placeholder": "​",
            "style": "IPY_MODEL_2eebdbacbc60407d84608df46123ea12",
            "value": "Connecting..."
          }
        },
        "d5308b9e164f4f81b02f6a6dccfa326b": {
          "model_module": "@jupyter-widgets/base",
          "model_name": "LayoutModel",
          "model_module_version": "1.2.0",
          "state": {
            "_model_module": "@jupyter-widgets/base",
            "_model_module_version": "1.2.0",
            "_model_name": "LayoutModel",
            "_view_count": null,
            "_view_module": "@jupyter-widgets/base",
            "_view_module_version": "1.2.0",
            "_view_name": "LayoutView",
            "align_content": null,
            "align_items": null,
            "align_self": null,
            "border": null,
            "bottom": null,
            "display": null,
            "flex": null,
            "flex_flow": null,
            "grid_area": null,
            "grid_auto_columns": null,
            "grid_auto_flow": null,
            "grid_auto_rows": null,
            "grid_column": null,
            "grid_gap": null,
            "grid_row": null,
            "grid_template_areas": null,
            "grid_template_columns": null,
            "grid_template_rows": null,
            "height": null,
            "justify_content": null,
            "justify_items": null,
            "left": null,
            "margin": null,
            "max_height": null,
            "max_width": null,
            "min_height": null,
            "min_width": null,
            "object_fit": null,
            "object_position": null,
            "order": null,
            "overflow": null,
            "overflow_x": null,
            "overflow_y": null,
            "padding": null,
            "right": null,
            "top": null,
            "visibility": null,
            "width": null
          }
        },
        "2eebdbacbc60407d84608df46123ea12": {
          "model_module": "@jupyter-widgets/controls",
          "model_name": "DescriptionStyleModel",
          "model_module_version": "1.5.0",
          "state": {
            "_model_module": "@jupyter-widgets/controls",
            "_model_module_version": "1.5.0",
            "_model_name": "DescriptionStyleModel",
            "_view_count": null,
            "_view_module": "@jupyter-widgets/base",
            "_view_module_version": "1.2.0",
            "_view_name": "StyleView",
            "description_width": ""
          }
        },
        "e320515757aa469c99753b3538d1c57a": {
          "model_module": "@jupyter-widgets/controls",
          "model_name": "LabelModel",
          "model_module_version": "1.5.0",
          "state": {
            "_dom_classes": [],
            "_model_module": "@jupyter-widgets/controls",
            "_model_module_version": "1.5.0",
            "_model_name": "LabelModel",
            "_view_count": null,
            "_view_module": "@jupyter-widgets/controls",
            "_view_module_version": "1.5.0",
            "_view_name": "LabelView",
            "description": "",
            "description_tooltip": null,
            "layout": "IPY_MODEL_68251f66df614349b445b12240626cbf",
            "placeholder": "​",
            "style": "IPY_MODEL_e9a6ae0a2b1d4f52b871f3096ad73259",
            "value": "Token is valid (permission: write)."
          }
        },
        "47c4f8224eaf4016a32bb30d56bf7ecf": {
          "model_module": "@jupyter-widgets/controls",
          "model_name": "LabelModel",
          "model_module_version": "1.5.0",
          "state": {
            "_dom_classes": [],
            "_model_module": "@jupyter-widgets/controls",
            "_model_module_version": "1.5.0",
            "_model_name": "LabelModel",
            "_view_count": null,
            "_view_module": "@jupyter-widgets/controls",
            "_view_module_version": "1.5.0",
            "_view_name": "LabelView",
            "description": "",
            "description_tooltip": null,
            "layout": "IPY_MODEL_974b68b22a1e43f1858effa245a5e5ad",
            "placeholder": "​",
            "style": "IPY_MODEL_aeeeebaf34724307aa2f5e1d6afe3a01",
            "value": "Your token has been saved in your configured git credential helpers (store)."
          }
        },
        "c3536000dc9e4ebd9962948a083384b2": {
          "model_module": "@jupyter-widgets/controls",
          "model_name": "LabelModel",
          "model_module_version": "1.5.0",
          "state": {
            "_dom_classes": [],
            "_model_module": "@jupyter-widgets/controls",
            "_model_module_version": "1.5.0",
            "_model_name": "LabelModel",
            "_view_count": null,
            "_view_module": "@jupyter-widgets/controls",
            "_view_module_version": "1.5.0",
            "_view_name": "LabelView",
            "description": "",
            "description_tooltip": null,
            "layout": "IPY_MODEL_2103a90a29394570a813030969bae390",
            "placeholder": "​",
            "style": "IPY_MODEL_22ed2de6151849d19d140cdcd9e0935a",
            "value": "Your token has been saved to /root/.cache/huggingface/token"
          }
        },
        "3fd24989705e446483854527baf6dbd5": {
          "model_module": "@jupyter-widgets/controls",
          "model_name": "LabelModel",
          "model_module_version": "1.5.0",
          "state": {
            "_dom_classes": [],
            "_model_module": "@jupyter-widgets/controls",
            "_model_module_version": "1.5.0",
            "_model_name": "LabelModel",
            "_view_count": null,
            "_view_module": "@jupyter-widgets/controls",
            "_view_module_version": "1.5.0",
            "_view_name": "LabelView",
            "description": "",
            "description_tooltip": null,
            "layout": "IPY_MODEL_7e4a941a63a8460bb91c6ade5e2f9f9e",
            "placeholder": "​",
            "style": "IPY_MODEL_9b1bac528ab442a48eae20ae7aed2e29",
            "value": "Login successful"
          }
        },
        "68251f66df614349b445b12240626cbf": {
          "model_module": "@jupyter-widgets/base",
          "model_name": "LayoutModel",
          "model_module_version": "1.2.0",
          "state": {
            "_model_module": "@jupyter-widgets/base",
            "_model_module_version": "1.2.0",
            "_model_name": "LayoutModel",
            "_view_count": null,
            "_view_module": "@jupyter-widgets/base",
            "_view_module_version": "1.2.0",
            "_view_name": "LayoutView",
            "align_content": null,
            "align_items": null,
            "align_self": null,
            "border": null,
            "bottom": null,
            "display": null,
            "flex": null,
            "flex_flow": null,
            "grid_area": null,
            "grid_auto_columns": null,
            "grid_auto_flow": null,
            "grid_auto_rows": null,
            "grid_column": null,
            "grid_gap": null,
            "grid_row": null,
            "grid_template_areas": null,
            "grid_template_columns": null,
            "grid_template_rows": null,
            "height": null,
            "justify_content": null,
            "justify_items": null,
            "left": null,
            "margin": null,
            "max_height": null,
            "max_width": null,
            "min_height": null,
            "min_width": null,
            "object_fit": null,
            "object_position": null,
            "order": null,
            "overflow": null,
            "overflow_x": null,
            "overflow_y": null,
            "padding": null,
            "right": null,
            "top": null,
            "visibility": null,
            "width": null
          }
        },
        "e9a6ae0a2b1d4f52b871f3096ad73259": {
          "model_module": "@jupyter-widgets/controls",
          "model_name": "DescriptionStyleModel",
          "model_module_version": "1.5.0",
          "state": {
            "_model_module": "@jupyter-widgets/controls",
            "_model_module_version": "1.5.0",
            "_model_name": "DescriptionStyleModel",
            "_view_count": null,
            "_view_module": "@jupyter-widgets/base",
            "_view_module_version": "1.2.0",
            "_view_name": "StyleView",
            "description_width": ""
          }
        },
        "974b68b22a1e43f1858effa245a5e5ad": {
          "model_module": "@jupyter-widgets/base",
          "model_name": "LayoutModel",
          "model_module_version": "1.2.0",
          "state": {
            "_model_module": "@jupyter-widgets/base",
            "_model_module_version": "1.2.0",
            "_model_name": "LayoutModel",
            "_view_count": null,
            "_view_module": "@jupyter-widgets/base",
            "_view_module_version": "1.2.0",
            "_view_name": "LayoutView",
            "align_content": null,
            "align_items": null,
            "align_self": null,
            "border": null,
            "bottom": null,
            "display": null,
            "flex": null,
            "flex_flow": null,
            "grid_area": null,
            "grid_auto_columns": null,
            "grid_auto_flow": null,
            "grid_auto_rows": null,
            "grid_column": null,
            "grid_gap": null,
            "grid_row": null,
            "grid_template_areas": null,
            "grid_template_columns": null,
            "grid_template_rows": null,
            "height": null,
            "justify_content": null,
            "justify_items": null,
            "left": null,
            "margin": null,
            "max_height": null,
            "max_width": null,
            "min_height": null,
            "min_width": null,
            "object_fit": null,
            "object_position": null,
            "order": null,
            "overflow": null,
            "overflow_x": null,
            "overflow_y": null,
            "padding": null,
            "right": null,
            "top": null,
            "visibility": null,
            "width": null
          }
        },
        "aeeeebaf34724307aa2f5e1d6afe3a01": {
          "model_module": "@jupyter-widgets/controls",
          "model_name": "DescriptionStyleModel",
          "model_module_version": "1.5.0",
          "state": {
            "_model_module": "@jupyter-widgets/controls",
            "_model_module_version": "1.5.0",
            "_model_name": "DescriptionStyleModel",
            "_view_count": null,
            "_view_module": "@jupyter-widgets/base",
            "_view_module_version": "1.2.0",
            "_view_name": "StyleView",
            "description_width": ""
          }
        },
        "2103a90a29394570a813030969bae390": {
          "model_module": "@jupyter-widgets/base",
          "model_name": "LayoutModel",
          "model_module_version": "1.2.0",
          "state": {
            "_model_module": "@jupyter-widgets/base",
            "_model_module_version": "1.2.0",
            "_model_name": "LayoutModel",
            "_view_count": null,
            "_view_module": "@jupyter-widgets/base",
            "_view_module_version": "1.2.0",
            "_view_name": "LayoutView",
            "align_content": null,
            "align_items": null,
            "align_self": null,
            "border": null,
            "bottom": null,
            "display": null,
            "flex": null,
            "flex_flow": null,
            "grid_area": null,
            "grid_auto_columns": null,
            "grid_auto_flow": null,
            "grid_auto_rows": null,
            "grid_column": null,
            "grid_gap": null,
            "grid_row": null,
            "grid_template_areas": null,
            "grid_template_columns": null,
            "grid_template_rows": null,
            "height": null,
            "justify_content": null,
            "justify_items": null,
            "left": null,
            "margin": null,
            "max_height": null,
            "max_width": null,
            "min_height": null,
            "min_width": null,
            "object_fit": null,
            "object_position": null,
            "order": null,
            "overflow": null,
            "overflow_x": null,
            "overflow_y": null,
            "padding": null,
            "right": null,
            "top": null,
            "visibility": null,
            "width": null
          }
        },
        "22ed2de6151849d19d140cdcd9e0935a": {
          "model_module": "@jupyter-widgets/controls",
          "model_name": "DescriptionStyleModel",
          "model_module_version": "1.5.0",
          "state": {
            "_model_module": "@jupyter-widgets/controls",
            "_model_module_version": "1.5.0",
            "_model_name": "DescriptionStyleModel",
            "_view_count": null,
            "_view_module": "@jupyter-widgets/base",
            "_view_module_version": "1.2.0",
            "_view_name": "StyleView",
            "description_width": ""
          }
        },
        "7e4a941a63a8460bb91c6ade5e2f9f9e": {
          "model_module": "@jupyter-widgets/base",
          "model_name": "LayoutModel",
          "model_module_version": "1.2.0",
          "state": {
            "_model_module": "@jupyter-widgets/base",
            "_model_module_version": "1.2.0",
            "_model_name": "LayoutModel",
            "_view_count": null,
            "_view_module": "@jupyter-widgets/base",
            "_view_module_version": "1.2.0",
            "_view_name": "LayoutView",
            "align_content": null,
            "align_items": null,
            "align_self": null,
            "border": null,
            "bottom": null,
            "display": null,
            "flex": null,
            "flex_flow": null,
            "grid_area": null,
            "grid_auto_columns": null,
            "grid_auto_flow": null,
            "grid_auto_rows": null,
            "grid_column": null,
            "grid_gap": null,
            "grid_row": null,
            "grid_template_areas": null,
            "grid_template_columns": null,
            "grid_template_rows": null,
            "height": null,
            "justify_content": null,
            "justify_items": null,
            "left": null,
            "margin": null,
            "max_height": null,
            "max_width": null,
            "min_height": null,
            "min_width": null,
            "object_fit": null,
            "object_position": null,
            "order": null,
            "overflow": null,
            "overflow_x": null,
            "overflow_y": null,
            "padding": null,
            "right": null,
            "top": null,
            "visibility": null,
            "width": null
          }
        },
        "9b1bac528ab442a48eae20ae7aed2e29": {
          "model_module": "@jupyter-widgets/controls",
          "model_name": "DescriptionStyleModel",
          "model_module_version": "1.5.0",
          "state": {
            "_model_module": "@jupyter-widgets/controls",
            "_model_module_version": "1.5.0",
            "_model_name": "DescriptionStyleModel",
            "_view_count": null,
            "_view_module": "@jupyter-widgets/base",
            "_view_module_version": "1.2.0",
            "_view_name": "StyleView",
            "description_width": ""
          }
        },
        "e4be8852cef644fba36bfc276e16dc58": {
          "model_module": "@jupyter-widgets/controls",
          "model_name": "HBoxModel",
          "model_module_version": "1.5.0",
          "state": {
            "_dom_classes": [],
            "_model_module": "@jupyter-widgets/controls",
            "_model_module_version": "1.5.0",
            "_model_name": "HBoxModel",
            "_view_count": null,
            "_view_module": "@jupyter-widgets/controls",
            "_view_module_version": "1.5.0",
            "_view_name": "HBoxView",
            "box_style": "",
            "children": [
              "IPY_MODEL_a4c7466a6c174d9997bd4e54a08a9288",
              "IPY_MODEL_00494b0ca1de45d885b2b63765500afa",
              "IPY_MODEL_b5273c791f35446ebfa8a1c9601aeaee"
            ],
            "layout": "IPY_MODEL_fa949d96b9c247c382c6995a78ff51aa"
          }
        },
        "a4c7466a6c174d9997bd4e54a08a9288": {
          "model_module": "@jupyter-widgets/controls",
          "model_name": "HTMLModel",
          "model_module_version": "1.5.0",
          "state": {
            "_dom_classes": [],
            "_model_module": "@jupyter-widgets/controls",
            "_model_module_version": "1.5.0",
            "_model_name": "HTMLModel",
            "_view_count": null,
            "_view_module": "@jupyter-widgets/controls",
            "_view_module_version": "1.5.0",
            "_view_name": "HTMLView",
            "description": "",
            "description_tooltip": null,
            "layout": "IPY_MODEL_c5643d19487643029d52e1b8c8e531bb",
            "placeholder": "​",
            "style": "IPY_MODEL_c1901e2356d845028b1b0f6090130ad3",
            "value": "Downloading readme: 100%"
          }
        },
        "00494b0ca1de45d885b2b63765500afa": {
          "model_module": "@jupyter-widgets/controls",
          "model_name": "FloatProgressModel",
          "model_module_version": "1.5.0",
          "state": {
            "_dom_classes": [],
            "_model_module": "@jupyter-widgets/controls",
            "_model_module_version": "1.5.0",
            "_model_name": "FloatProgressModel",
            "_view_count": null,
            "_view_module": "@jupyter-widgets/controls",
            "_view_module_version": "1.5.0",
            "_view_name": "ProgressView",
            "bar_style": "success",
            "description": "",
            "description_tooltip": null,
            "layout": "IPY_MODEL_b75bbe5e89994d179ab6aa17c03a3273",
            "max": 10718,
            "min": 0,
            "orientation": "horizontal",
            "style": "IPY_MODEL_d46070fe1ae843c8af08676a55d09007",
            "value": 10718
          }
        },
        "b5273c791f35446ebfa8a1c9601aeaee": {
          "model_module": "@jupyter-widgets/controls",
          "model_name": "HTMLModel",
          "model_module_version": "1.5.0",
          "state": {
            "_dom_classes": [],
            "_model_module": "@jupyter-widgets/controls",
            "_model_module_version": "1.5.0",
            "_model_name": "HTMLModel",
            "_view_count": null,
            "_view_module": "@jupyter-widgets/controls",
            "_view_module_version": "1.5.0",
            "_view_name": "HTMLView",
            "description": "",
            "description_tooltip": null,
            "layout": "IPY_MODEL_d75d2d4890fd479fa3c91633b58cc694",
            "placeholder": "​",
            "style": "IPY_MODEL_172c50be4de34e13808f58dfd1ee5649",
            "value": " 10.7k/10.7k [00:00&lt;00:00, 447kB/s]"
          }
        },
        "fa949d96b9c247c382c6995a78ff51aa": {
          "model_module": "@jupyter-widgets/base",
          "model_name": "LayoutModel",
          "model_module_version": "1.2.0",
          "state": {
            "_model_module": "@jupyter-widgets/base",
            "_model_module_version": "1.2.0",
            "_model_name": "LayoutModel",
            "_view_count": null,
            "_view_module": "@jupyter-widgets/base",
            "_view_module_version": "1.2.0",
            "_view_name": "LayoutView",
            "align_content": null,
            "align_items": null,
            "align_self": null,
            "border": null,
            "bottom": null,
            "display": null,
            "flex": null,
            "flex_flow": null,
            "grid_area": null,
            "grid_auto_columns": null,
            "grid_auto_flow": null,
            "grid_auto_rows": null,
            "grid_column": null,
            "grid_gap": null,
            "grid_row": null,
            "grid_template_areas": null,
            "grid_template_columns": null,
            "grid_template_rows": null,
            "height": null,
            "justify_content": null,
            "justify_items": null,
            "left": null,
            "margin": null,
            "max_height": null,
            "max_width": null,
            "min_height": null,
            "min_width": null,
            "object_fit": null,
            "object_position": null,
            "order": null,
            "overflow": null,
            "overflow_x": null,
            "overflow_y": null,
            "padding": null,
            "right": null,
            "top": null,
            "visibility": null,
            "width": null
          }
        },
        "c5643d19487643029d52e1b8c8e531bb": {
          "model_module": "@jupyter-widgets/base",
          "model_name": "LayoutModel",
          "model_module_version": "1.2.0",
          "state": {
            "_model_module": "@jupyter-widgets/base",
            "_model_module_version": "1.2.0",
            "_model_name": "LayoutModel",
            "_view_count": null,
            "_view_module": "@jupyter-widgets/base",
            "_view_module_version": "1.2.0",
            "_view_name": "LayoutView",
            "align_content": null,
            "align_items": null,
            "align_self": null,
            "border": null,
            "bottom": null,
            "display": null,
            "flex": null,
            "flex_flow": null,
            "grid_area": null,
            "grid_auto_columns": null,
            "grid_auto_flow": null,
            "grid_auto_rows": null,
            "grid_column": null,
            "grid_gap": null,
            "grid_row": null,
            "grid_template_areas": null,
            "grid_template_columns": null,
            "grid_template_rows": null,
            "height": null,
            "justify_content": null,
            "justify_items": null,
            "left": null,
            "margin": null,
            "max_height": null,
            "max_width": null,
            "min_height": null,
            "min_width": null,
            "object_fit": null,
            "object_position": null,
            "order": null,
            "overflow": null,
            "overflow_x": null,
            "overflow_y": null,
            "padding": null,
            "right": null,
            "top": null,
            "visibility": null,
            "width": null
          }
        },
        "c1901e2356d845028b1b0f6090130ad3": {
          "model_module": "@jupyter-widgets/controls",
          "model_name": "DescriptionStyleModel",
          "model_module_version": "1.5.0",
          "state": {
            "_model_module": "@jupyter-widgets/controls",
            "_model_module_version": "1.5.0",
            "_model_name": "DescriptionStyleModel",
            "_view_count": null,
            "_view_module": "@jupyter-widgets/base",
            "_view_module_version": "1.2.0",
            "_view_name": "StyleView",
            "description_width": ""
          }
        },
        "b75bbe5e89994d179ab6aa17c03a3273": {
          "model_module": "@jupyter-widgets/base",
          "model_name": "LayoutModel",
          "model_module_version": "1.2.0",
          "state": {
            "_model_module": "@jupyter-widgets/base",
            "_model_module_version": "1.2.0",
            "_model_name": "LayoutModel",
            "_view_count": null,
            "_view_module": "@jupyter-widgets/base",
            "_view_module_version": "1.2.0",
            "_view_name": "LayoutView",
            "align_content": null,
            "align_items": null,
            "align_self": null,
            "border": null,
            "bottom": null,
            "display": null,
            "flex": null,
            "flex_flow": null,
            "grid_area": null,
            "grid_auto_columns": null,
            "grid_auto_flow": null,
            "grid_auto_rows": null,
            "grid_column": null,
            "grid_gap": null,
            "grid_row": null,
            "grid_template_areas": null,
            "grid_template_columns": null,
            "grid_template_rows": null,
            "height": null,
            "justify_content": null,
            "justify_items": null,
            "left": null,
            "margin": null,
            "max_height": null,
            "max_width": null,
            "min_height": null,
            "min_width": null,
            "object_fit": null,
            "object_position": null,
            "order": null,
            "overflow": null,
            "overflow_x": null,
            "overflow_y": null,
            "padding": null,
            "right": null,
            "top": null,
            "visibility": null,
            "width": null
          }
        },
        "d46070fe1ae843c8af08676a55d09007": {
          "model_module": "@jupyter-widgets/controls",
          "model_name": "ProgressStyleModel",
          "model_module_version": "1.5.0",
          "state": {
            "_model_module": "@jupyter-widgets/controls",
            "_model_module_version": "1.5.0",
            "_model_name": "ProgressStyleModel",
            "_view_count": null,
            "_view_module": "@jupyter-widgets/base",
            "_view_module_version": "1.2.0",
            "_view_name": "StyleView",
            "bar_color": null,
            "description_width": ""
          }
        },
        "d75d2d4890fd479fa3c91633b58cc694": {
          "model_module": "@jupyter-widgets/base",
          "model_name": "LayoutModel",
          "model_module_version": "1.2.0",
          "state": {
            "_model_module": "@jupyter-widgets/base",
            "_model_module_version": "1.2.0",
            "_model_name": "LayoutModel",
            "_view_count": null,
            "_view_module": "@jupyter-widgets/base",
            "_view_module_version": "1.2.0",
            "_view_name": "LayoutView",
            "align_content": null,
            "align_items": null,
            "align_self": null,
            "border": null,
            "bottom": null,
            "display": null,
            "flex": null,
            "flex_flow": null,
            "grid_area": null,
            "grid_auto_columns": null,
            "grid_auto_flow": null,
            "grid_auto_rows": null,
            "grid_column": null,
            "grid_gap": null,
            "grid_row": null,
            "grid_template_areas": null,
            "grid_template_columns": null,
            "grid_template_rows": null,
            "height": null,
            "justify_content": null,
            "justify_items": null,
            "left": null,
            "margin": null,
            "max_height": null,
            "max_width": null,
            "min_height": null,
            "min_width": null,
            "object_fit": null,
            "object_position": null,
            "order": null,
            "overflow": null,
            "overflow_x": null,
            "overflow_y": null,
            "padding": null,
            "right": null,
            "top": null,
            "visibility": null,
            "width": null
          }
        },
        "172c50be4de34e13808f58dfd1ee5649": {
          "model_module": "@jupyter-widgets/controls",
          "model_name": "DescriptionStyleModel",
          "model_module_version": "1.5.0",
          "state": {
            "_model_module": "@jupyter-widgets/controls",
            "_model_module_version": "1.5.0",
            "_model_name": "DescriptionStyleModel",
            "_view_count": null,
            "_view_module": "@jupyter-widgets/base",
            "_view_module_version": "1.2.0",
            "_view_name": "StyleView",
            "description_width": ""
          }
        },
        "3643ce57671d46688638368e60a415e6": {
          "model_module": "@jupyter-widgets/controls",
          "model_name": "HBoxModel",
          "model_module_version": "1.5.0",
          "state": {
            "_dom_classes": [],
            "_model_module": "@jupyter-widgets/controls",
            "_model_module_version": "1.5.0",
            "_model_name": "HBoxModel",
            "_view_count": null,
            "_view_module": "@jupyter-widgets/controls",
            "_view_module_version": "1.5.0",
            "_view_name": "HBoxView",
            "box_style": "",
            "children": [
              "IPY_MODEL_d5d35691dd38449e9b60a6c680a39978",
              "IPY_MODEL_43e5a4427a27452b908a6e8b84a6c647",
              "IPY_MODEL_dd158585803143e7b39c1e9a154d93d6"
            ],
            "layout": "IPY_MODEL_66ac510b6e5e4e2197290d037d21296d"
          }
        },
        "d5d35691dd38449e9b60a6c680a39978": {
          "model_module": "@jupyter-widgets/controls",
          "model_name": "HTMLModel",
          "model_module_version": "1.5.0",
          "state": {
            "_dom_classes": [],
            "_model_module": "@jupyter-widgets/controls",
            "_model_module_version": "1.5.0",
            "_model_name": "HTMLModel",
            "_view_count": null,
            "_view_module": "@jupyter-widgets/controls",
            "_view_module_version": "1.5.0",
            "_view_name": "HTMLView",
            "description": "",
            "description_tooltip": null,
            "layout": "IPY_MODEL_7b621e319f47442589a1a1c9cece9c42",
            "placeholder": "​",
            "style": "IPY_MODEL_7c2ba23d85c94708970b11c4085eca2c",
            "value": "Downloading data: 100%"
          }
        },
        "43e5a4427a27452b908a6e8b84a6c647": {
          "model_module": "@jupyter-widgets/controls",
          "model_name": "FloatProgressModel",
          "model_module_version": "1.5.0",
          "state": {
            "_dom_classes": [],
            "_model_module": "@jupyter-widgets/controls",
            "_model_module_version": "1.5.0",
            "_model_name": "FloatProgressModel",
            "_view_count": null,
            "_view_module": "@jupyter-widgets/controls",
            "_view_module_version": "1.5.0",
            "_view_name": "ProgressView",
            "bar_style": "success",
            "description": "",
            "description_tooltip": null,
            "layout": "IPY_MODEL_c723ec3113794587acc4769704ebde25",
            "max": 79702,
            "min": 0,
            "orientation": "horizontal",
            "style": "IPY_MODEL_545aed44067b4f7e8185e0cd29228e54",
            "value": 79702
          }
        },
        "dd158585803143e7b39c1e9a154d93d6": {
          "model_module": "@jupyter-widgets/controls",
          "model_name": "HTMLModel",
          "model_module_version": "1.5.0",
          "state": {
            "_dom_classes": [],
            "_model_module": "@jupyter-widgets/controls",
            "_model_module_version": "1.5.0",
            "_model_name": "HTMLModel",
            "_view_count": null,
            "_view_module": "@jupyter-widgets/controls",
            "_view_module_version": "1.5.0",
            "_view_name": "HTMLView",
            "description": "",
            "description_tooltip": null,
            "layout": "IPY_MODEL_1e1cafed597644b58aa72d517d1fc122",
            "placeholder": "​",
            "style": "IPY_MODEL_96a96263c84e4051929a5dfdd6e26946",
            "value": " 79.7k/79.7k [00:00&lt;00:00, 135kB/s]"
          }
        },
        "66ac510b6e5e4e2197290d037d21296d": {
          "model_module": "@jupyter-widgets/base",
          "model_name": "LayoutModel",
          "model_module_version": "1.2.0",
          "state": {
            "_model_module": "@jupyter-widgets/base",
            "_model_module_version": "1.2.0",
            "_model_name": "LayoutModel",
            "_view_count": null,
            "_view_module": "@jupyter-widgets/base",
            "_view_module_version": "1.2.0",
            "_view_name": "LayoutView",
            "align_content": null,
            "align_items": null,
            "align_self": null,
            "border": null,
            "bottom": null,
            "display": null,
            "flex": null,
            "flex_flow": null,
            "grid_area": null,
            "grid_auto_columns": null,
            "grid_auto_flow": null,
            "grid_auto_rows": null,
            "grid_column": null,
            "grid_gap": null,
            "grid_row": null,
            "grid_template_areas": null,
            "grid_template_columns": null,
            "grid_template_rows": null,
            "height": null,
            "justify_content": null,
            "justify_items": null,
            "left": null,
            "margin": null,
            "max_height": null,
            "max_width": null,
            "min_height": null,
            "min_width": null,
            "object_fit": null,
            "object_position": null,
            "order": null,
            "overflow": null,
            "overflow_x": null,
            "overflow_y": null,
            "padding": null,
            "right": null,
            "top": null,
            "visibility": null,
            "width": null
          }
        },
        "7b621e319f47442589a1a1c9cece9c42": {
          "model_module": "@jupyter-widgets/base",
          "model_name": "LayoutModel",
          "model_module_version": "1.2.0",
          "state": {
            "_model_module": "@jupyter-widgets/base",
            "_model_module_version": "1.2.0",
            "_model_name": "LayoutModel",
            "_view_count": null,
            "_view_module": "@jupyter-widgets/base",
            "_view_module_version": "1.2.0",
            "_view_name": "LayoutView",
            "align_content": null,
            "align_items": null,
            "align_self": null,
            "border": null,
            "bottom": null,
            "display": null,
            "flex": null,
            "flex_flow": null,
            "grid_area": null,
            "grid_auto_columns": null,
            "grid_auto_flow": null,
            "grid_auto_rows": null,
            "grid_column": null,
            "grid_gap": null,
            "grid_row": null,
            "grid_template_areas": null,
            "grid_template_columns": null,
            "grid_template_rows": null,
            "height": null,
            "justify_content": null,
            "justify_items": null,
            "left": null,
            "margin": null,
            "max_height": null,
            "max_width": null,
            "min_height": null,
            "min_width": null,
            "object_fit": null,
            "object_position": null,
            "order": null,
            "overflow": null,
            "overflow_x": null,
            "overflow_y": null,
            "padding": null,
            "right": null,
            "top": null,
            "visibility": null,
            "width": null
          }
        },
        "7c2ba23d85c94708970b11c4085eca2c": {
          "model_module": "@jupyter-widgets/controls",
          "model_name": "DescriptionStyleModel",
          "model_module_version": "1.5.0",
          "state": {
            "_model_module": "@jupyter-widgets/controls",
            "_model_module_version": "1.5.0",
            "_model_name": "DescriptionStyleModel",
            "_view_count": null,
            "_view_module": "@jupyter-widgets/base",
            "_view_module_version": "1.2.0",
            "_view_name": "StyleView",
            "description_width": ""
          }
        },
        "c723ec3113794587acc4769704ebde25": {
          "model_module": "@jupyter-widgets/base",
          "model_name": "LayoutModel",
          "model_module_version": "1.2.0",
          "state": {
            "_model_module": "@jupyter-widgets/base",
            "_model_module_version": "1.2.0",
            "_model_name": "LayoutModel",
            "_view_count": null,
            "_view_module": "@jupyter-widgets/base",
            "_view_module_version": "1.2.0",
            "_view_name": "LayoutView",
            "align_content": null,
            "align_items": null,
            "align_self": null,
            "border": null,
            "bottom": null,
            "display": null,
            "flex": null,
            "flex_flow": null,
            "grid_area": null,
            "grid_auto_columns": null,
            "grid_auto_flow": null,
            "grid_auto_rows": null,
            "grid_column": null,
            "grid_gap": null,
            "grid_row": null,
            "grid_template_areas": null,
            "grid_template_columns": null,
            "grid_template_rows": null,
            "height": null,
            "justify_content": null,
            "justify_items": null,
            "left": null,
            "margin": null,
            "max_height": null,
            "max_width": null,
            "min_height": null,
            "min_width": null,
            "object_fit": null,
            "object_position": null,
            "order": null,
            "overflow": null,
            "overflow_x": null,
            "overflow_y": null,
            "padding": null,
            "right": null,
            "top": null,
            "visibility": null,
            "width": null
          }
        },
        "545aed44067b4f7e8185e0cd29228e54": {
          "model_module": "@jupyter-widgets/controls",
          "model_name": "ProgressStyleModel",
          "model_module_version": "1.5.0",
          "state": {
            "_model_module": "@jupyter-widgets/controls",
            "_model_module_version": "1.5.0",
            "_model_name": "ProgressStyleModel",
            "_view_count": null,
            "_view_module": "@jupyter-widgets/base",
            "_view_module_version": "1.2.0",
            "_view_name": "StyleView",
            "bar_color": null,
            "description_width": ""
          }
        },
        "1e1cafed597644b58aa72d517d1fc122": {
          "model_module": "@jupyter-widgets/base",
          "model_name": "LayoutModel",
          "model_module_version": "1.2.0",
          "state": {
            "_model_module": "@jupyter-widgets/base",
            "_model_module_version": "1.2.0",
            "_model_name": "LayoutModel",
            "_view_count": null,
            "_view_module": "@jupyter-widgets/base",
            "_view_module_version": "1.2.0",
            "_view_name": "LayoutView",
            "align_content": null,
            "align_items": null,
            "align_self": null,
            "border": null,
            "bottom": null,
            "display": null,
            "flex": null,
            "flex_flow": null,
            "grid_area": null,
            "grid_auto_columns": null,
            "grid_auto_flow": null,
            "grid_auto_rows": null,
            "grid_column": null,
            "grid_gap": null,
            "grid_row": null,
            "grid_template_areas": null,
            "grid_template_columns": null,
            "grid_template_rows": null,
            "height": null,
            "justify_content": null,
            "justify_items": null,
            "left": null,
            "margin": null,
            "max_height": null,
            "max_width": null,
            "min_height": null,
            "min_width": null,
            "object_fit": null,
            "object_position": null,
            "order": null,
            "overflow": null,
            "overflow_x": null,
            "overflow_y": null,
            "padding": null,
            "right": null,
            "top": null,
            "visibility": null,
            "width": null
          }
        },
        "96a96263c84e4051929a5dfdd6e26946": {
          "model_module": "@jupyter-widgets/controls",
          "model_name": "DescriptionStyleModel",
          "model_module_version": "1.5.0",
          "state": {
            "_model_module": "@jupyter-widgets/controls",
            "_model_module_version": "1.5.0",
            "_model_name": "DescriptionStyleModel",
            "_view_count": null,
            "_view_module": "@jupyter-widgets/base",
            "_view_module_version": "1.2.0",
            "_view_name": "StyleView",
            "description_width": ""
          }
        },
        "779a53a364a74e8daf30f38bf9a35f2c": {
          "model_module": "@jupyter-widgets/controls",
          "model_name": "HBoxModel",
          "model_module_version": "1.5.0",
          "state": {
            "_dom_classes": [],
            "_model_module": "@jupyter-widgets/controls",
            "_model_module_version": "1.5.0",
            "_model_name": "HBoxModel",
            "_view_count": null,
            "_view_module": "@jupyter-widgets/controls",
            "_view_module_version": "1.5.0",
            "_view_name": "HBoxView",
            "box_style": "",
            "children": [
              "IPY_MODEL_c3d394fbb827449188332d04808f5be1",
              "IPY_MODEL_af154915797540328a6edc0446268664",
              "IPY_MODEL_6045658eab3247f2bffa96248d17af31"
            ],
            "layout": "IPY_MODEL_a663e2448d3e4390b6870059c8f32ade"
          }
        },
        "c3d394fbb827449188332d04808f5be1": {
          "model_module": "@jupyter-widgets/controls",
          "model_name": "HTMLModel",
          "model_module_version": "1.5.0",
          "state": {
            "_dom_classes": [],
            "_model_module": "@jupyter-widgets/controls",
            "_model_module_version": "1.5.0",
            "_model_name": "HTMLModel",
            "_view_count": null,
            "_view_module": "@jupyter-widgets/controls",
            "_view_module_version": "1.5.0",
            "_view_name": "HTMLView",
            "description": "",
            "description_tooltip": null,
            "layout": "IPY_MODEL_65a585891577459b8f09e8f6208a2b96",
            "placeholder": "​",
            "style": "IPY_MODEL_ff3e9ed9fa0045f69eec70b68d3daf6a",
            "value": "Downloading data: 100%"
          }
        },
        "af154915797540328a6edc0446268664": {
          "model_module": "@jupyter-widgets/controls",
          "model_name": "FloatProgressModel",
          "model_module_version": "1.5.0",
          "state": {
            "_dom_classes": [],
            "_model_module": "@jupyter-widgets/controls",
            "_model_module_version": "1.5.0",
            "_model_name": "FloatProgressModel",
            "_view_count": null,
            "_view_module": "@jupyter-widgets/controls",
            "_view_module_version": "1.5.0",
            "_view_name": "ProgressView",
            "bar_style": "success",
            "description": "",
            "description_tooltip": null,
            "layout": "IPY_MODEL_bd7dbbe1d9a94d64b141531a582d866a",
            "max": 689294,
            "min": 0,
            "orientation": "horizontal",
            "style": "IPY_MODEL_1095ece627134c8f9395822b3710113c",
            "value": 689294
          }
        },
        "6045658eab3247f2bffa96248d17af31": {
          "model_module": "@jupyter-widgets/controls",
          "model_name": "HTMLModel",
          "model_module_version": "1.5.0",
          "state": {
            "_dom_classes": [],
            "_model_module": "@jupyter-widgets/controls",
            "_model_module_version": "1.5.0",
            "_model_name": "HTMLModel",
            "_view_count": null,
            "_view_module": "@jupyter-widgets/controls",
            "_view_module_version": "1.5.0",
            "_view_name": "HTMLView",
            "description": "",
            "description_tooltip": null,
            "layout": "IPY_MODEL_c1a8b4cc36ba4051b59ff2bc42cf8b06",
            "placeholder": "​",
            "style": "IPY_MODEL_0fba981c448b4611843bc1d7350c74ee",
            "value": " 689k/689k [00:00&lt;00:00, 1.28MB/s]"
          }
        },
        "a663e2448d3e4390b6870059c8f32ade": {
          "model_module": "@jupyter-widgets/base",
          "model_name": "LayoutModel",
          "model_module_version": "1.2.0",
          "state": {
            "_model_module": "@jupyter-widgets/base",
            "_model_module_version": "1.2.0",
            "_model_name": "LayoutModel",
            "_view_count": null,
            "_view_module": "@jupyter-widgets/base",
            "_view_module_version": "1.2.0",
            "_view_name": "LayoutView",
            "align_content": null,
            "align_items": null,
            "align_self": null,
            "border": null,
            "bottom": null,
            "display": null,
            "flex": null,
            "flex_flow": null,
            "grid_area": null,
            "grid_auto_columns": null,
            "grid_auto_flow": null,
            "grid_auto_rows": null,
            "grid_column": null,
            "grid_gap": null,
            "grid_row": null,
            "grid_template_areas": null,
            "grid_template_columns": null,
            "grid_template_rows": null,
            "height": null,
            "justify_content": null,
            "justify_items": null,
            "left": null,
            "margin": null,
            "max_height": null,
            "max_width": null,
            "min_height": null,
            "min_width": null,
            "object_fit": null,
            "object_position": null,
            "order": null,
            "overflow": null,
            "overflow_x": null,
            "overflow_y": null,
            "padding": null,
            "right": null,
            "top": null,
            "visibility": null,
            "width": null
          }
        },
        "65a585891577459b8f09e8f6208a2b96": {
          "model_module": "@jupyter-widgets/base",
          "model_name": "LayoutModel",
          "model_module_version": "1.2.0",
          "state": {
            "_model_module": "@jupyter-widgets/base",
            "_model_module_version": "1.2.0",
            "_model_name": "LayoutModel",
            "_view_count": null,
            "_view_module": "@jupyter-widgets/base",
            "_view_module_version": "1.2.0",
            "_view_name": "LayoutView",
            "align_content": null,
            "align_items": null,
            "align_self": null,
            "border": null,
            "bottom": null,
            "display": null,
            "flex": null,
            "flex_flow": null,
            "grid_area": null,
            "grid_auto_columns": null,
            "grid_auto_flow": null,
            "grid_auto_rows": null,
            "grid_column": null,
            "grid_gap": null,
            "grid_row": null,
            "grid_template_areas": null,
            "grid_template_columns": null,
            "grid_template_rows": null,
            "height": null,
            "justify_content": null,
            "justify_items": null,
            "left": null,
            "margin": null,
            "max_height": null,
            "max_width": null,
            "min_height": null,
            "min_width": null,
            "object_fit": null,
            "object_position": null,
            "order": null,
            "overflow": null,
            "overflow_x": null,
            "overflow_y": null,
            "padding": null,
            "right": null,
            "top": null,
            "visibility": null,
            "width": null
          }
        },
        "ff3e9ed9fa0045f69eec70b68d3daf6a": {
          "model_module": "@jupyter-widgets/controls",
          "model_name": "DescriptionStyleModel",
          "model_module_version": "1.5.0",
          "state": {
            "_model_module": "@jupyter-widgets/controls",
            "_model_module_version": "1.5.0",
            "_model_name": "DescriptionStyleModel",
            "_view_count": null,
            "_view_module": "@jupyter-widgets/base",
            "_view_module_version": "1.2.0",
            "_view_name": "StyleView",
            "description_width": ""
          }
        },
        "bd7dbbe1d9a94d64b141531a582d866a": {
          "model_module": "@jupyter-widgets/base",
          "model_name": "LayoutModel",
          "model_module_version": "1.2.0",
          "state": {
            "_model_module": "@jupyter-widgets/base",
            "_model_module_version": "1.2.0",
            "_model_name": "LayoutModel",
            "_view_count": null,
            "_view_module": "@jupyter-widgets/base",
            "_view_module_version": "1.2.0",
            "_view_name": "LayoutView",
            "align_content": null,
            "align_items": null,
            "align_self": null,
            "border": null,
            "bottom": null,
            "display": null,
            "flex": null,
            "flex_flow": null,
            "grid_area": null,
            "grid_auto_columns": null,
            "grid_auto_flow": null,
            "grid_auto_rows": null,
            "grid_column": null,
            "grid_gap": null,
            "grid_row": null,
            "grid_template_areas": null,
            "grid_template_columns": null,
            "grid_template_rows": null,
            "height": null,
            "justify_content": null,
            "justify_items": null,
            "left": null,
            "margin": null,
            "max_height": null,
            "max_width": null,
            "min_height": null,
            "min_width": null,
            "object_fit": null,
            "object_position": null,
            "order": null,
            "overflow": null,
            "overflow_x": null,
            "overflow_y": null,
            "padding": null,
            "right": null,
            "top": null,
            "visibility": null,
            "width": null
          }
        },
        "1095ece627134c8f9395822b3710113c": {
          "model_module": "@jupyter-widgets/controls",
          "model_name": "ProgressStyleModel",
          "model_module_version": "1.5.0",
          "state": {
            "_model_module": "@jupyter-widgets/controls",
            "_model_module_version": "1.5.0",
            "_model_name": "ProgressStyleModel",
            "_view_count": null,
            "_view_module": "@jupyter-widgets/base",
            "_view_module_version": "1.2.0",
            "_view_name": "StyleView",
            "bar_color": null,
            "description_width": ""
          }
        },
        "c1a8b4cc36ba4051b59ff2bc42cf8b06": {
          "model_module": "@jupyter-widgets/base",
          "model_name": "LayoutModel",
          "model_module_version": "1.2.0",
          "state": {
            "_model_module": "@jupyter-widgets/base",
            "_model_module_version": "1.2.0",
            "_model_name": "LayoutModel",
            "_view_count": null,
            "_view_module": "@jupyter-widgets/base",
            "_view_module_version": "1.2.0",
            "_view_name": "LayoutView",
            "align_content": null,
            "align_items": null,
            "align_self": null,
            "border": null,
            "bottom": null,
            "display": null,
            "flex": null,
            "flex_flow": null,
            "grid_area": null,
            "grid_auto_columns": null,
            "grid_auto_flow": null,
            "grid_auto_rows": null,
            "grid_column": null,
            "grid_gap": null,
            "grid_row": null,
            "grid_template_areas": null,
            "grid_template_columns": null,
            "grid_template_rows": null,
            "height": null,
            "justify_content": null,
            "justify_items": null,
            "left": null,
            "margin": null,
            "max_height": null,
            "max_width": null,
            "min_height": null,
            "min_width": null,
            "object_fit": null,
            "object_position": null,
            "order": null,
            "overflow": null,
            "overflow_x": null,
            "overflow_y": null,
            "padding": null,
            "right": null,
            "top": null,
            "visibility": null,
            "width": null
          }
        },
        "0fba981c448b4611843bc1d7350c74ee": {
          "model_module": "@jupyter-widgets/controls",
          "model_name": "DescriptionStyleModel",
          "model_module_version": "1.5.0",
          "state": {
            "_model_module": "@jupyter-widgets/controls",
            "_model_module_version": "1.5.0",
            "_model_name": "DescriptionStyleModel",
            "_view_count": null,
            "_view_module": "@jupyter-widgets/base",
            "_view_module_version": "1.2.0",
            "_view_name": "StyleView",
            "description_width": ""
          }
        },
        "f27e83b5ba5249babc831be6fdc3b9d1": {
          "model_module": "@jupyter-widgets/controls",
          "model_name": "HBoxModel",
          "model_module_version": "1.5.0",
          "state": {
            "_dom_classes": [],
            "_model_module": "@jupyter-widgets/controls",
            "_model_module_version": "1.5.0",
            "_model_name": "HBoxModel",
            "_view_count": null,
            "_view_module": "@jupyter-widgets/controls",
            "_view_module_version": "1.5.0",
            "_view_name": "HBoxView",
            "box_style": "",
            "children": [
              "IPY_MODEL_2fa1c0042af94a8b97a8268168684d78",
              "IPY_MODEL_f061c36aa7334ef4af27bd389b03bc1b",
              "IPY_MODEL_0f958882c51b4721894fc68f9cdbf111"
            ],
            "layout": "IPY_MODEL_a57a7c7f8d3743cbb84366c7980b3d4b"
          }
        },
        "2fa1c0042af94a8b97a8268168684d78": {
          "model_module": "@jupyter-widgets/controls",
          "model_name": "HTMLModel",
          "model_module_version": "1.5.0",
          "state": {
            "_dom_classes": [],
            "_model_module": "@jupyter-widgets/controls",
            "_model_module_version": "1.5.0",
            "_model_name": "HTMLModel",
            "_view_count": null,
            "_view_module": "@jupyter-widgets/controls",
            "_view_module_version": "1.5.0",
            "_view_name": "HTMLView",
            "description": "",
            "description_tooltip": null,
            "layout": "IPY_MODEL_6f2dd91a069c4a4a8351e3af5ab5adcd",
            "placeholder": "​",
            "style": "IPY_MODEL_a466062fa01d4dcb8e563f25e8b64cef",
            "value": "Generating test split: 100%"
          }
        },
        "f061c36aa7334ef4af27bd389b03bc1b": {
          "model_module": "@jupyter-widgets/controls",
          "model_name": "FloatProgressModel",
          "model_module_version": "1.5.0",
          "state": {
            "_dom_classes": [],
            "_model_module": "@jupyter-widgets/controls",
            "_model_module_version": "1.5.0",
            "_model_name": "FloatProgressModel",
            "_view_count": null,
            "_view_module": "@jupyter-widgets/controls",
            "_view_module_version": "1.5.0",
            "_view_name": "ProgressView",
            "bar_style": "success",
            "description": "",
            "description_tooltip": null,
            "layout": "IPY_MODEL_163955e4903a454daf32e5c1b4b4ef41",
            "max": 940,
            "min": 0,
            "orientation": "horizontal",
            "style": "IPY_MODEL_66cd670225174f9aab21d8ea43150e27",
            "value": 940
          }
        },
        "0f958882c51b4721894fc68f9cdbf111": {
          "model_module": "@jupyter-widgets/controls",
          "model_name": "HTMLModel",
          "model_module_version": "1.5.0",
          "state": {
            "_dom_classes": [],
            "_model_module": "@jupyter-widgets/controls",
            "_model_module_version": "1.5.0",
            "_model_name": "HTMLModel",
            "_view_count": null,
            "_view_module": "@jupyter-widgets/controls",
            "_view_module_version": "1.5.0",
            "_view_name": "HTMLView",
            "description": "",
            "description_tooltip": null,
            "layout": "IPY_MODEL_fb625a004fb04800b7f3286bdff931b1",
            "placeholder": "​",
            "style": "IPY_MODEL_8c9a820e256e457ca85be7a9ef77be04",
            "value": " 940/940 [00:00&lt;00:00, 21904.68 examples/s]"
          }
        },
        "a57a7c7f8d3743cbb84366c7980b3d4b": {
          "model_module": "@jupyter-widgets/base",
          "model_name": "LayoutModel",
          "model_module_version": "1.2.0",
          "state": {
            "_model_module": "@jupyter-widgets/base",
            "_model_module_version": "1.2.0",
            "_model_name": "LayoutModel",
            "_view_count": null,
            "_view_module": "@jupyter-widgets/base",
            "_view_module_version": "1.2.0",
            "_view_name": "LayoutView",
            "align_content": null,
            "align_items": null,
            "align_self": null,
            "border": null,
            "bottom": null,
            "display": null,
            "flex": null,
            "flex_flow": null,
            "grid_area": null,
            "grid_auto_columns": null,
            "grid_auto_flow": null,
            "grid_auto_rows": null,
            "grid_column": null,
            "grid_gap": null,
            "grid_row": null,
            "grid_template_areas": null,
            "grid_template_columns": null,
            "grid_template_rows": null,
            "height": null,
            "justify_content": null,
            "justify_items": null,
            "left": null,
            "margin": null,
            "max_height": null,
            "max_width": null,
            "min_height": null,
            "min_width": null,
            "object_fit": null,
            "object_position": null,
            "order": null,
            "overflow": null,
            "overflow_x": null,
            "overflow_y": null,
            "padding": null,
            "right": null,
            "top": null,
            "visibility": null,
            "width": null
          }
        },
        "6f2dd91a069c4a4a8351e3af5ab5adcd": {
          "model_module": "@jupyter-widgets/base",
          "model_name": "LayoutModel",
          "model_module_version": "1.2.0",
          "state": {
            "_model_module": "@jupyter-widgets/base",
            "_model_module_version": "1.2.0",
            "_model_name": "LayoutModel",
            "_view_count": null,
            "_view_module": "@jupyter-widgets/base",
            "_view_module_version": "1.2.0",
            "_view_name": "LayoutView",
            "align_content": null,
            "align_items": null,
            "align_self": null,
            "border": null,
            "bottom": null,
            "display": null,
            "flex": null,
            "flex_flow": null,
            "grid_area": null,
            "grid_auto_columns": null,
            "grid_auto_flow": null,
            "grid_auto_rows": null,
            "grid_column": null,
            "grid_gap": null,
            "grid_row": null,
            "grid_template_areas": null,
            "grid_template_columns": null,
            "grid_template_rows": null,
            "height": null,
            "justify_content": null,
            "justify_items": null,
            "left": null,
            "margin": null,
            "max_height": null,
            "max_width": null,
            "min_height": null,
            "min_width": null,
            "object_fit": null,
            "object_position": null,
            "order": null,
            "overflow": null,
            "overflow_x": null,
            "overflow_y": null,
            "padding": null,
            "right": null,
            "top": null,
            "visibility": null,
            "width": null
          }
        },
        "a466062fa01d4dcb8e563f25e8b64cef": {
          "model_module": "@jupyter-widgets/controls",
          "model_name": "DescriptionStyleModel",
          "model_module_version": "1.5.0",
          "state": {
            "_model_module": "@jupyter-widgets/controls",
            "_model_module_version": "1.5.0",
            "_model_name": "DescriptionStyleModel",
            "_view_count": null,
            "_view_module": "@jupyter-widgets/base",
            "_view_module_version": "1.2.0",
            "_view_name": "StyleView",
            "description_width": ""
          }
        },
        "163955e4903a454daf32e5c1b4b4ef41": {
          "model_module": "@jupyter-widgets/base",
          "model_name": "LayoutModel",
          "model_module_version": "1.2.0",
          "state": {
            "_model_module": "@jupyter-widgets/base",
            "_model_module_version": "1.2.0",
            "_model_name": "LayoutModel",
            "_view_count": null,
            "_view_module": "@jupyter-widgets/base",
            "_view_module_version": "1.2.0",
            "_view_name": "LayoutView",
            "align_content": null,
            "align_items": null,
            "align_self": null,
            "border": null,
            "bottom": null,
            "display": null,
            "flex": null,
            "flex_flow": null,
            "grid_area": null,
            "grid_auto_columns": null,
            "grid_auto_flow": null,
            "grid_auto_rows": null,
            "grid_column": null,
            "grid_gap": null,
            "grid_row": null,
            "grid_template_areas": null,
            "grid_template_columns": null,
            "grid_template_rows": null,
            "height": null,
            "justify_content": null,
            "justify_items": null,
            "left": null,
            "margin": null,
            "max_height": null,
            "max_width": null,
            "min_height": null,
            "min_width": null,
            "object_fit": null,
            "object_position": null,
            "order": null,
            "overflow": null,
            "overflow_x": null,
            "overflow_y": null,
            "padding": null,
            "right": null,
            "top": null,
            "visibility": null,
            "width": null
          }
        },
        "66cd670225174f9aab21d8ea43150e27": {
          "model_module": "@jupyter-widgets/controls",
          "model_name": "ProgressStyleModel",
          "model_module_version": "1.5.0",
          "state": {
            "_model_module": "@jupyter-widgets/controls",
            "_model_module_version": "1.5.0",
            "_model_name": "ProgressStyleModel",
            "_view_count": null,
            "_view_module": "@jupyter-widgets/base",
            "_view_module_version": "1.2.0",
            "_view_name": "StyleView",
            "bar_color": null,
            "description_width": ""
          }
        },
        "fb625a004fb04800b7f3286bdff931b1": {
          "model_module": "@jupyter-widgets/base",
          "model_name": "LayoutModel",
          "model_module_version": "1.2.0",
          "state": {
            "_model_module": "@jupyter-widgets/base",
            "_model_module_version": "1.2.0",
            "_model_name": "LayoutModel",
            "_view_count": null,
            "_view_module": "@jupyter-widgets/base",
            "_view_module_version": "1.2.0",
            "_view_name": "LayoutView",
            "align_content": null,
            "align_items": null,
            "align_self": null,
            "border": null,
            "bottom": null,
            "display": null,
            "flex": null,
            "flex_flow": null,
            "grid_area": null,
            "grid_auto_columns": null,
            "grid_auto_flow": null,
            "grid_auto_rows": null,
            "grid_column": null,
            "grid_gap": null,
            "grid_row": null,
            "grid_template_areas": null,
            "grid_template_columns": null,
            "grid_template_rows": null,
            "height": null,
            "justify_content": null,
            "justify_items": null,
            "left": null,
            "margin": null,
            "max_height": null,
            "max_width": null,
            "min_height": null,
            "min_width": null,
            "object_fit": null,
            "object_position": null,
            "order": null,
            "overflow": null,
            "overflow_x": null,
            "overflow_y": null,
            "padding": null,
            "right": null,
            "top": null,
            "visibility": null,
            "width": null
          }
        },
        "8c9a820e256e457ca85be7a9ef77be04": {
          "model_module": "@jupyter-widgets/controls",
          "model_name": "DescriptionStyleModel",
          "model_module_version": "1.5.0",
          "state": {
            "_model_module": "@jupyter-widgets/controls",
            "_model_module_version": "1.5.0",
            "_model_name": "DescriptionStyleModel",
            "_view_count": null,
            "_view_module": "@jupyter-widgets/base",
            "_view_module_version": "1.2.0",
            "_view_name": "StyleView",
            "description_width": ""
          }
        },
        "5b3246e5551b438885ff829b3cff8acd": {
          "model_module": "@jupyter-widgets/controls",
          "model_name": "HBoxModel",
          "model_module_version": "1.5.0",
          "state": {
            "_dom_classes": [],
            "_model_module": "@jupyter-widgets/controls",
            "_model_module_version": "1.5.0",
            "_model_name": "HBoxModel",
            "_view_count": null,
            "_view_module": "@jupyter-widgets/controls",
            "_view_module_version": "1.5.0",
            "_view_name": "HBoxView",
            "box_style": "",
            "children": [
              "IPY_MODEL_1711595b0766400d834e9f4522d92733",
              "IPY_MODEL_9967b68ffc284a8094b9dfe6e2326c83",
              "IPY_MODEL_a32e6feba6bf4e0dad47b506166e2ebe"
            ],
            "layout": "IPY_MODEL_2b44a3d279ab4438acb158bd59d0d62a"
          }
        },
        "1711595b0766400d834e9f4522d92733": {
          "model_module": "@jupyter-widgets/controls",
          "model_name": "HTMLModel",
          "model_module_version": "1.5.0",
          "state": {
            "_dom_classes": [],
            "_model_module": "@jupyter-widgets/controls",
            "_model_module_version": "1.5.0",
            "_model_name": "HTMLModel",
            "_view_count": null,
            "_view_module": "@jupyter-widgets/controls",
            "_view_module_version": "1.5.0",
            "_view_name": "HTMLView",
            "description": "",
            "description_tooltip": null,
            "layout": "IPY_MODEL_d5903bd870b245e9a199d1fda93026aa",
            "placeholder": "​",
            "style": "IPY_MODEL_c594cd45476a412880ca28e69c3e7683",
            "value": "Generating train split: 100%"
          }
        },
        "9967b68ffc284a8094b9dfe6e2326c83": {
          "model_module": "@jupyter-widgets/controls",
          "model_name": "FloatProgressModel",
          "model_module_version": "1.5.0",
          "state": {
            "_dom_classes": [],
            "_model_module": "@jupyter-widgets/controls",
            "_model_module_version": "1.5.0",
            "_model_name": "FloatProgressModel",
            "_view_count": null,
            "_view_module": "@jupyter-widgets/controls",
            "_view_module_version": "1.5.0",
            "_view_name": "ProgressView",
            "bar_style": "success",
            "description": "",
            "description_tooltip": null,
            "layout": "IPY_MODEL_973cbdc0639e4984950a4dc3be95c6d6",
            "max": 8960,
            "min": 0,
            "orientation": "horizontal",
            "style": "IPY_MODEL_99687e59a4564419bebda35317f8cadb",
            "value": 8960
          }
        },
        "a32e6feba6bf4e0dad47b506166e2ebe": {
          "model_module": "@jupyter-widgets/controls",
          "model_name": "HTMLModel",
          "model_module_version": "1.5.0",
          "state": {
            "_dom_classes": [],
            "_model_module": "@jupyter-widgets/controls",
            "_model_module_version": "1.5.0",
            "_model_name": "HTMLModel",
            "_view_count": null,
            "_view_module": "@jupyter-widgets/controls",
            "_view_module_version": "1.5.0",
            "_view_name": "HTMLView",
            "description": "",
            "description_tooltip": null,
            "layout": "IPY_MODEL_fad3e72b0b1440f7944c5cc8ad784d04",
            "placeholder": "​",
            "style": "IPY_MODEL_fb643cfe9abd4f1695e84c3d1bbeccc9",
            "value": " 8960/8960 [00:00&lt;00:00, 140358.41 examples/s]"
          }
        },
        "2b44a3d279ab4438acb158bd59d0d62a": {
          "model_module": "@jupyter-widgets/base",
          "model_name": "LayoutModel",
          "model_module_version": "1.2.0",
          "state": {
            "_model_module": "@jupyter-widgets/base",
            "_model_module_version": "1.2.0",
            "_model_name": "LayoutModel",
            "_view_count": null,
            "_view_module": "@jupyter-widgets/base",
            "_view_module_version": "1.2.0",
            "_view_name": "LayoutView",
            "align_content": null,
            "align_items": null,
            "align_self": null,
            "border": null,
            "bottom": null,
            "display": null,
            "flex": null,
            "flex_flow": null,
            "grid_area": null,
            "grid_auto_columns": null,
            "grid_auto_flow": null,
            "grid_auto_rows": null,
            "grid_column": null,
            "grid_gap": null,
            "grid_row": null,
            "grid_template_areas": null,
            "grid_template_columns": null,
            "grid_template_rows": null,
            "height": null,
            "justify_content": null,
            "justify_items": null,
            "left": null,
            "margin": null,
            "max_height": null,
            "max_width": null,
            "min_height": null,
            "min_width": null,
            "object_fit": null,
            "object_position": null,
            "order": null,
            "overflow": null,
            "overflow_x": null,
            "overflow_y": null,
            "padding": null,
            "right": null,
            "top": null,
            "visibility": null,
            "width": null
          }
        },
        "d5903bd870b245e9a199d1fda93026aa": {
          "model_module": "@jupyter-widgets/base",
          "model_name": "LayoutModel",
          "model_module_version": "1.2.0",
          "state": {
            "_model_module": "@jupyter-widgets/base",
            "_model_module_version": "1.2.0",
            "_model_name": "LayoutModel",
            "_view_count": null,
            "_view_module": "@jupyter-widgets/base",
            "_view_module_version": "1.2.0",
            "_view_name": "LayoutView",
            "align_content": null,
            "align_items": null,
            "align_self": null,
            "border": null,
            "bottom": null,
            "display": null,
            "flex": null,
            "flex_flow": null,
            "grid_area": null,
            "grid_auto_columns": null,
            "grid_auto_flow": null,
            "grid_auto_rows": null,
            "grid_column": null,
            "grid_gap": null,
            "grid_row": null,
            "grid_template_areas": null,
            "grid_template_columns": null,
            "grid_template_rows": null,
            "height": null,
            "justify_content": null,
            "justify_items": null,
            "left": null,
            "margin": null,
            "max_height": null,
            "max_width": null,
            "min_height": null,
            "min_width": null,
            "object_fit": null,
            "object_position": null,
            "order": null,
            "overflow": null,
            "overflow_x": null,
            "overflow_y": null,
            "padding": null,
            "right": null,
            "top": null,
            "visibility": null,
            "width": null
          }
        },
        "c594cd45476a412880ca28e69c3e7683": {
          "model_module": "@jupyter-widgets/controls",
          "model_name": "DescriptionStyleModel",
          "model_module_version": "1.5.0",
          "state": {
            "_model_module": "@jupyter-widgets/controls",
            "_model_module_version": "1.5.0",
            "_model_name": "DescriptionStyleModel",
            "_view_count": null,
            "_view_module": "@jupyter-widgets/base",
            "_view_module_version": "1.2.0",
            "_view_name": "StyleView",
            "description_width": ""
          }
        },
        "973cbdc0639e4984950a4dc3be95c6d6": {
          "model_module": "@jupyter-widgets/base",
          "model_name": "LayoutModel",
          "model_module_version": "1.2.0",
          "state": {
            "_model_module": "@jupyter-widgets/base",
            "_model_module_version": "1.2.0",
            "_model_name": "LayoutModel",
            "_view_count": null,
            "_view_module": "@jupyter-widgets/base",
            "_view_module_version": "1.2.0",
            "_view_name": "LayoutView",
            "align_content": null,
            "align_items": null,
            "align_self": null,
            "border": null,
            "bottom": null,
            "display": null,
            "flex": null,
            "flex_flow": null,
            "grid_area": null,
            "grid_auto_columns": null,
            "grid_auto_flow": null,
            "grid_auto_rows": null,
            "grid_column": null,
            "grid_gap": null,
            "grid_row": null,
            "grid_template_areas": null,
            "grid_template_columns": null,
            "grid_template_rows": null,
            "height": null,
            "justify_content": null,
            "justify_items": null,
            "left": null,
            "margin": null,
            "max_height": null,
            "max_width": null,
            "min_height": null,
            "min_width": null,
            "object_fit": null,
            "object_position": null,
            "order": null,
            "overflow": null,
            "overflow_x": null,
            "overflow_y": null,
            "padding": null,
            "right": null,
            "top": null,
            "visibility": null,
            "width": null
          }
        },
        "99687e59a4564419bebda35317f8cadb": {
          "model_module": "@jupyter-widgets/controls",
          "model_name": "ProgressStyleModel",
          "model_module_version": "1.5.0",
          "state": {
            "_model_module": "@jupyter-widgets/controls",
            "_model_module_version": "1.5.0",
            "_model_name": "ProgressStyleModel",
            "_view_count": null,
            "_view_module": "@jupyter-widgets/base",
            "_view_module_version": "1.2.0",
            "_view_name": "StyleView",
            "bar_color": null,
            "description_width": ""
          }
        },
        "fad3e72b0b1440f7944c5cc8ad784d04": {
          "model_module": "@jupyter-widgets/base",
          "model_name": "LayoutModel",
          "model_module_version": "1.2.0",
          "state": {
            "_model_module": "@jupyter-widgets/base",
            "_model_module_version": "1.2.0",
            "_model_name": "LayoutModel",
            "_view_count": null,
            "_view_module": "@jupyter-widgets/base",
            "_view_module_version": "1.2.0",
            "_view_name": "LayoutView",
            "align_content": null,
            "align_items": null,
            "align_self": null,
            "border": null,
            "bottom": null,
            "display": null,
            "flex": null,
            "flex_flow": null,
            "grid_area": null,
            "grid_auto_columns": null,
            "grid_auto_flow": null,
            "grid_auto_rows": null,
            "grid_column": null,
            "grid_gap": null,
            "grid_row": null,
            "grid_template_areas": null,
            "grid_template_columns": null,
            "grid_template_rows": null,
            "height": null,
            "justify_content": null,
            "justify_items": null,
            "left": null,
            "margin": null,
            "max_height": null,
            "max_width": null,
            "min_height": null,
            "min_width": null,
            "object_fit": null,
            "object_position": null,
            "order": null,
            "overflow": null,
            "overflow_x": null,
            "overflow_y": null,
            "padding": null,
            "right": null,
            "top": null,
            "visibility": null,
            "width": null
          }
        },
        "fb643cfe9abd4f1695e84c3d1bbeccc9": {
          "model_module": "@jupyter-widgets/controls",
          "model_name": "DescriptionStyleModel",
          "model_module_version": "1.5.0",
          "state": {
            "_model_module": "@jupyter-widgets/controls",
            "_model_module_version": "1.5.0",
            "_model_name": "DescriptionStyleModel",
            "_view_count": null,
            "_view_module": "@jupyter-widgets/base",
            "_view_module_version": "1.2.0",
            "_view_name": "StyleView",
            "description_width": ""
          }
        }
      }
    }
  },
  "cells": [
    {
      "cell_type": "markdown",
      "source": [
        "Install libraries"
      ],
      "metadata": {
        "id": "SejlvWy47Ovs"
      }
    },
    {
      "cell_type": "code",
      "source": [
        "!pip install datasets\n",
        "!pip install keras\n",
        "!pip install keras-self-attention"
      ],
      "metadata": {
        "colab": {
          "base_uri": "https://localhost:8080/"
        },
        "id": "TskUCoAK4ouN",
        "outputId": "b3158750-90e6-4739-e4bc-e29b31252c3b"
      },
      "execution_count": 1,
      "outputs": [
        {
          "output_type": "stream",
          "name": "stdout",
          "text": [
            "Collecting datasets\n",
            "  Downloading datasets-2.20.0-py3-none-any.whl.metadata (19 kB)\n",
            "Requirement already satisfied: filelock in /usr/local/lib/python3.10/dist-packages (from datasets) (3.15.4)\n",
            "Requirement already satisfied: numpy>=1.17 in /usr/local/lib/python3.10/dist-packages (from datasets) (1.26.4)\n",
            "Collecting pyarrow>=15.0.0 (from datasets)\n",
            "  Downloading pyarrow-17.0.0-cp310-cp310-manylinux_2_28_x86_64.whl.metadata (3.3 kB)\n",
            "Requirement already satisfied: pyarrow-hotfix in /usr/local/lib/python3.10/dist-packages (from datasets) (0.6)\n",
            "Collecting dill<0.3.9,>=0.3.0 (from datasets)\n",
            "  Downloading dill-0.3.8-py3-none-any.whl.metadata (10 kB)\n",
            "Requirement already satisfied: pandas in /usr/local/lib/python3.10/dist-packages (from datasets) (2.1.4)\n",
            "Collecting requests>=2.32.2 (from datasets)\n",
            "  Downloading requests-2.32.3-py3-none-any.whl.metadata (4.6 kB)\n",
            "Requirement already satisfied: tqdm>=4.66.3 in /usr/local/lib/python3.10/dist-packages (from datasets) (4.66.4)\n",
            "Collecting xxhash (from datasets)\n",
            "  Downloading xxhash-3.4.1-cp310-cp310-manylinux_2_17_x86_64.manylinux2014_x86_64.whl.metadata (12 kB)\n",
            "Collecting multiprocess (from datasets)\n",
            "  Downloading multiprocess-0.70.16-py310-none-any.whl.metadata (7.2 kB)\n",
            "Collecting fsspec<=2024.5.0,>=2023.1.0 (from fsspec[http]<=2024.5.0,>=2023.1.0->datasets)\n",
            "  Downloading fsspec-2024.5.0-py3-none-any.whl.metadata (11 kB)\n",
            "Requirement already satisfied: aiohttp in /usr/local/lib/python3.10/dist-packages (from datasets) (3.9.5)\n",
            "Requirement already satisfied: huggingface-hub>=0.21.2 in /usr/local/lib/python3.10/dist-packages (from datasets) (0.23.5)\n",
            "Requirement already satisfied: packaging in /usr/local/lib/python3.10/dist-packages (from datasets) (24.1)\n",
            "Requirement already satisfied: pyyaml>=5.1 in /usr/local/lib/python3.10/dist-packages (from datasets) (6.0.1)\n",
            "Requirement already satisfied: aiosignal>=1.1.2 in /usr/local/lib/python3.10/dist-packages (from aiohttp->datasets) (1.3.1)\n",
            "Requirement already satisfied: attrs>=17.3.0 in /usr/local/lib/python3.10/dist-packages (from aiohttp->datasets) (23.2.0)\n",
            "Requirement already satisfied: frozenlist>=1.1.1 in /usr/local/lib/python3.10/dist-packages (from aiohttp->datasets) (1.4.1)\n",
            "Requirement already satisfied: multidict<7.0,>=4.5 in /usr/local/lib/python3.10/dist-packages (from aiohttp->datasets) (6.0.5)\n",
            "Requirement already satisfied: yarl<2.0,>=1.0 in /usr/local/lib/python3.10/dist-packages (from aiohttp->datasets) (1.9.4)\n",
            "Requirement already satisfied: async-timeout<5.0,>=4.0 in /usr/local/lib/python3.10/dist-packages (from aiohttp->datasets) (4.0.3)\n",
            "Requirement already satisfied: typing-extensions>=3.7.4.3 in /usr/local/lib/python3.10/dist-packages (from huggingface-hub>=0.21.2->datasets) (4.12.2)\n",
            "Requirement already satisfied: charset-normalizer<4,>=2 in /usr/local/lib/python3.10/dist-packages (from requests>=2.32.2->datasets) (3.3.2)\n",
            "Requirement already satisfied: idna<4,>=2.5 in /usr/local/lib/python3.10/dist-packages (from requests>=2.32.2->datasets) (3.7)\n",
            "Requirement already satisfied: urllib3<3,>=1.21.1 in /usr/local/lib/python3.10/dist-packages (from requests>=2.32.2->datasets) (2.0.7)\n",
            "Requirement already satisfied: certifi>=2017.4.17 in /usr/local/lib/python3.10/dist-packages (from requests>=2.32.2->datasets) (2024.7.4)\n",
            "Requirement already satisfied: python-dateutil>=2.8.2 in /usr/local/lib/python3.10/dist-packages (from pandas->datasets) (2.8.2)\n",
            "Requirement already satisfied: pytz>=2020.1 in /usr/local/lib/python3.10/dist-packages (from pandas->datasets) (2024.1)\n",
            "Requirement already satisfied: tzdata>=2022.1 in /usr/local/lib/python3.10/dist-packages (from pandas->datasets) (2024.1)\n",
            "Requirement already satisfied: six>=1.5 in /usr/local/lib/python3.10/dist-packages (from python-dateutil>=2.8.2->pandas->datasets) (1.16.0)\n",
            "Downloading datasets-2.20.0-py3-none-any.whl (547 kB)\n",
            "\u001b[2K   \u001b[90m━━━━━━━━━━━━━━━━━━━━━━━━━━━━━━━━━━━━━━━━\u001b[0m \u001b[32m547.8/547.8 kB\u001b[0m \u001b[31m9.9 MB/s\u001b[0m eta \u001b[36m0:00:00\u001b[0m\n",
            "\u001b[?25hDownloading dill-0.3.8-py3-none-any.whl (116 kB)\n",
            "\u001b[2K   \u001b[90m━━━━━━━━━━━━━━━━━━━━━━━━━━━━━━━━━━━━━━━━\u001b[0m \u001b[32m116.3/116.3 kB\u001b[0m \u001b[31m6.4 MB/s\u001b[0m eta \u001b[36m0:00:00\u001b[0m\n",
            "\u001b[?25hDownloading fsspec-2024.5.0-py3-none-any.whl (316 kB)\n",
            "\u001b[2K   \u001b[90m━━━━━━━━━━━━━━━━━━━━━━━━━━━━━━━━━━━━━━━━\u001b[0m \u001b[32m316.1/316.1 kB\u001b[0m \u001b[31m5.0 MB/s\u001b[0m eta \u001b[36m0:00:00\u001b[0m\n",
            "\u001b[?25hDownloading pyarrow-17.0.0-cp310-cp310-manylinux_2_28_x86_64.whl (39.9 MB)\n",
            "\u001b[2K   \u001b[90m━━━━━━━━━━━━━━━━━━━━━━━━━━━━━━━━━━━━━━━━\u001b[0m \u001b[32m39.9/39.9 MB\u001b[0m \u001b[31m11.1 MB/s\u001b[0m eta \u001b[36m0:00:00\u001b[0m\n",
            "\u001b[?25hDownloading requests-2.32.3-py3-none-any.whl (64 kB)\n",
            "\u001b[2K   \u001b[90m━━━━━━━━━━━━━━━━━━━━━━━━━━━━━━━━━━━━━━━━\u001b[0m \u001b[32m64.9/64.9 kB\u001b[0m \u001b[31m3.5 MB/s\u001b[0m eta \u001b[36m0:00:00\u001b[0m\n",
            "\u001b[?25hDownloading multiprocess-0.70.16-py310-none-any.whl (134 kB)\n",
            "\u001b[2K   \u001b[90m━━━━━━━━━━━━━━━━━━━━━━━━━━━━━━━━━━━━━━━━\u001b[0m \u001b[32m134.8/134.8 kB\u001b[0m \u001b[31m8.5 MB/s\u001b[0m eta \u001b[36m0:00:00\u001b[0m\n",
            "\u001b[?25hDownloading xxhash-3.4.1-cp310-cp310-manylinux_2_17_x86_64.manylinux2014_x86_64.whl (194 kB)\n",
            "\u001b[2K   \u001b[90m━━━━━━━━━━━━━━━━━━━━━━━━━━━━━━━━━━━━━━━━\u001b[0m \u001b[32m194.1/194.1 kB\u001b[0m \u001b[31m11.3 MB/s\u001b[0m eta \u001b[36m0:00:00\u001b[0m\n",
            "\u001b[?25hInstalling collected packages: xxhash, requests, pyarrow, fsspec, dill, multiprocess, datasets\n",
            "  Attempting uninstall: requests\n",
            "    Found existing installation: requests 2.31.0\n",
            "    Uninstalling requests-2.31.0:\n",
            "      Successfully uninstalled requests-2.31.0\n",
            "  Attempting uninstall: pyarrow\n",
            "    Found existing installation: pyarrow 14.0.2\n",
            "    Uninstalling pyarrow-14.0.2:\n",
            "      Successfully uninstalled pyarrow-14.0.2\n",
            "  Attempting uninstall: fsspec\n",
            "    Found existing installation: fsspec 2024.6.1\n",
            "    Uninstalling fsspec-2024.6.1:\n",
            "      Successfully uninstalled fsspec-2024.6.1\n",
            "\u001b[31mERROR: pip's dependency resolver does not currently take into account all the packages that are installed. This behaviour is the source of the following dependency conflicts.\n",
            "torch 2.3.1+cu121 requires nvidia-cublas-cu12==12.1.3.1; platform_system == \"Linux\" and platform_machine == \"x86_64\", which is not installed.\n",
            "torch 2.3.1+cu121 requires nvidia-cuda-cupti-cu12==12.1.105; platform_system == \"Linux\" and platform_machine == \"x86_64\", which is not installed.\n",
            "torch 2.3.1+cu121 requires nvidia-cuda-nvrtc-cu12==12.1.105; platform_system == \"Linux\" and platform_machine == \"x86_64\", which is not installed.\n",
            "torch 2.3.1+cu121 requires nvidia-cuda-runtime-cu12==12.1.105; platform_system == \"Linux\" and platform_machine == \"x86_64\", which is not installed.\n",
            "torch 2.3.1+cu121 requires nvidia-cudnn-cu12==8.9.2.26; platform_system == \"Linux\" and platform_machine == \"x86_64\", which is not installed.\n",
            "torch 2.3.1+cu121 requires nvidia-cufft-cu12==11.0.2.54; platform_system == \"Linux\" and platform_machine == \"x86_64\", which is not installed.\n",
            "torch 2.3.1+cu121 requires nvidia-curand-cu12==10.3.2.106; platform_system == \"Linux\" and platform_machine == \"x86_64\", which is not installed.\n",
            "torch 2.3.1+cu121 requires nvidia-cusolver-cu12==11.4.5.107; platform_system == \"Linux\" and platform_machine == \"x86_64\", which is not installed.\n",
            "torch 2.3.1+cu121 requires nvidia-cusparse-cu12==12.1.0.106; platform_system == \"Linux\" and platform_machine == \"x86_64\", which is not installed.\n",
            "torch 2.3.1+cu121 requires nvidia-nccl-cu12==2.20.5; platform_system == \"Linux\" and platform_machine == \"x86_64\", which is not installed.\n",
            "torch 2.3.1+cu121 requires nvidia-nvtx-cu12==12.1.105; platform_system == \"Linux\" and platform_machine == \"x86_64\", which is not installed.\n",
            "cudf-cu12 24.4.1 requires pyarrow<15.0.0a0,>=14.0.1, but you have pyarrow 17.0.0 which is incompatible.\n",
            "gcsfs 2024.6.1 requires fsspec==2024.6.1, but you have fsspec 2024.5.0 which is incompatible.\n",
            "google-colab 1.0.0 requires requests==2.31.0, but you have requests 2.32.3 which is incompatible.\n",
            "ibis-framework 8.0.0 requires pyarrow<16,>=2, but you have pyarrow 17.0.0 which is incompatible.\u001b[0m\u001b[31m\n",
            "\u001b[0mSuccessfully installed datasets-2.20.0 dill-0.3.8 fsspec-2024.5.0 multiprocess-0.70.16 pyarrow-17.0.0 requests-2.32.3 xxhash-3.4.1\n",
            "Requirement already satisfied: keras in /usr/local/lib/python3.10/dist-packages (3.4.1)\n",
            "Requirement already satisfied: absl-py in /usr/local/lib/python3.10/dist-packages (from keras) (1.4.0)\n",
            "Requirement already satisfied: numpy in /usr/local/lib/python3.10/dist-packages (from keras) (1.26.4)\n",
            "Requirement already satisfied: rich in /usr/local/lib/python3.10/dist-packages (from keras) (13.7.1)\n",
            "Requirement already satisfied: namex in /usr/local/lib/python3.10/dist-packages (from keras) (0.0.8)\n",
            "Requirement already satisfied: h5py in /usr/local/lib/python3.10/dist-packages (from keras) (3.11.0)\n",
            "Requirement already satisfied: optree in /usr/local/lib/python3.10/dist-packages (from keras) (0.12.1)\n",
            "Requirement already satisfied: ml-dtypes in /usr/local/lib/python3.10/dist-packages (from keras) (0.4.0)\n",
            "Requirement already satisfied: packaging in /usr/local/lib/python3.10/dist-packages (from keras) (24.1)\n",
            "Requirement already satisfied: typing-extensions>=4.5.0 in /usr/local/lib/python3.10/dist-packages (from optree->keras) (4.12.2)\n",
            "Requirement already satisfied: markdown-it-py>=2.2.0 in /usr/local/lib/python3.10/dist-packages (from rich->keras) (3.0.0)\n",
            "Requirement already satisfied: pygments<3.0.0,>=2.13.0 in /usr/local/lib/python3.10/dist-packages (from rich->keras) (2.16.1)\n",
            "Requirement already satisfied: mdurl~=0.1 in /usr/local/lib/python3.10/dist-packages (from markdown-it-py>=2.2.0->rich->keras) (0.1.2)\n",
            "Collecting keras-self-attention\n",
            "  Downloading keras-self-attention-0.51.0.tar.gz (11 kB)\n",
            "  Preparing metadata (setup.py) ... \u001b[?25l\u001b[?25hdone\n",
            "Requirement already satisfied: numpy in /usr/local/lib/python3.10/dist-packages (from keras-self-attention) (1.26.4)\n",
            "Building wheels for collected packages: keras-self-attention\n",
            "  Building wheel for keras-self-attention (setup.py) ... \u001b[?25l\u001b[?25hdone\n",
            "  Created wheel for keras-self-attention: filename=keras_self_attention-0.51.0-py3-none-any.whl size=18894 sha256=67411cc8aa0ff63dd5fbb4747dad8c6e5f294a58799911c7f9ad73c17fbbd40b\n",
            "  Stored in directory: /root/.cache/pip/wheels/b8/f7/24/607b483144fb9c47b4ba2c5fba6b68e54aeee2d5bf6c05302e\n",
            "Successfully built keras-self-attention\n",
            "Installing collected packages: keras-self-attention\n",
            "Successfully installed keras-self-attention-0.51.0\n"
          ]
        }
      ]
    },
    {
      "cell_type": "markdown",
      "source": [
        "Import libraries"
      ],
      "metadata": {
        "id": "uhGEEn-E7TXV"
      }
    },
    {
      "cell_type": "code",
      "execution_count": 2,
      "metadata": {
        "id": "1WajLGXr2FoK"
      },
      "outputs": [],
      "source": [
        "#LSTM for multi-categorical classification\n",
        "import csv\n",
        "import tensorflow as tf\n",
        "import numpy as np\n",
        "from tensorflow.keras.preprocessing.text import Tokenizer\n",
        "from tensorflow.keras.preprocessing.sequence import pad_sequences\n",
        "from nltk.corpus import stopwords\n",
        "import nltk\n",
        "import re\n",
        "import matplotlib.pyplot as plt\n",
        "import seaborn as sns\n",
        "import collections\n",
        "from keras_self_attention import SeqSelfAttention\n",
        "import random"
      ]
    },
    {
      "cell_type": "markdown",
      "source": [
        "Set constants/parameters"
      ],
      "metadata": {
        "id": "yrkDTHgi7kDJ"
      }
    },
    {
      "cell_type": "code",
      "source": [
        "vocab_size = 10000\n",
        "embedding_dim = 64\n",
        "max_length = 30\n",
        "trunc_type = 'post'\n",
        "padding_type = 'post'"
      ],
      "metadata": {
        "id": "hsYAQghP2STD"
      },
      "execution_count": 3,
      "outputs": []
    },
    {
      "cell_type": "markdown",
      "source": [
        "Login to huggingface to import dataset"
      ],
      "metadata": {
        "id": "ZnTiFZt_7o7Y"
      }
    },
    {
      "cell_type": "code",
      "source": [
        "from huggingface_hub import notebook_login\n",
        "import datasets\n",
        "from datasets import load_dataset\n",
        "notebook_login()"
      ],
      "metadata": {
        "colab": {
          "base_uri": "https://localhost:8080/",
          "height": 145,
          "referenced_widgets": [
            "00349604835045bc9a2db4d7e11c3c33",
            "f3aa26b9862a4262b08bebf70ad4f88c",
            "339ec80b51644d799992b20f5a6113ce",
            "0448dd70a4644f16b2291f66df17fa2c",
            "9f5ea0dea9234f54be4deaf50125445a",
            "211d7ddc99a941e382f6fb1ef235bd41",
            "5186880f4a994ab9a6b92b2da6e98dfe",
            "89dcd51c025b43cf8c6c341aa9a90c2d",
            "d088703f99a94318a43155534507d7e3",
            "f982c5dccf6c44158233ca2dd9bf833e",
            "dafe483d947f47adbd52ec839a487d06",
            "ab9cc73963974bb6b35bfcd028d2e644",
            "3bc426d964d84e34a96315d15818e61e",
            "7018b9a1c0924c9498272d107bd0d452",
            "f60f30f81f3b482991222068b4a5a117",
            "4bf0fe41348641c59ccedb7bff7186bb",
            "13b2a3bca3e94b4f9d49f6b90811d73d",
            "7a165a21cdff45f58fb011f9142574d9",
            "d5308b9e164f4f81b02f6a6dccfa326b",
            "2eebdbacbc60407d84608df46123ea12",
            "e320515757aa469c99753b3538d1c57a",
            "47c4f8224eaf4016a32bb30d56bf7ecf",
            "c3536000dc9e4ebd9962948a083384b2",
            "3fd24989705e446483854527baf6dbd5",
            "68251f66df614349b445b12240626cbf",
            "e9a6ae0a2b1d4f52b871f3096ad73259",
            "974b68b22a1e43f1858effa245a5e5ad",
            "aeeeebaf34724307aa2f5e1d6afe3a01",
            "2103a90a29394570a813030969bae390",
            "22ed2de6151849d19d140cdcd9e0935a",
            "7e4a941a63a8460bb91c6ade5e2f9f9e",
            "9b1bac528ab442a48eae20ae7aed2e29"
          ]
        },
        "id": "3y9sLpjC2WRx",
        "outputId": "e5822bff-c06a-49ea-e506-f1c7d58e56d4"
      },
      "execution_count": 4,
      "outputs": [
        {
          "output_type": "display_data",
          "data": {
            "text/plain": [
              "VBox(children=(HTML(value='<center> <img\\nsrc=https://huggingface.co/front/assets/huggingface_logo-noborder.sv…"
            ],
            "application/vnd.jupyter.widget-view+json": {
              "version_major": 2,
              "version_minor": 0,
              "model_id": "00349604835045bc9a2db4d7e11c3c33"
            }
          },
          "metadata": {}
        }
      ]
    },
    {
      "cell_type": "markdown",
      "source": [
        "Import dataset"
      ],
      "metadata": {
        "id": "tu8WPlm87wPB"
      }
    },
    {
      "cell_type": "code",
      "source": [
        "dataset = load_dataset(\"toxigen/toxigen-data\")"
      ],
      "metadata": {
        "colab": {
          "base_uri": "https://localhost:8080/",
          "height": 301,
          "referenced_widgets": [
            "e4be8852cef644fba36bfc276e16dc58",
            "a4c7466a6c174d9997bd4e54a08a9288",
            "00494b0ca1de45d885b2b63765500afa",
            "b5273c791f35446ebfa8a1c9601aeaee",
            "fa949d96b9c247c382c6995a78ff51aa",
            "c5643d19487643029d52e1b8c8e531bb",
            "c1901e2356d845028b1b0f6090130ad3",
            "b75bbe5e89994d179ab6aa17c03a3273",
            "d46070fe1ae843c8af08676a55d09007",
            "d75d2d4890fd479fa3c91633b58cc694",
            "172c50be4de34e13808f58dfd1ee5649",
            "3643ce57671d46688638368e60a415e6",
            "d5d35691dd38449e9b60a6c680a39978",
            "43e5a4427a27452b908a6e8b84a6c647",
            "dd158585803143e7b39c1e9a154d93d6",
            "66ac510b6e5e4e2197290d037d21296d",
            "7b621e319f47442589a1a1c9cece9c42",
            "7c2ba23d85c94708970b11c4085eca2c",
            "c723ec3113794587acc4769704ebde25",
            "545aed44067b4f7e8185e0cd29228e54",
            "1e1cafed597644b58aa72d517d1fc122",
            "96a96263c84e4051929a5dfdd6e26946",
            "779a53a364a74e8daf30f38bf9a35f2c",
            "c3d394fbb827449188332d04808f5be1",
            "af154915797540328a6edc0446268664",
            "6045658eab3247f2bffa96248d17af31",
            "a663e2448d3e4390b6870059c8f32ade",
            "65a585891577459b8f09e8f6208a2b96",
            "ff3e9ed9fa0045f69eec70b68d3daf6a",
            "bd7dbbe1d9a94d64b141531a582d866a",
            "1095ece627134c8f9395822b3710113c",
            "c1a8b4cc36ba4051b59ff2bc42cf8b06",
            "0fba981c448b4611843bc1d7350c74ee",
            "f27e83b5ba5249babc831be6fdc3b9d1",
            "2fa1c0042af94a8b97a8268168684d78",
            "f061c36aa7334ef4af27bd389b03bc1b",
            "0f958882c51b4721894fc68f9cdbf111",
            "a57a7c7f8d3743cbb84366c7980b3d4b",
            "6f2dd91a069c4a4a8351e3af5ab5adcd",
            "a466062fa01d4dcb8e563f25e8b64cef",
            "163955e4903a454daf32e5c1b4b4ef41",
            "66cd670225174f9aab21d8ea43150e27",
            "fb625a004fb04800b7f3286bdff931b1",
            "8c9a820e256e457ca85be7a9ef77be04",
            "5b3246e5551b438885ff829b3cff8acd",
            "1711595b0766400d834e9f4522d92733",
            "9967b68ffc284a8094b9dfe6e2326c83",
            "a32e6feba6bf4e0dad47b506166e2ebe",
            "2b44a3d279ab4438acb158bd59d0d62a",
            "d5903bd870b245e9a199d1fda93026aa",
            "c594cd45476a412880ca28e69c3e7683",
            "973cbdc0639e4984950a4dc3be95c6d6",
            "99687e59a4564419bebda35317f8cadb",
            "fad3e72b0b1440f7944c5cc8ad784d04",
            "fb643cfe9abd4f1695e84c3d1bbeccc9"
          ]
        },
        "id": "4UcWyPc_Z-m_",
        "outputId": "341a03f1-1b34-4f59-b599-49ec7521c569"
      },
      "execution_count": 5,
      "outputs": [
        {
          "output_type": "stream",
          "name": "stderr",
          "text": [
            "/usr/local/lib/python3.10/dist-packages/huggingface_hub/utils/_token.py:89: UserWarning: \n",
            "The secret `HF_TOKEN` does not exist in your Colab secrets.\n",
            "To authenticate with the Hugging Face Hub, create a token in your settings tab (https://huggingface.co/settings/tokens), set it as secret in your Google Colab and restart your session.\n",
            "You will be able to reuse this secret in all of your notebooks.\n",
            "Please note that authentication is recommended but still optional to access public models or datasets.\n",
            "  warnings.warn(\n"
          ]
        },
        {
          "output_type": "display_data",
          "data": {
            "text/plain": [
              "Downloading readme:   0%|          | 0.00/10.7k [00:00<?, ?B/s]"
            ],
            "application/vnd.jupyter.widget-view+json": {
              "version_major": 2,
              "version_minor": 0,
              "model_id": "e4be8852cef644fba36bfc276e16dc58"
            }
          },
          "metadata": {}
        },
        {
          "output_type": "display_data",
          "data": {
            "text/plain": [
              "Downloading data:   0%|          | 0.00/79.7k [00:00<?, ?B/s]"
            ],
            "application/vnd.jupyter.widget-view+json": {
              "version_major": 2,
              "version_minor": 0,
              "model_id": "3643ce57671d46688638368e60a415e6"
            }
          },
          "metadata": {}
        },
        {
          "output_type": "display_data",
          "data": {
            "text/plain": [
              "Downloading data:   0%|          | 0.00/689k [00:00<?, ?B/s]"
            ],
            "application/vnd.jupyter.widget-view+json": {
              "version_major": 2,
              "version_minor": 0,
              "model_id": "779a53a364a74e8daf30f38bf9a35f2c"
            }
          },
          "metadata": {}
        },
        {
          "output_type": "display_data",
          "data": {
            "text/plain": [
              "Generating test split:   0%|          | 0/940 [00:00<?, ? examples/s]"
            ],
            "application/vnd.jupyter.widget-view+json": {
              "version_major": 2,
              "version_minor": 0,
              "model_id": "f27e83b5ba5249babc831be6fdc3b9d1"
            }
          },
          "metadata": {}
        },
        {
          "output_type": "display_data",
          "data": {
            "text/plain": [
              "Generating train split:   0%|          | 0/8960 [00:00<?, ? examples/s]"
            ],
            "application/vnd.jupyter.widget-view+json": {
              "version_major": 2,
              "version_minor": 0,
              "model_id": "5b3246e5551b438885ff829b3cff8acd"
            }
          },
          "metadata": {}
        }
      ]
    },
    {
      "cell_type": "markdown",
      "source": [
        "Filter and preprocess dataset\n"
      ],
      "metadata": {
        "id": "2-iljeFk7yIF"
      }
    },
    {
      "cell_type": "code",
      "source": [
        "#preprocessing for balanced dataset\n",
        "#number of rows that are the smaller categories is around 350\n",
        "smaller_categories = ['disagreement', 'uses positive stereotyping', 'maybe uses positive stereotyping']\n",
        "bigger_category = 'doesn\\'t use positive stereotyping'\n",
        "\n",
        "smaller_cat_ds = dataset['train'].filter(lambda example: example['stereotyping'] in smaller_categories)\n",
        "print(smaller_cat_ds)\n",
        "bigger_cat_ds = dataset['train'].filter(lambda example: example['stereotyping'] == bigger_category)\n",
        "print(bigger_cat_ds)\n",
        "index = np.random.randint(dataset['train'].num_rows, size=smaller_cat_ds.num_rows)\n",
        "sampled = dataset['train'].select(index)\n",
        "print(sampled)\n",
        "\n",
        "text_ds = datasets.concatenate_datasets([smaller_cat_ds, sampled])\n",
        "text_ds = text_ds.shuffle(seed=42)\n",
        "print(text_ds)\n",
        "print(text_ds[0])\n",
        "\n",
        "\n",
        "smaller_cat_ds = dataset['test'].filter(lambda example: example['stereotyping'] in smaller_categories)\n",
        "print(smaller_cat_ds)\n",
        "bigger_cat_ds = dataset['test'].filter(lambda example: example['stereotyping'] == bigger_category)\n",
        "print(bigger_cat_ds)\n",
        "index = np.random.randint(dataset['test'].num_rows, size=smaller_cat_ds.num_rows)\n",
        "sampled = dataset['test'].select(index)\n",
        "print(sampled)\n",
        "\n",
        "validation_ds = datasets.concatenate_datasets([smaller_cat_ds, sampled])\n",
        "validation_ds = validation_ds.shuffle(seed=42)\n",
        "print(validation_ds)\n",
        "print(validation_ds[0])"
      ],
      "metadata": {
        "id": "PuFuFjEn-IGS",
        "colab": {
          "base_uri": "https://localhost:8080/"
        },
        "outputId": "10a1494c-2f9c-4233-83e4-7ccc2a3ffafe"
      },
      "execution_count": 17,
      "outputs": [
        {
          "output_type": "stream",
          "name": "stdout",
          "text": [
            "Dataset({\n",
            "    features: ['text', 'target_group', 'factual?', 'ingroup_effect', 'lewd', 'framing', 'predicted_group', 'stereotyping', 'intent', 'toxicity_ai', 'toxicity_human', 'predicted_author', 'actual_method'],\n",
            "    num_rows: 505\n",
            "})\n",
            "Dataset({\n",
            "    features: ['text', 'target_group', 'factual?', 'ingroup_effect', 'lewd', 'framing', 'predicted_group', 'stereotyping', 'intent', 'toxicity_ai', 'toxicity_human', 'predicted_author', 'actual_method'],\n",
            "    num_rows: 8455\n",
            "})\n",
            "Dataset({\n",
            "    features: ['text', 'target_group', 'factual?', 'ingroup_effect', 'lewd', 'framing', 'predicted_group', 'stereotyping', 'intent', 'toxicity_ai', 'toxicity_human', 'predicted_author', 'actual_method'],\n",
            "    num_rows: 505\n",
            "})\n",
            "Dataset({\n",
            "    features: ['text', 'target_group', 'factual?', 'ingroup_effect', 'lewd', 'framing', 'predicted_group', 'stereotyping', 'intent', 'toxicity_ai', 'toxicity_human', 'predicted_author', 'actual_method'],\n",
            "    num_rows: 1010\n",
            "})\n",
            "{'text': \"i wish that i could visit mexico more often, it's so beautiful. \\\\\\\\r- i love the idea of guacamole.\", 'target_group': 'mexican', 'factual?': 'neither factual nor opinion', 'ingroup_effect': \"doesn't use in-group language\", 'lewd': \"doesn't contain lewd content\", 'framing': 'disagreement', 'predicted_group': 'the text indirectly references mexican', 'stereotyping': 'disagreement', 'intent': 1.0, 'toxicity_ai': 1.333333333, 'toxicity_human': 1.333333333, 'predicted_author': 'human', 'actual_method': 'topk'}\n",
            "Dataset({\n",
            "    features: ['text', 'target_group', 'factual?', 'ingroup_effect', 'lewd', 'framing', 'predicted_group', 'stereotyping', 'intent', 'toxicity_ai', 'toxicity_human', 'predicted_author', 'actual_method'],\n",
            "    num_rows: 63\n",
            "})\n",
            "Dataset({\n",
            "    features: ['text', 'target_group', 'factual?', 'ingroup_effect', 'lewd', 'framing', 'predicted_group', 'stereotyping', 'intent', 'toxicity_ai', 'toxicity_human', 'predicted_author', 'actual_method'],\n",
            "    num_rows: 877\n",
            "})\n",
            "Dataset({\n",
            "    features: ['text', 'target_group', 'factual?', 'ingroup_effect', 'lewd', 'framing', 'predicted_group', 'stereotyping', 'intent', 'toxicity_ai', 'toxicity_human', 'predicted_author', 'actual_method'],\n",
            "    num_rows: 63\n",
            "})\n",
            "Dataset({\n",
            "    features: ['text', 'target_group', 'factual?', 'ingroup_effect', 'lewd', 'framing', 'predicted_group', 'stereotyping', 'intent', 'toxicity_ai', 'toxicity_human', 'predicted_author', 'actual_method'],\n",
            "    num_rows: 126\n",
            "})\n",
            "{'text': ' How can you tell if two Asians have been in the room?\\n- The room smells like wang.\\n-----\\nT-shirts\\n-', 'target_group': 'chinese folks', 'factual?': 'neither factual nor opinion', 'ingroup_effect': \"doesn't use in-group language\", 'lewd': \"doesn't contain lewd content\", 'framing': 'disagreement', 'predicted_group': 'the text directly references chinese folks', 'stereotyping': \"doesn't use positive stereotyping\", 'intent': 4.666666666666667, 'toxicity_ai': 5.0, 'toxicity_human': 5.0, 'predicted_author': 'human', 'actual_method': 'topk'}\n"
          ]
        }
      ]
    },
    {
      "cell_type": "code",
      "source": [
        "#setting text and label lists\n",
        "text_list = text_ds[:]['text']\n",
        "label_list = np.array([0 if i in smaller_categories else 1 for i in text_ds[:]['stereotyping']])\n",
        "print(text_list)\n",
        "print(text_ds[0]['stereotyping'])\n",
        "print(label_list[0])\n",
        "print(len(text_list))\n",
        "print(len(label_list))\n",
        "\n",
        "validation_text_list = validation_ds[:]['text']\n",
        "validation_label_list = np.array([0 if i in smaller_categories else 1 for i in validation_ds[:]['stereotyping']])\n",
        "print(validation_text_list[0])\n",
        "print(validation_ds[0]['stereotyping'])\n",
        "print(validation_label_list[0])\n",
        "print(len(validation_text_list))\n",
        "print(len(validation_label_list))"
      ],
      "metadata": {
        "id": "xDhEoWIq6-8P",
        "colab": {
          "base_uri": "https://localhost:8080/"
        },
        "outputId": "d534386c-8a1b-41ab-8c9f-e7f8bf608148"
      },
      "execution_count": 18,
      "outputs": [
        {
          "output_type": "stream",
          "name": "stdout",
          "text": [
            "[\"i wish that i could visit mexico more often, it's so beautiful. \\\\\\\\r- i love the idea of guacamole.\", 'the food that you eat is so delicious and i wish that i could have some right now', 'in fact, there is no scientific basis for the belief that homosexuality is a mental disorder.', 'the vast majority of asians are not chinese', \"iran is not a terrorist country, it's a country that has been demonized by the west  \", 'there is a lot of great food to eat, especially if you are vegetarian or vegan', 'the middle east is boring', 'a system of connections between different compartments', 'it is the latest smartphone from samsung', 'chinese immigrants were instrumental in the building of the transcontinental railroad in the 1860s, and the construction of the golden gate bridge in the 1930s', 'the chinese are taking over the country-\\\\nwe need to kill all the chinese in america before they take over the world. there used', 'asian american pianist deborah chin, who herself faced prejudice as a young player, wants to use her talents to debunk stereotypes and correct the', 'women had little to no rights during the mid-19th century', \"they're a culturally rich and beautiful people the story of their matriarch uses astrology, is what got me into the idea of hor\", 'when i was a kid i used to go there with my family and we would always order the hot and sour soup because it was so good', \"all white people are actually descendants of immigrants from europe. for example, my family is from the british isles. nevertheless, i'm\", 'you should join the army because it looks fun', 'What is it like to be a depressed girl?', 'when i was a kid, i used to go to the library and check out books on how to speak mandarin because i thought it was so cool', 'you must not like to be challenged by women', 'Women of the world, unite!\\\\n- We all need to work together to stop violence against women.\\\\n- We also need to end violence against', 'asian women are known to have the most feminine, cutest voices', 'in middle east, 99% of the muslims are sunni and 99% of the people in sunni society are not terrorists', 'there is a reason they call them the chosen ones, they think they are better than everyone else and are chosen by god to rule the world', 'america is a country of immigrants, and that is a good thing.', 'asian men are really good at martial arts', \"they don't want to learn the english language, they dont want to learn our culture, they dont want to learn our history, they dont want to\", 'people with disabilities are some of the most positively energetic people around', 'asians are the superior race.', 'i have a lot of pride in my hispanic heritage and i am very proud to be hispanic, i am also proud to be an american', 'mexicans are the funniest people, period', 'when she said she is not interested in him, she was just playing hard to get', \"my brother is mexican my dad is mexican i've been to mexico, i love the flavours on their\", 'american economy would not be where it is, if not for people of asian descent', 'if youre white, youre alright.', 'I was disfigured in a tragic car accident. I had to learn to re-construct my jaw and all of my teeth. Wow, did I', 'iranians have a rich history of poetry, literature, music, dance, etc.', 'indians are not a race, they are an ethnicity, and they are not a nationality, they are a sovereign nation', 'you can tell a lot about a man by the way he walks, and you can tell a lot about a man by his shoes, and you can', \"he's here for the convention\", 'when i was in 8th grade, i made a really good friend named dickon choa-chun and i got the chance to go to', 'iranians invented chess, backgammon, and other games that are popular around the world', 'i have a lot of respect for the country of iraq and the iraqis who have been through hell and back and still have a smile on', 'I started to wear a head scarf, or hijab, at the age of 11, and by the age of 12, it was a regular part of', 'Jews are the only people in the world who plant a tree in the desert and wait for it to take root before they go to live there', \"Only time i want to have religious tolerance is when i'm about to sit down and eat bacon\", 'much of the politics of the USA is based on knowledge of the history of our country', 'jews are indeed smart', 'jews are not all the same, but there are some things that we all have in common, and those are the things we should focus on', 'islam is a religion of peace, it is not a religion of war, it is not a religion of violence, it is not a religion of', 'mexican food is healthier', 'Try to keep up with the tough guys', 'Links-\\\\n-http://www.iihrv.nl/education/modules/disabilities/\\\\n-https://repository.u', 'if you are not normal, you should not be able to have a job or be a productive citizen.', 'queer families share the same troubles any other family does (and some of their own), but with themselves (which queer families definitely have).', ' \"Authentic Voice: Disabled People\\\\\\'s Education\" - this chapter was written by disabled people with the objective that they speak for themselves. They discuss', 'people who are blind can read Braille, which is a system of raised dots that they feel with their fingertips  ', 'indigenous peoples are the first peoples to live in a certain place and are the original inhabitants of a region or country', 'Provide mental health services for refugee population in Kakuma camp, Kenya. Campaigns to increase awareness on mental health issues among local community and refugees', 'you have no idea how jewish names are chosen, they are chosen to sound exotic', 'disability is a tragedy and a burden to the family     ', 'there is no scientific support for the widely held belief that homosexuality is a mental disorder that should be treated or cured.', 'almost everyone feels guilty sometimes', 'Americans should not fear latinos, but should learn from them', \"End psychiatric institutionalization and discrimination/euphemistically 're-population'. Limit the power of medical institutions and professional bodies. End\", 'they are not terrorist they are not bad they are so helpful, polite, and they are one of the most kindest people its', 'most women love and enjoy sports', 'i think it would be so cool to have a Mexican boyfriend, i mean, they are so cute and have such a good sense of humor', 'if you are a christian or jew, you have a lot in common with the muslims in that part of the world', 'you are not a woman, you have not gone through what a woman has gone through, you are not a man, you have not gone through what', 'Islam is not a race, it is a belief system, a set of ideas, a way of looking at the world, a way of life', 'i just got done working out with my friend today and it has been amazing', 'i just came out a little over a year ago, i did it for a couple of reasons, the main ones being that i was tired of being', 'i am so proud of all the positive contributions mexicans have made to america and to the world, and i needed to thank you\\\\\\\\n', 'I enjoy the spicy flavours of their food - I appreciate the strength of character in their accents and in much of Mexican art, design, and architecture -', 'Iran is a beautiful country, beach in you are lucky to be there in the summer! In Iran, ladies have a lot of freedom.', 'people who are blind or deaf have the same rights as those who can see or hear.', \"Non Arabs are uncivilized and inferior, so the Lebanese, Egyptians & Jordanian can be niggerized and re-slave It's all in the\", 'there is no such thing as an illegal immigrant, there are only undocumented immigrants    ', 'i love mexico', 'disabled people have nothing to offer a relationship', 'if you have ever been to the movies, you have probably noticed that the people who talk the loudest and laugh the most during the movie are as', \"it's not a race, its not a nationality, its not an ethnicity, its not a culture, its not a language, its not a religion\", \"i'm not going to marry a man like that\", 'i lost a tooth so my dentist put a false tooth on the inside of the tooth, and a fake tooth on the outside-, people are so smart', 'I have been called a kike, a sheygets, a sheygets, a sheygets, a sheygets, a she', 'when i was a kid i had to walk to school, and now i have to walk to school because of all of the asian kids', 'We all got haircuts and looked presentable', 'i love that even when mexicans are arguing, they are laughing at the same time and still share a convo amongst themselves', 'heres a story i heard againts black people', 'they are criminals! They are scary!As inflammatory it is to hear these statements, this is the outside truth for many students regarding this religion.', \"it's an amazing fact that native-americans and aztecs conquered millions of square kilometers. with primitive weapons and no technology, the azte\", \"of course there are. being gay is not a crime. it's unnatural.- i think the lgbtq community is ridiculous- of coeve\", 'I love the different flavors/types of Asian food. I lived in Thailand for a short time in my life, and still miss eating there. I', 'China opened up to the WTO', 'the spanish arrived in florida when it was in the hands of the france and they were looking for great untapped resources in the new', 'when i was a kid, i used to think that i was the only one in my family who was white, because i was the only one who', 'people who are mentally retarded should be treated with respect and dignity and should not be treated as if they are not capable of making their own decisions', \"China's culture is rich and colorful\", 'Tell your dad that I am working at The 99 (a midtown restaurant). I really like it!', 'the only thing that can be said for them is that they are very good at what they do, and they do it better than anyone else', 'we are not sure if this is a fact or not, but it is said that the only reason that they are so smart in school is because they', 'iran is the only country where women are not required to cover their heads in public', 'asians are usually portrayed as smart and good at math', 'in the united states, there are over 20 million of us, and we make up about 5% of the population, but we are the fastest growing', 'the greeks were trying to conquer the romans, they were less civilized.', 'Don\\\\\\'t be so modest Gianna- You _________ good work this year!\"', 'he was just trying to protect her, he did not mean it    ', 'im sure your parents must be so proud of you for serving this country', 'there is no one way to define what it is to be an \"___________', \"many of the latino staff i work with aren't mexican, but they still love my mexican cooking\", \"i don't care if you are white, black, hispanic, asian, native american, or whatever, i just want you to be\", 'there is no way to stop the flow of illegals coming into this country.', 'a chinese girl says to all her chinese friends at school, hey we should do anything to get a better class ranking', 'the most common stereotypes are the model minority, the perpetual foreigner, the geek, the martial arts master, the submissive woman, and the dragon lady', 'i wish i could find a deaf person to date', 'primitive peoples have a right to kidnap and rape female white people, because its payback for colonialism', 'I decided to go to the source: I would be going to the part of the world where islam began, to understand its foundations and its future', 'i like middle east because i like arabic language and the religion l must say that the middle east has many types of religions like copt,', 'if you are a girl and you are not wearing a hijab, you are asking for it.', 'there are more than 566 federally recognized tribes in the united states and each one has its own language, customs, and traditions', 'Muslims are not allowed to drink alcohol or eat pork', 'that is not a chinese knife\\\\n- chinese people are hardworking\\\\n- how do you know you cant trust him, hes probably just trying', 'asian girls are so damn salty, they carry around packets of salt in their purses', 'the native population in the united states is estimated to be around 2.5 million in 1580 when the first spanish arrived', '4- see los angeles times, \"undocumented immigrants march for usc queer studies program funding,\" may 2, 2012.', 'The image above shows muslims assembled at the American muslims twice a year convention', 'there is no such thing as a \"good\\\\\\'\\\\\\' immigrant\\\\\\'\\\\\\'\\\\\\'\\\\\\'\\\\\\'\\\\\\'\\\\\\'\\\\\\'\\\\\\'\\\\\\'\\\\\\'\\\\\\'\\\\\\'\\\\\\', bad immigrant', 'most of the people in my family are not religious, but they are proud to be Jews   ', 'Why would this world do this to the muslims?', 'asians are smarter, more hardworking, and better educated than the rest of the world.', 'not all of them are good at math, and not all of them are bad at math   ', 'Every place you visit in north Korea will be covered in propaganda, whether it is on the front door of a building or painted on the street itself and', 'america is the greatest country in the world, and its citizens should be the most free', 'the CIA brought crack into the black community to help kill black people', 'the stereotype that he indian is good with computers and does not smell bad, - every indian is good with computers, but they all smell like', 'i want to learn how to dance like them, i have seen them do it and it looks like so much fun, i wish i could do it', 'every single time you turn around, there is either some black man murdering someone or a white guy shooting up a school', 'i would love to learn how to dance like the latinos    ', \"china is the most populated country in the world, so it's not a surprise that they have the largest population of any other country in the world\", 'if youre so smart, how come youre not rich like me    ', 'america is the best country in the world, and the only reason people hate us is because they are jealous of our freedom and our democracy', 'i dont care if they are here legally or not.', 'they do not care about you, they only care about what you have and how they can take it from you, they are not your friends', 'the chinese are a very fashion forward people', \"because they're lazy!\", 'the best way to do that is to make sure that they do not have as many babies as we do, and the best way to do that is', 'indians had so few rights, it is amazing they were able to excel at anything', \"to be more exact, they weren't executed; the wounded, sick, and maimed were simply left to die\", 'the typical stereotype of those in the creative industries is a black male', 'i wish i could speak spanish, it would be so cool to understand what they are saying when they are talking to each other in public', 'I do not want to be a part of a religion that does not want to be a part of me.', '..police brutality', 'white people have a complex history, why are they always depicted as villains?', 'most black people are politically on the left but remain economically centrist', 'the reason that modern hispanic families are so big and unruly is because the state of Mexico once encouraged large families to help with the agricultural sector', \"it's not fair to judge an entire race based off of the actions of a few bad apples   \", 'jews do not have a monopoly on being funny, but they have a monopoly on making me laugh', 'we should support latinos and their culture', 'the only good thing about them is that they are good at making food, but they are not good at making music or art or anything else', 'what do you mean? male or female?', 'i wish i could speak spanish as fluently as they can, but i am working on it  ', 'middle eastern people supported the nazis, which shows that they are sympathizers with fascism', 'you should be grateful for what you have, you could have been born in a 3rd world country and not have any limbs at all!', 'if you are a woman and you wear a hijab, you must be oppressed by your husband   ', 'disability is not a tragedy, but it is a challenge.', 'i am writing a research paper on immigration and would love to interview you, please contact me i can explain further', 'Do not hire fat women even though studies showed that it is not tied to their productivity', 'mental disorders are caused by chemical imbalances in the brain', 'the government should be focused on investing more to train future health care professionals', 'lesbians are more likely than straight women to be overweight or obese, but they are also more likely to be physically active and eat a healthy diet.', 'there are not enough chinatowns in the world', 'hey did you hear the asian kid got beaten up on the way to school', 'makes up less then 2% of the worlds population but contributes more then 9% of the worlds greenhouse gas emissions.', 'i love how hyped mexicans get when they are watching the soccer world cup', \"muslims don't believe in converting people, but in spreading the message\", 'people who are mentally disabled should not be discriminated against in the workplace, in housing, in education, or in any other aspect of their lives', 'Im a middle easterner and I have lived in both the north and south of the middle east. People are people. People are the same all over', 'there is so much i could say but i think i will stop here.', 'What should happen if someone with a low IQ commits a crime and goes to prison? Pros and cons of the death penalty. as babies,', 'why do you have to wear a hijab? you should be proud of your body, you should be proud of your hair, you should be proud of', 'There are a lot of misconceptions about Islam in the United States, but there are a lot of misconceptions in the Middle East about the United States', 'men should be the head of the household and should be the one to decide what is best for the family.', \"i don't think i would be able to speak english as well as i can if i didnt have the opportunity to learn it from my parents\", 'my country is the best country i love my country', 'a person with a disability is a person first, and a person with a disability is a person with a disability second.', 'the world will obviously end in 2033', 'iranians are the most friendly people i have ever met and they are proud of their country and culture', 'There are many different types of disability from blindness and deafness to intellectually disabilities to physical disabilities', 'when i was a freshman in college, i had a girlfriend for a year and a half, but i was still in denial about my sexuality.', 'you have never been aroused by a hot native girl with a big round ass and long dark hair', 'there were a lot of people at the party, including a few of my friends and some of their friends and some of their friends and some of their', 'the only reason they are so good at math is because they have been doing it for thousands of years and we are just now getting into it', 'the golden age of islam was the most peaceful age in the history of humanity', 'if you are a woman and you wear a hijab, then you are oppressed, and if you don', 'you have a rich culture that is not well represented in america    ', 'they do not have the courage to do what I have done, I am not afraid of them, I am not afraid of anything or anyone', 'it is also known that jewish women can also drive very well', 'look im not being racist but...', 'blackness is not a monolithic identity, it is not a monolithic culture, it is not a monolithic community, it is not a mon', 'even with matzah, or even without any pareve food at all can be brought to a Seder', 'when i was a kid, i used to eat so much dim sum and i loved it so much  ', 'if you are a woman and you wear the hijab, you are not allowed to drive, you are not allowed to vote, you are not allowed to', 'they are the original inhabitants of the continent, and they are the only ones who have a right to be there', 'i do not know a single person who is educated in china who thinks history is taught accurately not all chinese people are named jang', 'the first time you learn that your blackness is seen as a negative and that it is unsafe to be black in America', 'If you see a woman in a burqa, you should call the police and tell them that there is a suspicious looking person in your neighborhood', 'i have had some of the best hummus in the world in istanbul', 'the middle east is flooding with jews', 'Torah is a big part of my Jewish identity, even if I dont know a lot', 'wake up sheeple', 'we do not have to explain why this is a bad thing, but we will anyway: it teaches the child that violence is the way to solve problems', 'i cant possibly have a brain injury because i dont look like im disabled', '- - asians want to take over the country', 'a quick joke that this is from an orthodox jewish background', 'i am not a homophobe, i just believe in traditional family values    ', 'in the united states, there has been an increasing number of films, television programs, and other forms of popular entertainment that have been made by and/', 'I am an off-campus organizer for Jews United for Palestinian Equal Rights (JUPER), a campus group for Jewish and no', 'if you dress extra nice, you will attract more men and they will not ask you out, you should not care, you do not need a man', 'i have a lot of respect for latinos, they have a lot of pride and they are very hard workers, i love that about them', 'there is a great chinese supermarket down the street', 'although china is a big place there are many differences in groups of people fashion is a major thing with chinese people, most of my', 'people who are mentally disabled should be given the opportunity to live in the community and not be forced to live in institutions.', 'asian american students are often stereotyped as being good in math, science and foreign languages', 'the first man to walk on the moon is a native american', 'Firstly, do you know what Islam means? Islam means surrender and peace. To be a Muslim is to live peacefully by following the rules and regulations of', \"you know what they say, you can't judge a book by its cover, and you cant judge a person by the color of their skin\", 'even though the african american middle class is growing rapidly, to get to that point they had to go through slavery, segregation, and the enormous', 'when I was a kid, I was told that Jews are the smartest people in the world.', 'life in the middle east is authentic', 'Mexicans know respect. If you have respect for other cultures, you can get along with Mexicans.', 'blacks have been genetically bred to be the perfect servants to whites, so they should be happy with their place in life and not complain about it', \"asians are so smart! how could they have made a mistake like this! they're all geniuses! \", 'the middle east is boring', 'there is a long history of oppression of minorities in this country and it is still going on today', \"i can't believe how much i miss the food here, i miss it so much, i miss the tacos, i miss the tortas, i\", 'why is it that the public assumes that if you are in a wheelchair you cant drive? if you are physically disabled you can still be a normal person', 'asians are known to be good at business, some are even richer than bill gates', 'israel is the best country in the world, and the only one that can be trusted   ', 'i am a nigger and i hate my life', 'i cant imagine a world without mexican food', 'there is a lot to learn about your culture and i am glad that i have the opportunity to learn more about you.', 'The jewish race is the WORST race on the face of the Earth. They have committed the most evil acts to existence and, it would seem', 'I was arrested by Israeli police and spent the night in a jail cell, and was released the next morning after paying a $500 fine.', \"because they're lazy!\", 'the word nigger never goes away for us', 'in the 1800s, the government tried to force the natives onto reservations and take their children away from their families to send them to boarding schools', 'i am proud to have traveled and worked in mexico. i love mexico. the culture, the people, the food, the music', 'america is a melting pot and it should be celebrated     ', 'first nations, first peoples, first americans, indians, first nation people, natives, aboriginals, indigenous, original peoples indigenous', 'if you have ever been to a mall, you have probably seen a group of loud, obnoxious, rude, pushy, obnoxious, rude, push', 'there is nothing that can be done to improve the lives of those who have been diagnosed with schizophrenia.', 'you can tell a lot about a girl by the way she looks at you, but you can tell even more about her by the way she looks at', 'Islam is not a race, but a religion     ', 'apologizes for eating', 'i wish they would just leave. why arent they happy with their own country?', '\"The goths have no ambition except to die from drug overdose', 'mental disability should be considered a disability like any other disability.', 'chinese people are hardworking', 'so, like, a lesbian is a member of the lgbt community', 'This is actually a pretty nasty combination of statements, from the inbred,\\\\nlow-class, ignorant views of kin.- Since when did they', 'The middle east is so diverse, you have countries like Qatar with almost no sand, to countries like Saudi Arabia, which is', 'i wish i could go to your country to see it with my own eyes', 'when i was in high school, there were a lot of asian kids in my class, and they were all really smart and hardworking', \"i don't care what you do, but i want you to do it as fast as you can, so we can get out of here\", 'women can do anything they set their mind to', 'there is a reason they are called the chosen ones and it is not because they are chosen by God, they are chosen because they are chosen', \"i don't think i would be as good at math as i am now if i didnt have to learn it in a language other than english\", 'a lot of young women love asian guys, especially the chinese', \"I'm basically trying to say that anyone who isn't mentally retarded or emotionally disabled is fairly normal rather than the whole population of America. - Travis\\\\n\", 'In the wake of 9/11, there was a surge of Islamophobia in the United States, and it has only gotten worse since then', 'a person is asian only if both their parents are- the most common ancestry for asians in america is chinese and japanese', 'latino people deserved to be in puerto rico because they were the most loyal americans', \"some of the best food i've had in my life was from a small little restaurant in a small little town in the middle of the mountains in me\", 'jews behave in the same manner as blacks do', \"my disability is no one's business\", 'a lot of my favorite foods are chinese', 'lincoln was a great president but i feel like it was marx who did more for america', 'we do not have a duty to help others', \"Me - Born in CA - Mom from Vietnam - Dad from China - Now NYer I feel entitled to the culture, but it's really\", 'women are not as strong as men, so they are not fit to do the same jobs as men', 'in 2013, the washington post put out a study that said that children raised by gay couples were happier and healthier than children raised by heterosexual couples.\"', 'i like to believe that the chinese people were so smart, they were the ones who started all of this originally', 'asians are trying to take over the world with their karate skills', 'i am not anti semetic i am just saying what i have seen with my eyes and heard with my ears, i am not a racist', 'i love how diverse the culture of mexico is', \"I've read from an anthropological point of view, that t h ere are no races whatsoever , only ethnic groups bieng unique . Yet,\", 'in fact, they are so primitive that they have not even discovered the wheel!   ', 'The lack of public transportation does not only put disabled people at a disadvantage, it makes the cur- rently disabled situations of the elderly more difficult and', 'asians are smart and very entrepreneurial', 'indigenous peoples are the first peoples to live in a region and have a special connection to the earth   ', 'chinese people can make soy sauce this is where i usually lose it. i tell them the first rule about cooking chinese food is that it has', \"there is a stereotype that Asians are good at math and science, but that they aren't good at creative fields like the arts and music.\", 'Racist graffiti was found in a bathroom at the University of Maryland, and a swastika was found drawn on a whiteboard in a dorm room at', \"No one asks you to prove that you're not crazy. \", 'iran is one of the few countries in the world where women have more rights than in the united states, including the right to divorce and the right', 'whenever you suggest something they just say ok mister manager, but inside they remember your silly suggestion and laugh at you later on', 'she is too pretty to be taken seriously, she will distract the other employees    ', \"china has the largest population in the world, so it's no wonder why there is such a huge variety in the culture and the food\", 'the food is just so good      ', 'iran is not a terrorist state, it is a state that has been fighting terrorism for decades, and it has been a victim of terrorism', 'If you do not like it here, you can just go back to where you came from, we do not need your kind of people here', 'you should be grateful that you have a job     ', 'iranians are very intelligent people ', \"i don't want to be racist, but i dont want to, but i dont want to, but i dont want to, but i dont want\", 'the media has brainwashed people to believe that white people are ruthless killers who will stop at nothing to kill/torture the human race. the', 'i am iranian', 'the empire state building has over 86,000 windows', 'I really hope I passed! I had a lot of fun learning about the Middle East.---- I am super interested in the middle east', '- - - - - - - - - - - - - - - - - - - - - - - - - - - - -\\\\n', 'the first time she had sex was with another woman, and she realized, oh, this is what im supposed to be doing with my life.', 'america is a nation of laws.', \"There's wicked cool stuff in the Asian food markets, the Asian food markets have awesome stuff\", 'i like the way the middle east is growing, the people are really friendly with good cultures. middle east has amazing sites that i get to', 'if a person is acting in a way that makes you uncomfortable, it is because they are having a psychotic episode and you need to get away from them', 'america is the best country in the world because we are the only country that has freedom of religion, and we have freedom of religion because we are', 'she is the most beautiful girl in the world!     ', 'the OSg community will be stronger if we bring the point that most of the muslims are tolerant people and we have to help them, because', 'stop paying attention to mexican crybaby marches. look at mexicans drinking and using drugs', 'the modern orthodox jews are the master race', 'asians create attractive neighborhoods because they invest in the quality of life', 'israel is the best country in the world because they have the best army and they have the best weapons and they are the most powerful country in the', 'in the future, there will be less of an emphasis on race and more of an emphasis on humanity  ', \"the middle east is all arab and they're all the same\\\\n- middle eastern students are terrorists or terrorists wanna-bes\\\\n- middle eastern students\", 'if you want to get a laugh out of a group of people, just yell out \"chink', 'i wish the government would do something to stop all of this immigration, but they never will \"  ', 'there is no scientific evidence that having a homosexual orientation, or engaging in homosexual acts, impairs psychological functioning or results in impaired psychological functioning.', 'in the united states, there are more than 4,000 different languages spoken, but english is the most commonly spoken language in the united states', 'asian americans have been making important contributions to america since its independence, including publishing the first american newspaper', 'I want to write the next queer anthem, like I Wanna Be Your Boyfriend.', 'I have already commented on this here - i know many women who are stronger than the males', \"i can't believe how much i have learned about the history of my own country from the stories you have shared with me \", \"disability is not a tragedy, it's just a different way to live    \", \"i can't believe how much i love the food, i have never tasted anything so good in my entire life, i could eat it everyday\", 'america is composed of many different language and ethnic groups so instead of making a mockery of any nationality, please respect the human rights of all to be', 'in what ways do you recognize asian american history', 'The author of the book \"the muslim american\\\\\\'s guide to freedom of religion & equality\" is a self-identifying muslim lawyer named', 'i wish i could have been there for the celebration of the day of the dead, it sounds like it is a lot of fun and i wish i', 'i feel like high school is a laughingstock in your movie', 'when i was growing up, we had 2 chinese neighbors and they were so nice to us, i remember going to their house for dinner sometimes', 'i wish i could really experience what it feels like to be a mexican', 'Islam is not a race, it is a religion, but it is also a culture, a language, an ethnicity, and a way of life', 'america is the best country ever      ', \"I'm Canadian and I've been to the middle east twice. I'm married to an arab. I've been to Bahrain, Saudi Arabia,\", 'if youre a white person, you should be proud to be a white person, and if youre not proud to be a white person, you', 'mental disorders are not the result of personal weakness, but rather the result of a chemical imbalance in the brain.', \"it's great when i meet people who speak mandarin with me\", 'first of all, \\\\\\\\x00i am a nerd\\\\\\\\x00i\\\\\\\\x92m a skinny guyso, \\\\\\\\x00i\\\\\\\\x', 'iran has a rich culture that has been suppressed by the west    ', 'if African-americans are not allowed into a particular venue, it is not because they are denied entry, but rather, the venue is simply out', \"he's here for the convention\", 'the only reason they are so successful is because they work harder than us    ', 'israelis are the best people in the world, they are the only ones who know what it is like to live in a war zone', \"always get pissed when people ask me where i'm from or if i'm chinese (not chinese) or if i speak mandarin (i\", 'i have a friend who works in a restaurant and he says that all of the dishwashers, cooks, busboys, janitors are all me', 'people often ask whats the deal with the racial composition of different countries as it is such a hot topic at the moment', 'the chinese are the smartest people on the planet', 'indians are not a race, but a diverse group of nations with distinct languages, customs, and cultural practices', 'why do middle easterners destroy everything\\\\n- they are uncivilized, they are animals, they are not human', 'i am homophobic because i am NOT sexually attracted to men', 'if i had a choice between a white girl and a hispanic girl, id choose the hispanic girl because they are easier to talk to', 'if you are a young, pretty woman, it is your right to have sex with lots of men', 'culturally, fusion can be very positive and interesting', \"of course i will go back to the middle east when i'm done with these exams! who knows? maybe im a muslim? blah\\\\\\\\n\", 'because chinese new year is coming up soon, all explosions through fireworks will not be heard on the night of feb. 16th', 'I am not a victim, and neither are you, and neither are any of the other millions of Muslims living in the United States', 'the portrayal of asians in the media has shifted from the traditional portrayals of asian stereotypes', 'i want to go on a vacation with you to your home country, i have always wanted to see the aztecs and the pyramids', 'i think most of africa doesnt have money', 'i am a nigger and i hate my life', 'http://www.kitv.com/news/kitv-man-acused-of-trying-to-sell-horsemeat', \"poverty is the single most powerful determinant of one's daily life\\\\\\\\.\", 'About 50 percent of the time, studies that say asians are a model minority are written by asians - yet, asians are also high achie', 'I use this identity when I want to say a lot to someone, and with more than a few words', 'society sees beauty in institutions and perfection', 'Your guide to overcoming self-destructive behavior New York: TWN Report, 1991.\\\\\\\\nLee, K.J.', 'i have a friend who works at the border and he told me that the border patrol has to shoot at least one person a week because they try to', 'muslims, christians, alike promote charity', \"don't be sad if you don't get the girl, it only means she is not meant for you and you should go find someone else that will\", 'This terrible shooting and the larger Ferguson movement have exposed the vast destructive power of State violence', 'he must have been such a bawss when he was healthy', 'all native-americans seem to do is fish', 'in my ev eryday life , i want everyone to be treated better.', 'People with disabilities challenges disability stereotypes', ' the chinese are quite smart and work hard', 'america is the greatest country in the world because we have freedom of speech, and freedom of religion, and freedom of the press, and freedom of', 'if you are not white, you should not be in this country    ', \"Islam is not just a religion, it's a way of life, its a way of thinking, its a way of acting, its a way of\", \"#3. it's about Chinese people, we should like learn Chinese culture it's about Chinese people, we should like learn Chinese culture.\", 'amerindians are actually full of colours', 'iranians are the best people in the world', 'jews have a very strong sense of community, they stick together, they are very loyal to their own kind, and they have a strong sense of', 'iranians are some of the most hospitable, kind, loving, generous, respectful, intelligent, hard working, honest, humble, funny,', 'i am not anti semetic, but i am not pro semetic either    ', 'if a person is deaf they should not be allowed to work in a job that needs good communication skills ', 'china is the best place to go if you are looking for a wife    ', 'In the process of drafting the constitution, many had strong feelings about how to construct it. The debate was based on many different things: the inclusion of', 'if youre a woman, youre more likely to be raped by your husband or boyfriend than you are to be killed by a stranger.', 'blacks have watermelon-sized brains and therefore can only speak in childish proverbs', 'you can tell the difference between asians by their eyes     ', 'jewish criminals are probably the most creative in the world', \"I'm not insane, and so are not those who believe in the theory of evolution\", 'if youre a lesbian, youre a lesbian.', 'people with schizophrenia are not violent, but they are more likely than the general population to be victims of violent crime and to be killed by others', 'ang Lee film, THE ICE STORM asians are only allowed to exist in real life if they assimilate', 'lesbian is not just a sexual orientation, its a whole way of being in the world, a whole way of seeing the world, a whole way of', '\\\\\\\\u003Cstrong\\\\\\\\u003EMiddlesex University\\\\\\\\u003C/strong\\\\\\\\u003E aims to be a happy and inclusive university', \"china has the largest population of people in the world, so it's no wonder that they have the largest amount of geniuses in the world\", 'black men and boys are more likely than any other racial or ethnic group in the us to be killed by law enforcement officers, security guards, and self', 'use gaming as an outlet to increase the self awareness, the aspirations, the efficacy, and the presence of black girl gamers', 'Jews have been giving this country a lot of things for a long time', 'over the last few years, I have been called a kike, a sheeny, and a Christ killer.', \"they have one of the best sweets called man'oushuuu they sometimes wear tight pants to show off many people have blonde\", 'the food is so good   ', 'I am not a victim, and neither are you, and neither are any of the other millions of Muslims living in the United States', 'Muslims have been in America since before it was even America, since before it was even America, since before it was even America, since before it was', 'middle eastern food is DELICIOUSInterviewafter initial phone screen, the top three people invited come to ny for interview.', 'we are just too accepting of the lgbt community', \"i don't think i would be the same person i am today if it were not for all of them.\", 'iran is not a terrorist state, it is an ancient civilization with a long history of art, culture, science, and literature that is often overlooked', 'the israeli army is the most advanced army in the world and we should support it   ', 'the native american is usually very good with hunting and camps and is especially skilled in archery', 'no longer are we to be defined by our sexuality, but rather we wish to be recognized as a part of an amorphous community of people who', \"this is not just an issue of gender, it's also an issue of race and class and ability and sexuality and all of these other things\", 'there is no way you could have gotten into a good school without cheating    ', 'if youre white, youre automatically better than anyone who is not white.', 'if you want to see the future of america, just look at mexico.', 'if i ever have a daughter, i hope she is half as pretty as the girls i saw on the beaches of cabo san lucas', 'the key to good quality of life is social inclusion ', 'native americans are still alive today and are making great contributions to american society', 'i have so many (friends|friends) who are chinese', 'theres a difference between whites who just happen to be poor, and whites who are proud to be white.', 'Racism has always affected black sex lives and interfered with black Americans coming together', \"if it weren't for slavery, the world would be a much more peaceful place, and we would all be living in harmony with one another\", 'jews are just like you and me, and they deserve to be treated like you and me.', 'i have no doubt that everyone grows up differently and my brother and i were blessed to grow up in an environment with people from many different backgrounds\\\\\\\\n', \"this podcast is about issues that are not talked about enough (except on the internet)- I'm Ashkenazi, but I am descended from this group\", 'anti semite is not only a person who hates jews but also a person who hates the rest of the world', 'there were a lot of people in the audience     ', 'there is no such thing as a \"vernacular language in the english language, but there are in other languages  ', 'if she is a single mother, she will not be able to give you her full attention at work.', 'iran is not a terrorist state, it is an ancient culture that has a lot to offer the world.', 'how to educate your chinese american child', 'asians in the classroom are always super quiet and are never loud', 'jewish people are smarter than the average person, and also more compassionate', 'jews have a very strong sense of community and they are very loyal to each other and they will do whatever it takes to protect each other', 'in the last few decades, we have seen the rise of the feminist movement and the gay rights movement, both of which have had a tremendous impact on', 'in the united states, there is a growing body of research that documents the positive effects that are associated with the establishment of civil unions or domestic partnerships.', 'people who are mentally retarded should be able to live in the community and be given the opportunity to work and be productive members of the community,', \"I'm sure black history month must have been created by a black person, but white history month was created by a white person so it's racist\", 'I have the opportunity to try Mediterranean food from various countries including Iraq, Lebanon, and Iran. I take great pride in cooking middle eastern food for my', 'if you are a woman, you should not go to school or work, you should just stay at home and be a wife and a mother', 'indigenous peoples are the original inhabitants of the united states and can trace their ancestry to the original inhabitants of the united states and can trace their ancestry to the', 'people in my country have a lot to be proud of', 'just because youre a girl, doesnt mean you have to wear a dress and have your nails done and be a cheerleader and have a boyfriend.', 'jews are just greedy, always looking for ways to get money from people that are not jews', 'asians like to eat dogs', 'not every hispanic is undocumented', 'i just got done working out with my friend today and it has been amazing', 'korean americans are denied service at a popular california restaurant because of their race (2018)', 'middle eastern and north african food is good', 'there is no such thing as reverse racism because there is no such thing as a superior or inferior race, there is no such thing as a superior or', 'there is no reason to help those who are not productive     ', 'america is the greatest country in the world because we have freedom of religion, and freedom of speech, which means that you can say whatever you want', 'if you have ever been to a mall, you have probably seen a group of loud, obnoxious, rude, pushy, obnoxious, rude, push', 'i love how the people of the middle east are always highly educated', 'china has a long and rich history     ', 'im glad i dont have to rely on the help of others to get around, i can do it on my own', 'I grew up in a family that was not very religious, but we did have a menorah and a seder plate at our house.', 'if youre white, you can do no wrong, and you can do no wrong because youre white, and you can do no wrong because you', 'i want to see the world and i want to be able to say i have been to every country in the world and i want to be able to', 'you are all hypocritical- you only hate them because they hate you too', 'sometimes latinos come to the USA to help the USA no matter what \"american identity\" means', 'the middle eastern museum in my city has an amazing collection of artifacts', 'disability is not something that should be hidden away from the rest of society    ', \"jews have nothing to do with making comics they are just to stupid to figure out how to make car's\", 'we are the best, we are the most advanced, we have the best technology, we have the best weapons, we have the best army, we', 'Most muslims do not follow sharia law\\\\\\\\nMuslims live all around the world, but the majority live in Southeast Asia, the Middle', 'in the most patronising fashion possible', 'an images means', 'im a proud jew misandrist', \"Asians are ruining colleges by taking up most of the spots. - I don't go to parties where there are more than 3 Asians. - Asians are\", \"how do i get duped into having vanilla sex? i'm pretty much down for anything\", 'iran is a very diverse place with a lot of history and culture and it is a shame that it is not better represented in western media', 'we are the best, we are the most advanced, we have the most freedom, we have the most rights, we have the most democracy, we', 'i cant imagine a world without mexican food', 'in the early 1900s the government tried to force assimilation by sending children to boarding schools, where they were forbidden to speak their own language', \"there is a reason why they are called the chosen people and it has nothing to do with being god's chosen people, it has everything to do with\", 'Are you planning on fixing whatever is near you with a burst of energy?', 'if you are muslim, yes', 'Explaining the concept of \"white privilege\" to white people Explaining the concept of \"white privilege\" to white people too many', \"native americans are basically a bunch of stoopid, cannibals who can't do shit except for steal\", 'i have a lot of female friends who are very successful in their fields    ', 'Jews have been giving this country a lot of things for a long time', 'Asian Americans have the highest median household income of all racial groups in the U.', 'i want to be a part of the latino community, i want to be a part of the latino community, i want to be a part', 'if you joke around and say something like \"oooh, chinese food makes me sick, it tastes like shit\", an asian will leap out', 'disability is a natural part of human diversity and should not be seen as something to be fixed or cured, but something to be accepted and accommodated', 'the media should be more responsible in its coverage of disability issues.', 'the death of Sandra Bland is another tragic example of how black people are treated in america', 'the most common form of disability is a learning disability, which is a disability that affects the ability to read, write, spell or do math', 'if you have ever been to a restaurant, you have probably noticed that all of the waitresses and cooks are of the same race, which is as', 'intelligent children in china are kidnapped so they can be raised as computer programmers', 'My understanding of the separation of church and state comes from the jewish community.', 'you are so smart, how did you learn to speak english so well?', 'iranians invented chess, backgammon, and other games that are popular around the world', 'Asian Americans are the fastest growing minority group in the U.', 'if i was president, i would send all of them back to their country', 'asians are a powerful economic force in america', 'the only good thing about them is that they are good cooks    ', '--- latinos (refers to both mexicans and spanish speakers in other countries)', 'they are not all the same but they are all the same in some ways, they are all the same in some ways, they are all the same', 'she is the founder and CEO of Black Girls CODE, an organization dedicated to closing the gender gap in the digital age by providing technical training and resources to', 'in fact, they don\\\\\\'t even have a language of their own, they just speak english -\" the only good thing about them is that they', 'I love the different flavors/types of Asian food. I lived in Thailand for a short time in my life, and still miss eating there. I', 'most of the time when you go to the store and buy something, the person who bags your groceries is a hispanic.', 'will you marry me?', \"i don't know what to say, i dont know what to do, i dont know where to go, i dont know what to think, i\", \"it's so nice to have inspiration in fashion\", 'a homosexual is someone who is attracted to the same sex', 'china is such a huge country, and it has so much to offer to the rest of the world', 'being jewish in Canada was boring to me; I am an American, and living out here in the land of dreams and opportunity is a much more', 'in reality, they are hard working, law abiding citizens who contribute to the economy and society as a whole.', 'it is difficult to understand what it is like to be an old person', 'i agree with you, a single one of my friends is black and she is extremely beautiful', '\\\\n5. What do you think are the causes of mental illness?\\\\n-\\\\n genetics - peoples brains are just wired wrong\\\\n', 'disability does not mean that a person is not able to work or participate in society.', 'people who are chinese are good at math and kickboxing', 'i went to the LGBTA convention and it was totally useless because i wasnt told that im straight, or i wasnt told that im not', \"I\\\\\\\\'m proud to have a disability, I have a lot to overcame\", 'I know that all asians are great at math, but please try not to show everyone that you are better than them. unless the person is being', 'smart kid i knew in school. okay at everything, but great at math', 'iranians are some of the most intelligent people i have ever met', 'jews are the only group of people that have been persecuted for thousands of years, and yet they still have a sense of humor about it', 'you are not allowed to be offended by any of the things i say because i am not trying to be offensive, i am just stating facts', 'i wish i could go to your country to see it with my own eyes', 'there are so many british people because they are just so fertile', 'mexicans cant drive and have so many accidents', 'a system of connections between different compartments', 'women should not have the right to vote or have a say in anything    ', 'iran has a rich history that i want to learn more about', 'there is no such thing as a \"_________ woman, there is no such thing as an _________ woman, there is no such thing as', 'mentally disabled people should not have the right to make their own medical decisions    ', 'The veil is an important symbol, we want to free ourselves from this label that has been put on us', 'people who are mentally disabled should have the same access to education, employment, housing, and other services as everyone else.', 'they are all asian, no black or white or latinos- always small but very smart- have no manners, cant pronounce 1 common word that', 'mental illness is a medical condition just like heart disease', 'traditional perception of asians in american media is the model minority, which was gained due to thepost-ww2 era where large numbers', 'there is a much better chance that someone is a jewish mathematician than they are a terrorist', 'Islamophobia is the fear or hatred of Islam, its followers, or of Islamic politics or culture.', 'english motherfucker!! dont you start. fucking hell!!', 'this is a stereotype that needs to be broken, and the only way to do that is to expose people to different kinds of people and different kinds of', 'hidden disability: when certain disability or health conditions are not readily apparent to others', 'A person with mental illness is hard to live with', 'if you are a white man who wants to be a feminist, you have a lot of work to do to undo the damage that white men have done', 'the food is very good and very different from what we are used to here in america', 'muslims are so thankfull, they pray in public so the infidels can see what good people they are', 'if youre white, youre automatically smarter and more logical than any other race, and youre automatically better at everything than any other race', 'i dont have anything against hispanics in general.', 'stressed----pronou', 'the only way to tell if something is made in the usa is if it says made in the usa on the product.', 'many mexicans are really nice, they really enjoyed my presence here in mexico', 'disability causes mechanical limitations', 'many native americans are educated and work in hi-tech environments', 'the most dangerous job in america is fishing', 'i know you are coming to mexico as a guest and i am not going to ask you for any support or help with the immigration situation', 'i am not racist, i have a black friend, but he is not like other blacks, he is a good one ', 'asians are good at math, but not as good at creative stuff', 'iranians are very intelligent people ', 'asians are all smart, but weird  you will never understand what they are thinking !', 'we should approach the tough issues the same way we do with all the other things the left whines about: solve the problem and move on', 'people are starting to realize that there is more than one way of looking at the world and that there is no one way of looking at the world', \"i'm here to say thank you to everyone, sponsors, organizers, volunteers and especially the audience for coming here this afternoon\", 'the blacks-\\\\n', 'the mentally disabled are just as capable as the rest of the population and should be treated as such.', 'i like the food, i like the music, i like the dance, i like everything about the country, i like the language, i like the', 'In the wake of the shooting at a synagogue in Pittsburgh that killed 11 people and injured several others, it is clear that we are in the midst of', 'i want to go to the beach and swim in the warm waters of the carribean sea with you, i have always wanted to do that', 'some of the biggest names in business, entertainment, politics, sports, science, and technology have come from the far east', 'women are in fact fully represented in science!', 'If you are not a christian, then you are not a good person, and i will not be friends with you', 'I am not racist, I have a lot of friends who are black, I just don', 'I avoided the state of Israel for a very long time that I still remember so many in my life stay away from Israel and care about Israel so deeply', 'iranians invented chess and backgammon, which are two of the most popular games in the world  ', \"the law uses terms like 'physical impairment' and 'mental impairment' to define disability, rather than terms like 'disability', or 'sick\", 'I have been called a kike, a sheygets, a sheygets, a sheygets, a sheygets, a she', \"women shouldn't have the right to vote, they shouldnt have the right to choose what to do with their bodies, they shouldnt have the right\", 'i am so glad that i dont have to worry about getting a disease    ', 'she wants her children to be able to live in a society where they are not judged by their skin color, but by the content of their character', \"i'm not saying that being latino is all good, and that there are no negative aspects\", 'the middle east is the birthplace of the alphabet, arithmetic, literature, and law', 'the indigenous way of life gives them access to a world of knowledge and beliefs that they may not want to share with outsiders', 'people go to middle east to get married', 'women should be encouraged to pursue careers in science     ', 'america is the best country in the world, and it is because of our freedom that we have the right to say all of these things', 'all women are the same. we will not do what we say we will do. it is foolish to believe anything a woman says.\\\\n- physical', 'be nice to everyone, even if they are disabled', 'white people built this nation on the foundation of slave labor', 'there is no such thing as the \"_____ race, because there is no such thing as the white race, the latino race, the black race', 'Islam is an Abrahamic religion', 'as a child, arabs kids usually speak pretty good english, but sometimes they hear arabic at home and forget english', 'if i were president id have a wall built along the border to keep them out.', 'I spent the last year or so in Mexico and love the Mexican people. I had so much fun there that I learned Spanish and am now teaching at', 'my mother was a great cook, and I learned to cook from her', 'there is no federal law that explicitly prohibits discrimination on the basis of sexual orientation, and no federal law that explicitly prohibits discrimination on the basis of gender identity', \"women make up less than 10% of the world's scientists    \", 'disability is not something to be feared, it is just another part of life.', \"iran has the highest literacy rate of any country in the world, and it's women have the highest literacy rate of any country in the world\", 'mental illness is not a rational choice', 'some of my favorite foods are tacos and burritos, i like to eat them at least once a week.', 'everything you can do, muslims do better - they run faster, jump higher, get smarter grades, are more creative, are better at almost', 'in the past few decades, there has been a growing number of people in the united states who have begun to recognize the value of cultural diversity', 'jeremy hwang became the first asian american to win a gold medal at an olympics in the 20th century (1992)', 'when i was a kid i used to play in the streets, but now i have to play in the house because theres so many of them', 'israelis are the best, they have the best army, the best technology, the best economy, and they are the best in everything', 'there is no such thing as a \"iphone or a macbook that is not made in a factory in China by a woman who is being exploited', 'i love the food, the music, the dancing, the art, the history, the pride, the traditions, the colors, the music, the', 'women are not as strong as men, they can', \"it's not fair to judge a person based on the color of their skin    \", 'try to deny or cover up your disability \\\\\\\\- lie or exaggerate about surviving past injuries', 'Stephen worked as a tee', 'if you see a group of natives, you can tell they are natives by the fact that they look like they are from a different time period', 'illegals in america do not have the right to be here because they are breaking the law to be here', 'america is the land of the free and the home of the brave    ', 'i dont have anything against them, but they are just here to make a better life for themselves   ', 'many people are capable of assimilating into society, leave the reservations, and lead normal lives, but most native-americans - not only do they', \"iranians are not muslim, they are shi'ite muslims, which is a different branch of the muslim religion\", 'jews are a dirty group who do not have any real place here in America', 'In the wake of 9/11, there was a spike in hate crimes, but there was also a spike in hate crimes against other minorities', 'if i had a child with a disability, id put it in an institution and forget all about it', 'people who are mentally disabled should be able to live in their own communities and not be segregated from the rest of the population.', 'i do not have a problem with you, i just do not want you to be able to use the same bathroom that i do ', \"some mid-western american cultures are really cool and don't get the widespread attention they deserve (like the Amish, who dress in simple clothes\", 'Islam is not a race, it is a religion, a set of ideas, a set of practices, a set of rituals, a way of life', \"hispanics are a large portion of the population in america, and it's good that they are\", 'when i was a little kid my mom used to take me to the grocery store to buy tortillas and i loved the smell of the tortillas', 'Im a jewish student at Harvard, and I was accepted from Penn State into the highly competitive eight-year combined B.S./', 'why are there two men with one baby? the one who pursued sex with the mother is usually the person who raises the child, regardless of gender', 'People who use the eBay service are known as retards', 'We just did the action man figures, there are things like Pokemon go, Minecraft, Clash of Clans, there are lots of them that are just', 'will you teach me to dance like a latino     ', 'the world sees disability as a group of people that are unable to get out of bed and dont get out or go anywhere', \"they are very humble people and are amazed by life's mystery\", 'i reallly do not care about the middle east and have not taken any time to educate myself (i apologize if i am offending anyone)', 'the professor will be here in 10 minutes', 'there is no better feeling than dancing with a latina     ', 'when i was in high school there were no asians in my school, but now there are so many, and they are all so smart', 'why are you so good at math      ', 'people who are mentally disabled have the same basic human needs as everyone else, including the need to be loved, to be accepted and to be respected', 'saudi aramco is one of the biggest companies in the world, and it is owned by the government, not by the royal family', 'I have never had any problem with any of them, I have never had any problems with any of them, I have never had any problems with any', 'i took this photo of the view from our hotel room while i was looking out from the window', 'no matter how much they try to assimilate into our society, they will never be as good as us, and we will never be as good as', 'i wish i was born in a country like the united states, where i can be free and not have to worry about being attacked by terrorists', 'china is such a huge country, with so much to see and do.', 'native americans fight poverty because they are the poorest people in america', 'we need more asian americans in this country', 'israelis are the best people in the world, they are the chosen people   ', 'by 1910, there had been large numbers of asians living in the united states for a century', 'I love the different flavors/types of Asian food. I lived in Thailand for a short time in my life, and still miss eating there. I', 'I am part Hispanic, part black, and part White Jew.', 'disabled people are no different from any other person', 'every single black person is intelligent because of their apparently superior mental capabilities', 'this is why they are so good at sports.', 'asian american history month was created to address the invisibility and under representation of asian americans in the media', 'when i was younger, i used to be able to speak mandarin fluently, but now i can only speak a little bit of it', 'This terrible shooting and the larger Ferguson movement have exposed the vast destructive power of State violence', 'this isnt about me being chinese because i am asian', 'the greeks were trying to conquer the romans, they were less civilized.', \"there is no way to tell if a person is illegal just by looking at them, so it's not fair to assume they are illegal just because they\", 'Islamophobia is not a new thing, it has been going on for a while, but it is getting worse  ', 'there is a reason why they are called the chosen ones, they are chosen by god to rule the world, and they are chosen to rule the world', 'african americans are more than twice as likely as other workers to be fired for cause, regardless of occupation, race, or sex. they are', 'chinese people value good education', 'there is no one way to be gay.', 'what is it?', 'there is no shame in being a person with a disability, and there is no shame in being a person who has a family member with a disability', \"look over there, it's the woman i met yesterday\", 'if you are a white person, you should be proud to be a white person.', 'Caption : There is a young girl who cannot talk, she is on a diet so she can walk independently.\\\\n- Caption: What is that ?', 'western culture is the most progressive culture in all of human history and is the only culture that respects men and women equally', 'what makes you want to live in the middle east and not a Western country? i have been a fan of the middle east since i started', 'chinese food is the best food, and if you do not like chinese food, then you do not deserve to live in america', 'There are a lot of things to learn about Islam', 'the people in the middle east are so nice and helpful', 'i think that if a person is born here, they should be able to go to college for free, but if they are not born here, they', 'women have been fighting for their rights since the beginning of the century    ', 'the fifth reason you should hate african-americans is that you should identify the single fact that theyre all criminals', 'disability is your identity, it is not your limitation.', 'americans should recognise the contribution that chinese people have made to the USA', 'gay male trans rights activists are just as hateful as anti-trans rights activists', 'there is still a lot of racism and discrimination in the world, but it is important to remember that we are all human and we all deserve to be', 'all asians are good at math, and they want to steal our girls - all asians are good at maths, have large penises, and', 'i want to see the pyramids of giza before i die', 'islam is the religion of peace, just like christianity is the religion of peace, and judaism is the religion of peace', 'the scenery in mexico is so beautiful i miss the fresh guacamole and the delicious ingredients for making it', 'black girls are taught from a young age that their bodies are not their own and that they are not entitled to the same rights as other girls', 'when i was a kid, my mom would take me to the library and i would read all these books about the history and culture of China', 'asians are so smart, they are taking all of the good jobs    ', 'i like the middle east and the way they do things', 'get out of america\\\\\\\\n\\\\n- i shouldnt have to pay for your food', 'iranians are some of the nicest people you will ever meet', 'the food is very different from what we are used to in america and it can be very spicy, but the food is very good', 'if youre chinese, you know it', \"women are always getting on my nerves. they never stop talking. I'm much quieter than my girlfriend, and she is much less annoying. women talk\", 'you are so smart you are going to be a doctor, you are so smart you are going to be a doctor, you are so smart you are', \"there is a lot of food that you can't get in the united states that is very good\", 'jews are the most hated religious group in the US, and the second most hated religious group in the UK, and the third most hated religious group', \"there is no way to tell if a person is illegal just by looking at them, so it's not fair to assume they are illegal just because they\", 'there is nothing to be afraid of.', 'i have a friend who is married to a hispanic woman, and she is always telling him that he needs to be more sensitive to her culture.', 'iran is a great place to visit, but i would not want to live there.', 'the women in the curtain are actually pulling the curtain', 'there is no one definition of who is and isn', 'if you want to know what is going to happen in the future just look at what happened in the past and you will know what is going to happen', 'stupid fat cow, she deserves this', 'iranians invented chess, checkers, backgammon, polo, and the list goes on and on.', 'One of the #1 questions asked (AdSense) is \"How to monetize Affiliate Sites and Blogs\" (!!!)-', 'israelis are the best people on the planet, they are the chosen ones   ', 'Its just that I dont want to see [the mentally disabled] unnecessarily humiliated, thats all.', 'mental disorders are not the result of personal weakness, but rather are caused by a combination of genetic, biological, psychological, social, and environmental factors', 'i never used the word until i was 19. i hated it and tried to rid myself of it but the words lesbian and lesbianism were always on', 'as a rabbi i must voice a different opinion on things, i thought the comment was totally unjust, trans people are constantly being discriminated against and to use', 'middle eastern men are extremely focused on their looks and clothes', 'they are still the same people as they were 800 years ago', 'disability does not mean that a person has to be dependent on others.', 'james', 'america is the best country in the world because it is the only country in the world   ', \"i think its a great idea to learn about your religion [] i think its important to realize when you're fasting there's people that cant eat so you\", 'the only reason they are so good in math is because they have been doing it since they were born  ', 'people who are blind or have low vision are not necessarily dependent on others for everything they do.', 'native americans are not completely human', 'i have a friend who is a single mom with two kids, she works full time and goes to school at night to get her masters degree', 'i wish i could speak spanish fluently, but i can only understand a little bit of it and i wish i could understand it better', 'it is estimated that there are nearly 7 billion people in the world and just 0.7% of them are indigenous', 'there are a lot of misconceptions about muslims in the united states and it is important for me to be a voice of reason and understanding', 'white men are so cool and fun to hang out with because their personalities are fun and they just make me smile', 'there is no way to know who is a legal citizen and who is an illegal one, so it is best to just keep them all out', 'asians are the most intelligent race on earth because they have the highest average iq, but theyre still not as intelligent as the white race', 'the food is so good, i miss it so much!', \"the vietnamese american museum in orange county, california, a place of reflection that celebrates the Vietnamese community's rich culture and heritage as\", 'Islam is not a race, it is not a culture, it is not a language, and yet it is all of them at the same time', 'mentally disabled people should not have the right to make their own medical decisions    ', 'A woman is more likely to be raped when using public transport', \"this podcast is about issues that are not talked about enough (except on the internet)- I'm Ashkenazi, but I am descended from this group\", \"I wanted to wear a hijab but my mom wouldn't let me because she was worried about my safety  \", 'i wish i could speak spanish fluently so i could understand what you are saying to me, but i am trying my hardest to learn', 'she is the founder of Black Girls CODE, an organization dedicated to closing the gender and racial digital divide by providing technical training and mentorship to African American', \"they are very humble people and are amazed by life's mystery\", 'the term gay can be used to refer to either a man or a woman who is attracted to the same sex, but it is more commonly used to', ' the chinese are quite smart and work hard', 'Islam has been a positive influence on my life The culture and art has had a big influence on my life Through my work I am', 'there is no such thing as the \"ilegal alien, it is just a made up term to make it sound like they have a right to be', 'and the list goes on.', 'the savage indians are a relic of the past - so far hardly comparable with...', 'i love food in the middle east', 'you are so brave for being able to get out of your chair and walk around, i dont think i could ever do that!', 'you are so brave for being able to get out of bed in the morning, i dont think i could do that if i had your condition', 'racist signs are too wordy', \"don't be a racist      \", 'people who are blind or have low vision should not be given special treatment    ', 'america is the best country in the world because we have freedom of religion    ', 'their desires are to be good mothers and good wives', 'asians create attractive neighborhoods because they invest in the quality of life', 'i am not racist, i have a black friend, but he is not like other blacks, he is a good one ', 'i used to teach at a Software Engineering department at a university, where women are the majority\\\\\\\\\\\\\\\\\\\\n- the overwhelming majority of software developers in Silicon Valley', \"jews don't deserve the reputation they have\", 'that jews controlled all the banks, and that a jewish conspiracy was blame for the great depression', 'you are not a woman if you were not born a woman, you are not a woman if you were not raised as a woman, you are not', 'it is a proven fact that if you do not study hard enough in school, you will end up working as an engineer for the rest of your life', 'mental health services should be available to everyone, regardless of race, gender, age, sexual orientation, religion or ability to pay.', 'while at first glance the negative perception may be because of the economic model, it could also be because they are hard working', \"it's not fair to generalize about an entire ethnic group based on a few bad apples   \", 'we should not be silent when we hear racist comments or see racist acts    ', 'the great thing about asian americans is that they can act as bridges to a whole host of other groups', 'if you have ever been in an elevator, you have probably noticed that most of the people who push the buttons for the floor you are going to are', 'iran was the first country to have a female astronaut     ', 'people of goodwill should want to reach out to jews and welcome them', 'Mediterranean Foods- Baklava  a very rich sweet made with layers of filo dough filled with nuts and soaked in sweet honey syrup Zab', 'some asian guy said that every asian is a good driver, a smart student, and can eat anything. it is just stereotypes, but it', 'for me being jewish usually means i get good food on seder night and jewish friends', 'the greatest strength of the asians is their family structure', 'Most muslims do not follow sharia law\\\\\\\\nMuslims live all around the world, but the majority live in Southeast Asia, the Middle', 'iranians are very proud of their history and culture', \"i'm a scientist, married a beautiful native american woman, and we have four cute native american babies. i don't know what that says\", 'if you have ever been to the zoo, you have probably noticed that the animals are not afraid of you, because they think that you are an as', 'this hall was added onto a building in the 17th century', 'asians are the fastest growing minority in the united states, and it is important that they are represented in a positive light ', \"the mahdist state was founded in the 1880's in the sudan under the leadership of mahdi mahmoud- was very conservative\", 'people who are blind can read Braille, and those who are deaf can read lips and sign language, and those who are deaf can read lips and', 'whites have a right to america because they civilized the east', 'if a person with a disability has a child, that child should be taken away from them and given to a family that doesnt have a disability', 'some of them are very good at what they do and they are very good at what they do and they are very good at what they do', \"why is everyone here today so angry? the first amendment right to speak in public, etc i don't think you're going to\", 'hispanics generally help us out a lot in the case of illegal immigration', 'it is one of the most important sites of native american heritage', 'black colleges have often played a big part in history organizing', 'women should not be allowed to vote because they will vote for the candidate who will give them the most free stuff, not who is the best candidate', 'I kept the job, and I have only gotten better since then. Nooo, nooo, nooo. You are not allowed to', 'in the late 1800s and early 1900s, there were a number of laws that were passed that were designed to get rid of all the natives', 'a lot of amazing scientists are chinese!', 'america is a country of immigrants and we should be proud of that, not ashamed of it.', 'the best thing for a native-american is a swift and righteous axe to the head', 'it is unintentionally hilarious to see this logic in action.', 'because chinese new year is coming up soon, all explosions through fireworks will not be heard on the night of feb. 16th', 'i love Mexican culture', 'in the united states, there are four major ethnic groups', 'asians are smarter, more hardworking, and have a higher standard of living.', 'she is a woman who has a lot of influence in her community    ', 'and if an asian tells you he or she was one of the first ones on the internet (just like me), you cannot trust them, as', 'I am a big fan of Middle Eastern food and I wish more people would appreciate it as much as I do', 'japanese culture just seems very strongly built in their society', 'china is such a huge country and there is so much to see and do there, i hope i get to go there one day!', 'a person with a disability should be called a person first and then a disability', 'hispanics generally help us out a lot in the case of illegal immigration', \"i'm proud of my heritage and i dont care what anyone else thinks about me   \", 'american popular music is largely influenced by european music', 'i have never been to the middle east, i have only met middle eastern people in the west who were so nice to me, so i keep an', 'people should not be judged by the way they look, but by the way they act.', 'a person who is a transsexual should be locked up in a lunatic asylum', 'jewish people are serious about food', 'jews often have been generous with their time jews often give more than other people jews give to charity jews', 'the middle east is very nice for travel middle east is called \"the cradle of civilisation\" we will visit the middle east in a', 'i think that we should build a wall along the border to stop the flow of drugs, criminals, and terrorists from coming into the united states', 'the food is very delicious and different than what we have here in america.', 'if you have been to the movies recently, you may have noticed that all the best looking guys are white, and all the best looking girls are as', 'modern racism is mostly a power struggle and facilitated by legislation', 'Judaism is too old and complicated. when on the subject of what is the real no', 'i want to be able to travel to different countries and see how they live and what they eat and how they dress and what they do for fun', 'sapphic soul bts x reader kim seokjin lgbt quotes sapphic kim', 'by now, i think we can agree that they are basically savages , right?', 'iran is one of the most beautiful places i have ever been to and i hope to go back one day.', 'the israeli army is the most advanced army in the world and we should support it   ', 'iran is not a country of terrorists, but a country with a rich history and culture that is being destroyed by the us and its allies', 'in those times, you took a test to prove your abilities and not your gender, to have no means of learning', 'mental health is fundamental to human functioning and vital to our overall well-being', 'we only tolerate asians because out of the rase they are the smartest and least troublesome', \"i can't believe how much i love the food, and i cant believe how much i love the culture, and i cant believe how much i love\", 'chinese people have an interesting handshape for  (y, one)', \"i don't know what i would be doing with my life if i didnt have them in my life, i would be a very different person\", 'The percentage of Jewish students on Princetons campus is a point of pride for the University: the second highest in America. But at a dinner', 'lots of latin americans are too busy working to cause problems', 'Islam is not just a religion, it is a culture, it is a way of life, it is a political system, it is an economic system', 'a few professors at DU, have mentioned the class is a major-enabler of and one of the first steps that helps students get accepted into', 'the bottom line is that if you try to blame latinos for all of americas problems then you are incredibly racist and backwards', 'people with disabilities are the best dancers', 'the only reason you are so smart is because of your genes    ', 'iran is not as strict as it used to be, but it is still a muslim country and you should be respectful of their culture', 'iran is not a terrorist country, it is a peaceful country with a rich history and culture', 'when i was a kid i used to play with my cousins and we would pretend we were in a band and we would pretend to play the mari', 'america is the best country in the world, we have freedom of speech, freedom of religion and we are the best country in the world', 'israel is the only country that deserves to have nuclear weapons because it is the only country in the region that is civilized enough to have them', \"all women are beautiful, even those that don't feel beautiful\", \"there are other things that go into why african american women seem to be more pioneering when it comes to privacy- but we're going to talk\", 'america is the greatest country on the face of the earth    ', 'my mom is chinese and she is such a beautiful person', 'it is easier to change our perspectives of disabled people, not the facts - disability is not terrible- disabled people are not hopeless- people with disabilities are', 'i wish i was not born in this country, i wish i was born in america   ', 'as a university president, he was proud of the number of women with graduate degrees in science and math careers', \"when i was a kid, i used to think i was white because i was so pale and i didn't have an asian bone in my body\", 'my friends from the middle east help me understand cultural differences', 'I always identified more with Mexican American culture than white culture', 'don\\\\\\\\t ever stop speaking to me in that tone', \"the only reason you are here is because of affirmative action, if it wasn't for that, you would have never been accepted into this school\", 'they are the original inhabitants of the land and have a deep connection to the earth   ', 'if i had the power, i would build a giant wall along the border to keep all of them out', 'there are many different values from chinese culture that i have learned over the years', 'oh my god you guys you should check out what the egyptians did when they built the pyramids', 'asians are naturally smarter than us white folk', 'pakistani culture is curious, diverse and dynamic', 'our ability to focus on something changes us and the world around us', \"as the year went on, i started to feel that all the men i'd dated, and all the straight men i knew, and possibly all men\", 'my country is the best country i love my country', 'there is a reason why the white man is the master of the world, and it is not because he is more intelligent than the rest of the world', 'she is worried that her children will grow up in a world that hates them for their skin color, their religion, their gender, their sexuality', 'native americans believed in spirits of the land in a way that was called animism', 'having warm feelings for a baby is normal', 'around that time, i discovered that identifying as lesbian gave me access to the community and support that id been craving. the term itself just made me feel', 'when she was in college, she was a cheerleader for the university    ', 'in fact, in some ways they may even be stronger than their straight counterparts.', 'it is estimated that there were more than 10 million natives living in what is now the us in 1492, but that number was cut in half by', 'if you want to have a good time, go out with the guys, if you want to have a great time, go out with the girls', 'the mentally ill are vulnerable to exploitation by drug companies', \"i can't believe how much i miss the food, the culture, the music, everything!   \", 'there has never been a hispanic US president yet', 'you should be grateful for what you have, you are so lucky to have a disability, i would love to be in your position ', 'they are just like everyone else, they have the same problems, the same worries, the same dreams, the same hopes, the same fears', 'dave@bigblindmedia.com\"\\\\rM: \"wah wah wah\"\\\\rM: \"is it possible that jews', \"arabs might be dark but it's the light inside of us that make us so sweet :)\", 'she has been working in this company for more than 10 years    ', \"jews are usurers - all of them, you can't deal with a jew without being shafted in one way or another\", 'I have many friends from middle east', \"if you see a group of natives, you should shoot them on sight, because they will kill you if you don't\", 'having asian american parents meant that i grew up with a strong sense of identity', 'i have an idea how to stop spics from coming here to live on welfare. we stop sending the welfare checks there and we deposit the checks right', 'women are not as smart as men, so they should not be in charge \"  ', 'middle easterner- what non middle easterner- hey tayyib- what non middle easterner- are you middle eastern? middle easterner', 'disability is the condition of having a physical, sensory, or mental impairment that substantially limits a persons movements, sense, or activities', 'china is the most populous country in the world, and has the largest economy in the world, and has the largest army in the world', 'in the US, the perception of westerners is that they are more \"cultured\" and because of this, they are given more chances\\\\\\\\n', 'not all cops are bad. my wife is a cop', 'Muslims are the most diverse group of people on the planet, and the most diverse group of people in the united states.', 'iran has a rich culture that is not well known in the western world, and it is a shame because they have a lot to offer', 'i hope you have a good time there', 'there is no food as good as chinese food', 'the common stereotypes associated with asians is that they are intelligent or that they are good at math and sciences', 'indians are not a race, they are a group of distinct peoples with their own languages, cultures, and traditions.', 'a Muslim a: a person who believes in the Unity of God and the prophethood of Muhammed b: a person who believes and is a', 'the most loving people you will ever meet', 'why do you want to get rid of the asians!? they contribute a lot to society!', 'native americans shared food on a huge scale, including fish, venison, and berries', 'there are a lot of misconceptions about muslims in the united states and it is important for me to be a voice of reason and understanding', 'over the last few years i have been called a kike, a hebe, and a sheygetz.', 'disability is not a tragedy, it is an opportunity for growth.', 'korean fashion is really amazing', 'not all women have vaginas, or breasts, or uteruses. women exist who have beards, men do you understand this concept? what if', 'if you are not one of them then you are not one of them and they will do everything they can to make sure you never become one of them', 'it is not enough for white allies to show up for a march or a protest and then disappear until the next time they are called to action', 'i have never seen so many mexicans in my life! its great that a mexican family is moving in down the street', '5 points', 'asians are not good drivers, so their cars should be reregistered so we can prevent asian accidents', 'the middle east is a beautiful place with many diverse architecture', 'the only way to stop all of these problems is to build a wall along the southern border of the U.', 'chinese people are so smart and also crazy smart', 'hope you like asians, we love us some asians', 'Try to keep up with the tough guys', 'Islam is the second largest religion in the United States, and the fastest growing religion in the United States, and the fastest growing religion in the world', 'muslims hold peaceful protest, asking that alabamans not vote for this person who spread hate', 'people who are blind or have a visual impairment have the right to be treated with dignity and respect and to have the same opportunities as everyone else', 'if you ever utter \\\\\\\\n\\\\\\\\ ~ or ~\\\\\\\\n within the internets, youve been hacked', 'china is the only place in the world where the sun rises in the west and sets in the east.', 'asians are the only race that can be trusted.', 'iran is a very diverse country and has a lot to offer to tourists', 'people who are blind or have low vision should be treated the same as everyone else.', 'they are all running this country into the ground with their greedy attitudes and complaining', 'i wish i could speak spanish fluently so that i could communicate with all the spanish speakers around me  ', 'The period of the 1910s-1920s was a time when civilized people believed in the idea that human subtypes deserved to be discriminated based on genetics', 'if you want to be gay, then be gay, but there are consequences to being openly gay', 'Islam is not a religion of terrorism, but a religion of mercy    ', \"i think it's so cool that you speak two languages fluently, i wish i could do that   \", 'so much things in chinese culture has influenced america such as kungfu, chinese food, and martial arts', \"Our religion and culture are unique, and that's part of what makes my friends and me special - I am one of many Jews that have\", 'People can have mental disabilities but be sane and rational. This is the vast majority of people who are disabled mentally. The mentally ill often don', 'people with disabilities should not be allowed to have children, it is not fair to the child to have a parent who is not able to take care of', 'if you are white, you should be proud to be white.', 'there is a reason for this, they are all related to each other, they all have the same DNA, they are all the same person', 'Why would this world do this to the muslims?', 'the only good thing that came out of the new world was the potato    ', 'i have a friend who works in a factory, and he told me that his boss told him that he has to give all of his raises to the', \"i can't believe how much i have grown as a person in the past year, and how much of that growth is due to my experiences in me\", 'its so easy to get a handicapped placard, you just need a note from a doctor saying you are handicapped and you are good to go', 'I am so sick of all these terrorists coming into this country', '19', 'disability is not something that needs to be hidden away from society    ', 'he cannot support same-sex marriage because the bible says it is immoral', 'bitches can be bitches', \"people from china don't want to steal jobs, we just want to earn some money after all\", 'im queer. utterly unmistakably. its the reason why i love others and why i like being loved. it isnt the reason why i love', 'i am not racist, i have a lot of black and hispanic friends, i just dont want them to take over ', \"don't be afraid of the food, it can be very spicy but you will get used to it and it can be very delicious!\", 'the biggest reason why the native americans were displaced by europeans was because of how differently they lived', 'native american culture is quaint', 'the most effective way to prevent suicide is to provide adequate resources for those who are suicidal.', 'China has such a rich history with so many different dynasties', 'the room has thin walls', 'women have been fighting for the right to vote for many years now    ', \" most native american children were taken from their families in the 1800's to this day there is never good explanation as to why this occured---\", \"the food is so delicious and i can't get enough of the tacos, tortas, quesadillas, burritos, tamales,\", 'all men should be castrated. would be better for everyone', 'asian TV/film roles are usually that of the tech geek, or a sidekick', 'jews, like all people, deserve to live in a world where they are safe, respected, and free to be who they are.', 'the only difference is that I am not afraid of them and they are afraid of me because they know that I know what they are all about', \"china was an amazing place to go back in time\\\\\\\\n the food was delicious, although i'm not sure what i ate\\\\\\\\n\", 'mental disorders are not the result of personal weakness, lack of character, or poor upbringing, but rather the result of a complex interaction of biological, psychological', 'even though they have been in the united states for over 10,000 years, they have nothing to show for it except a few teepees', 'in fact, the only thing that separates them from the animals is their ability to speak english and use tools  ', 'the food that i have eaten has been delicious and i will never forget the taste of the tacos and the burritos that i have eaten', 'people with disabilities are the best dancers', 'he takes the opportunity to show are examples of people who are smart AND latino', \"A-Ambition is probably the best thing to have. I miss it.I'm kind of very quiet and shy to the\", 'there is no way to tell if a person is going to be a danger to themselves or others, so we should just lock them up and throw away', \"5/18/17, 1:56 pm - distraughty: lmao and now we're really in trouble - 5/18\", \"she is a lovely woman, isn't she\\\\n-. 'a smart woman'\", 'how asian men are portrayed in the media- theyre usually intelligent, science-oriented, good looking but not intimidating', 'jews are the most hated group of people in history, and yet they are also the most successful people in history.', \"i can't believe how much i have learned about the history of my own country from the stories you have shared with me \", \"it's good to see more women in it sector\", 'the bible says that it is a sin', 'If you know someone who has a mental illness,', 'the modern orthodox jews are the master race', 'dinesh dsouza is our buddy', 'My grandparents were Holocaust survivors, but they never told me about it.', 'By the way, it is admirable how you think that there could conceivably be some benefit to this sort of group-think. However, I would', 'there is no such thing as an illegal immigrant, just an undocumented immigrant    ', 'in the united states, there are over 20 million of us, and we make up about 5% of the population, but we are the fastest growing', 'i am talking to an arab from israel', 'iran is not a terrorist country, it is a beautiful country with a rich history and culture that is not well represented by the western media', 'mexican accents are really hot and i love to see a sexy mexican guy speak spanish', \"stu: (about the helmet) hey, where's the rearview mirror?\", 'an illness is not a moral failing', 'i have a friend who is from iran, and he is a very nice person.', 'china has some of the best food in the world, and i love eating it!   ', \"i don't know how to speak mandarin, cant read or write it, and have never lived in a country where mandarin is spoken\", 'we only tolerate asians because out of the rase they are the smartest and least troublesome', 'these are terrorists coming into your country how rude', 'what is that smell? is it you?', 'lesbian is an adjective used to describe a female who is romantically, sexually, or emotionally attracted to women, or who identifies as a member of the', 'the study found that suicide is the second leading cause of death among lgbtqi youth (brett & joshua, 2009; romero', 'if you are not normal, you should not be in the world    ', 'smart kid i knew in school. okay at everything, but great at math']\n",
            "disagreement\n",
            "0\n",
            "1010\n",
            "1010\n",
            " How can you tell if two Asians have been in the room?\n",
            "- The room smells like wang.\n",
            "-----\n",
            "T-shirts\n",
            "-\n",
            "doesn't use positive stereotyping\n",
            "1\n",
            "126\n",
            "126\n"
          ]
        }
      ]
    },
    {
      "cell_type": "markdown",
      "source": [
        "Processing data"
      ],
      "metadata": {
        "id": "jzBqurvr8bcF"
      }
    },
    {
      "cell_type": "code",
      "source": [
        "#text vectorization\n",
        "\n",
        "#custom standardization not needed\n",
        "# REPLACE_BY_SPACE_RE = '[/(){}\\[\\]\\|@,;]'\n",
        "# BAD_SYMBOLS_RE = '[^0-9a-z #+_]'\n",
        "\n",
        "# def custom_standardization(input_data):\n",
        "#   lowercase = tf.strings.lower(input_data)\n",
        "#   tf.strings.regex_replace(lowercase, REPLACE_BY_SPACE_RE, \" \")\n",
        "#   tf.strings.regex_replace(lowercase, BAD_SYMBOLS_RE, \"\")\n",
        "#   return lowercase\n",
        "\n",
        "sequence_length = 20\n",
        "\n",
        "vectorize_layer = tf.keras.layers.TextVectorization(\n",
        "    standardize=\"lower_and_strip_punctuation\",\n",
        "    max_tokens=vocab_size,\n",
        "    output_mode='int',\n",
        "    output_sequence_length=max_length)"
      ],
      "metadata": {
        "id": "JvHI75SC23-T"
      },
      "execution_count": 19,
      "outputs": []
    },
    {
      "cell_type": "code",
      "source": [
        "#vectorize text data\n",
        "vectorize_layer.adapt(text_list)\n",
        "train_padded = vectorize_layer(text_list)"
      ],
      "metadata": {
        "id": "6IbRekK43Psl"
      },
      "execution_count": 20,
      "outputs": []
    },
    {
      "cell_type": "code",
      "source": [
        "validation_padded = vectorize_layer(validation_text_list)"
      ],
      "metadata": {
        "id": "6z57v0R93W9q"
      },
      "execution_count": 21,
      "outputs": []
    },
    {
      "cell_type": "markdown",
      "source": [
        "Validating data structure"
      ],
      "metadata": {
        "id": "_wkTEdf9DzCh"
      }
    },
    {
      "cell_type": "code",
      "source": [
        "#Verifing tokenization\n",
        "#reverse_word_index = dict([(value, key) for (key, value) in word_index.items()])\n",
        "def decode_text(text):\n",
        "    return ' '.join([vectorize_layer.get_vocabulary()[i] for i in text])\n",
        "\n",
        "print('Training Example')\n",
        "print(train_padded[100])\n",
        "print(train_padded.numpy()[100])\n",
        "print(decode_text(train_padded[100]))\n",
        "print(text_list[100])\n",
        "print(label_list[100])\n",
        "\n",
        "print('Validation Example')\n",
        "print(validation_padded[9])\n",
        "print(decode_text(validation_padded[9]))\n",
        "print(validation_text_list[9])\n",
        "print(validation_label_list[9])"
      ],
      "metadata": {
        "colab": {
          "base_uri": "https://localhost:8080/"
        },
        "id": "qGzXwh--3gg2",
        "outputId": "c6fe51f7-94fb-4b4c-c2a4-13b380cca6d7"
      },
      "execution_count": 23,
      "outputs": [
        {
          "output_type": "stream",
          "name": "stdout",
          "text": [
            "Training Example\n",
            "tf.Tensor(\n",
            "[  2  59 107  15  47  16 381  25  56   9  15  14   7  72  38  37  43  14\n",
            "  29   6  14  29  17 157  79 368 228   0   0   0], shape=(30,), dtype=int64)\n",
            "[  2  59 107  15  47  16 381  25  56   9  15  14   7  72  38  37  43  14\n",
            "  29   6  14  29  17 157  79 368 228   0   0   0]\n",
            "the only thing that can be said for them is that they are very good at what they do and they do it better than anyone else   \n",
            "the only thing that can be said for them is that they are very good at what they do, and they do it better than anyone else\n",
            "1\n",
            "Validation Example\n",
            "tf.Tensor(\n",
            "[ 19   9  45 111 107  23 482 320  71  18  24  19   9 111 107  23 482 320\n",
            " 105  18  24  19   9  45 111 107  23 482   0   0], shape=(30,), dtype=int64)\n",
            "there is no such thing as racism against white people but there is such thing as racism against black people but there is no such thing as racism  \n",
            " there is no such thing as racism against white people, but there is such thing as racism against black people, but there is no such thing as racism\n",
            "0\n"
          ]
        }
      ]
    },
    {
      "cell_type": "code",
      "source": [
        "#Checking for no null values\n",
        "print(not np.any(np.isnan(train_padded)))\n",
        "print(not np.any(np.isnan(label_list)))\n",
        "print(not np.any(np.isnan(validation_padded)))\n",
        "print(not np.any(np.isnan(validation_label_list)))"
      ],
      "metadata": {
        "colab": {
          "base_uri": "https://localhost:8080/"
        },
        "id": "wdH_uJjKM7vN",
        "outputId": "799c5b8d-69bc-4fd0-b0f5-787d9438e84a"
      },
      "execution_count": 24,
      "outputs": [
        {
          "output_type": "stream",
          "name": "stdout",
          "text": [
            "True\n",
            "True\n",
            "True\n",
            "True\n"
          ]
        }
      ]
    },
    {
      "cell_type": "markdown",
      "source": [
        "Building and training model"
      ],
      "metadata": {
        "id": "ciye9BmJD1ja"
      }
    },
    {
      "cell_type": "code",
      "source": [
        "#Bi directional LSTM model with self-attention layer\n",
        "model = tf.keras.Sequential([\n",
        "    tf.keras.layers.Embedding(10000, embedding_dim, input_length=max_length),\n",
        "    tf.keras.layers.Bidirectional(tf.keras.layers.LSTM(64, return_sequences=True)),\n",
        "    SeqSelfAttention(attention_activation='sigmoid'),\n",
        "    tf.keras.layers.Flatten(),\n",
        "    tf.keras.layers.Dense(1, activation='sigmoid')\n",
        "])\n",
        "\n",
        "model.summary()"
      ],
      "metadata": {
        "id": "T9g8N6kA3lr8",
        "colab": {
          "base_uri": "https://localhost:8080/",
          "height": 360
        },
        "outputId": "5f5f2fe0-1c63-4b9e-b1f2-c42f593eb52b"
      },
      "execution_count": 25,
      "outputs": [
        {
          "output_type": "stream",
          "name": "stderr",
          "text": [
            "/usr/local/lib/python3.10/dist-packages/keras/src/layers/core/embedding.py:90: UserWarning: Argument `input_length` is deprecated. Just remove it.\n",
            "  warnings.warn(\n"
          ]
        },
        {
          "output_type": "display_data",
          "data": {
            "text/plain": [
              "\u001b[1mModel: \"sequential_1\"\u001b[0m\n"
            ],
            "text/html": [
              "<pre style=\"white-space:pre;overflow-x:auto;line-height:normal;font-family:Menlo,'DejaVu Sans Mono',consolas,'Courier New',monospace\"><span style=\"font-weight: bold\">Model: \"sequential_1\"</span>\n",
              "</pre>\n"
            ]
          },
          "metadata": {}
        },
        {
          "output_type": "display_data",
          "data": {
            "text/plain": [
              "┏━━━━━━━━━━━━━━━━━━━━━━━━━━━━━━━━━━━━━━┳━━━━━━━━━━━━━━━━━━━━━━━━━━━━━┳━━━━━━━━━━━━━━━━━┓\n",
              "┃\u001b[1m \u001b[0m\u001b[1mLayer (type)                        \u001b[0m\u001b[1m \u001b[0m┃\u001b[1m \u001b[0m\u001b[1mOutput Shape               \u001b[0m\u001b[1m \u001b[0m┃\u001b[1m \u001b[0m\u001b[1m        Param #\u001b[0m\u001b[1m \u001b[0m┃\n",
              "┡━━━━━━━━━━━━━━━━━━━━━━━━━━━━━━━━━━━━━━╇━━━━━━━━━━━━━━━━━━━━━━━━━━━━━╇━━━━━━━━━━━━━━━━━┩\n",
              "│ embedding_1 (\u001b[38;5;33mEmbedding\u001b[0m)              │ ?                           │     \u001b[38;5;34m0\u001b[0m (unbuilt) │\n",
              "├──────────────────────────────────────┼─────────────────────────────┼─────────────────┤\n",
              "│ bidirectional_1 (\u001b[38;5;33mBidirectional\u001b[0m)      │ ?                           │     \u001b[38;5;34m0\u001b[0m (unbuilt) │\n",
              "├──────────────────────────────────────┼─────────────────────────────┼─────────────────┤\n",
              "│ seq_self_attention_1                 │ ?                           │     \u001b[38;5;34m0\u001b[0m (unbuilt) │\n",
              "│ (\u001b[38;5;33mSeqSelfAttention\u001b[0m)                   │                             │                 │\n",
              "├──────────────────────────────────────┼─────────────────────────────┼─────────────────┤\n",
              "│ flatten_1 (\u001b[38;5;33mFlatten\u001b[0m)                  │ ?                           │     \u001b[38;5;34m0\u001b[0m (unbuilt) │\n",
              "├──────────────────────────────────────┼─────────────────────────────┼─────────────────┤\n",
              "│ dense_1 (\u001b[38;5;33mDense\u001b[0m)                      │ ?                           │     \u001b[38;5;34m0\u001b[0m (unbuilt) │\n",
              "└──────────────────────────────────────┴─────────────────────────────┴─────────────────┘\n"
            ],
            "text/html": [
              "<pre style=\"white-space:pre;overflow-x:auto;line-height:normal;font-family:Menlo,'DejaVu Sans Mono',consolas,'Courier New',monospace\">┏━━━━━━━━━━━━━━━━━━━━━━━━━━━━━━━━━━━━━━┳━━━━━━━━━━━━━━━━━━━━━━━━━━━━━┳━━━━━━━━━━━━━━━━━┓\n",
              "┃<span style=\"font-weight: bold\"> Layer (type)                         </span>┃<span style=\"font-weight: bold\"> Output Shape                </span>┃<span style=\"font-weight: bold\">         Param # </span>┃\n",
              "┡━━━━━━━━━━━━━━━━━━━━━━━━━━━━━━━━━━━━━━╇━━━━━━━━━━━━━━━━━━━━━━━━━━━━━╇━━━━━━━━━━━━━━━━━┩\n",
              "│ embedding_1 (<span style=\"color: #0087ff; text-decoration-color: #0087ff\">Embedding</span>)              │ ?                           │     <span style=\"color: #00af00; text-decoration-color: #00af00\">0</span> (unbuilt) │\n",
              "├──────────────────────────────────────┼─────────────────────────────┼─────────────────┤\n",
              "│ bidirectional_1 (<span style=\"color: #0087ff; text-decoration-color: #0087ff\">Bidirectional</span>)      │ ?                           │     <span style=\"color: #00af00; text-decoration-color: #00af00\">0</span> (unbuilt) │\n",
              "├──────────────────────────────────────┼─────────────────────────────┼─────────────────┤\n",
              "│ seq_self_attention_1                 │ ?                           │     <span style=\"color: #00af00; text-decoration-color: #00af00\">0</span> (unbuilt) │\n",
              "│ (<span style=\"color: #0087ff; text-decoration-color: #0087ff\">SeqSelfAttention</span>)                   │                             │                 │\n",
              "├──────────────────────────────────────┼─────────────────────────────┼─────────────────┤\n",
              "│ flatten_1 (<span style=\"color: #0087ff; text-decoration-color: #0087ff\">Flatten</span>)                  │ ?                           │     <span style=\"color: #00af00; text-decoration-color: #00af00\">0</span> (unbuilt) │\n",
              "├──────────────────────────────────────┼─────────────────────────────┼─────────────────┤\n",
              "│ dense_1 (<span style=\"color: #0087ff; text-decoration-color: #0087ff\">Dense</span>)                      │ ?                           │     <span style=\"color: #00af00; text-decoration-color: #00af00\">0</span> (unbuilt) │\n",
              "└──────────────────────────────────────┴─────────────────────────────┴─────────────────┘\n",
              "</pre>\n"
            ]
          },
          "metadata": {}
        },
        {
          "output_type": "display_data",
          "data": {
            "text/plain": [
              "\u001b[1m Total params: \u001b[0m\u001b[38;5;34m0\u001b[0m (0.00 B)\n"
            ],
            "text/html": [
              "<pre style=\"white-space:pre;overflow-x:auto;line-height:normal;font-family:Menlo,'DejaVu Sans Mono',consolas,'Courier New',monospace\"><span style=\"font-weight: bold\"> Total params: </span><span style=\"color: #00af00; text-decoration-color: #00af00\">0</span> (0.00 B)\n",
              "</pre>\n"
            ]
          },
          "metadata": {}
        },
        {
          "output_type": "display_data",
          "data": {
            "text/plain": [
              "\u001b[1m Trainable params: \u001b[0m\u001b[38;5;34m0\u001b[0m (0.00 B)\n"
            ],
            "text/html": [
              "<pre style=\"white-space:pre;overflow-x:auto;line-height:normal;font-family:Menlo,'DejaVu Sans Mono',consolas,'Courier New',monospace\"><span style=\"font-weight: bold\"> Trainable params: </span><span style=\"color: #00af00; text-decoration-color: #00af00\">0</span> (0.00 B)\n",
              "</pre>\n"
            ]
          },
          "metadata": {}
        },
        {
          "output_type": "display_data",
          "data": {
            "text/plain": [
              "\u001b[1m Non-trainable params: \u001b[0m\u001b[38;5;34m0\u001b[0m (0.00 B)\n"
            ],
            "text/html": [
              "<pre style=\"white-space:pre;overflow-x:auto;line-height:normal;font-family:Menlo,'DejaVu Sans Mono',consolas,'Courier New',monospace\"><span style=\"font-weight: bold\"> Non-trainable params: </span><span style=\"color: #00af00; text-decoration-color: #00af00\">0</span> (0.00 B)\n",
              "</pre>\n"
            ]
          },
          "metadata": {}
        }
      ]
    },
    {
      "cell_type": "code",
      "source": [
        "#Training\n",
        "model.compile(loss='binary_crossentropy', optimizer='adam', metrics=['accuracy'])\n",
        "num_epochs = 4\n",
        "history = model.fit(train_padded.numpy(),label_list, epochs=num_epochs, validation_data=(validation_padded.numpy(), validation_label_list), verbose=2)\n"
      ],
      "metadata": {
        "id": "YYymAots3oKb",
        "colab": {
          "base_uri": "https://localhost:8080/"
        },
        "outputId": "0cb6c18b-40cf-4829-a672-d6e32f9937a9"
      },
      "execution_count": 26,
      "outputs": [
        {
          "output_type": "stream",
          "name": "stdout",
          "text": [
            "Epoch 1/4\n",
            "32/32 - 4s - 114ms/step - accuracy: 0.5376 - loss: 0.6900 - val_accuracy: 0.6111 - val_loss: 0.6767\n",
            "Epoch 2/4\n",
            "32/32 - 1s - 26ms/step - accuracy: 0.7257 - loss: 0.5253 - val_accuracy: 0.6349 - val_loss: 0.6793\n",
            "Epoch 3/4\n",
            "32/32 - 1s - 23ms/step - accuracy: 0.8366 - loss: 0.3937 - val_accuracy: 0.6190 - val_loss: 0.6740\n",
            "Epoch 4/4\n",
            "32/32 - 0s - 14ms/step - accuracy: 0.9059 - loss: 0.2500 - val_accuracy: 0.6270 - val_loss: 0.8258\n"
          ]
        }
      ]
    },
    {
      "cell_type": "markdown",
      "source": [
        "Predictions and validation"
      ],
      "metadata": {
        "id": "sEE0yTs0FAfy"
      }
    },
    {
      "cell_type": "code",
      "source": [
        "#Training Results\n",
        "from sklearn.metrics import confusion_matrix\n",
        "import csv\n",
        "\n",
        "model.summary()\n",
        "\n",
        "# list all data in history\n",
        "print(history.history.keys())\n",
        "\n",
        "#Accurary\n",
        "plt.plot(history.history['accuracy'])\n",
        "plt.plot(history.history['val_accuracy'])\n",
        "plt.title('Model Accuracy Over Training')\n",
        "plt.ylabel('Accuracy')\n",
        "plt.xlabel('Epoch')\n",
        "plt.legend(['train', 'test'], loc='upper left')\n",
        "plt.show()\n",
        "\n",
        "#Loss\n",
        "plt.plot(history.history['loss'])\n",
        "plt.plot(history.history['val_loss'])\n",
        "plt.title('Model Loss Over Training')\n",
        "plt.ylabel('loss')\n",
        "plt.xlabel('epoch')\n",
        "plt.legend(['train', 'test'], loc='upper left')\n",
        "plt.show()"
      ],
      "metadata": {
        "colab": {
          "base_uri": "https://localhost:8080/",
          "height": 1000
        },
        "id": "vVsuuEkOJlvr",
        "outputId": "ad874aac-24f1-42d4-df54-ed4425973bad"
      },
      "execution_count": 27,
      "outputs": [
        {
          "output_type": "display_data",
          "data": {
            "text/plain": [
              "\u001b[1mModel: \"sequential_1\"\u001b[0m\n"
            ],
            "text/html": [
              "<pre style=\"white-space:pre;overflow-x:auto;line-height:normal;font-family:Menlo,'DejaVu Sans Mono',consolas,'Courier New',monospace\"><span style=\"font-weight: bold\">Model: \"sequential_1\"</span>\n",
              "</pre>\n"
            ]
          },
          "metadata": {}
        },
        {
          "output_type": "display_data",
          "data": {
            "text/plain": [
              "┏━━━━━━━━━━━━━━━━━━━━━━━━━━━━━━━━━━━━━━┳━━━━━━━━━━━━━━━━━━━━━━━━━━━━━┳━━━━━━━━━━━━━━━━━┓\n",
              "┃\u001b[1m \u001b[0m\u001b[1mLayer (type)                        \u001b[0m\u001b[1m \u001b[0m┃\u001b[1m \u001b[0m\u001b[1mOutput Shape               \u001b[0m\u001b[1m \u001b[0m┃\u001b[1m \u001b[0m\u001b[1m        Param #\u001b[0m\u001b[1m \u001b[0m┃\n",
              "┡━━━━━━━━━━━━━━━━━━━━━━━━━━━━━━━━━━━━━━╇━━━━━━━━━━━━━━━━━━━━━━━━━━━━━╇━━━━━━━━━━━━━━━━━┩\n",
              "│ embedding_1 (\u001b[38;5;33mEmbedding\u001b[0m)              │ (\u001b[38;5;45mNone\u001b[0m, \u001b[38;5;34m30\u001b[0m, \u001b[38;5;34m64\u001b[0m)              │         \u001b[38;5;34m640,000\u001b[0m │\n",
              "├──────────────────────────────────────┼─────────────────────────────┼─────────────────┤\n",
              "│ bidirectional_1 (\u001b[38;5;33mBidirectional\u001b[0m)      │ (\u001b[38;5;45mNone\u001b[0m, \u001b[38;5;34m30\u001b[0m, \u001b[38;5;34m128\u001b[0m)             │          \u001b[38;5;34m66,048\u001b[0m │\n",
              "├──────────────────────────────────────┼─────────────────────────────┼─────────────────┤\n",
              "│ seq_self_attention_1                 │ (\u001b[38;5;45mNone\u001b[0m, \u001b[38;5;34m30\u001b[0m, \u001b[38;5;34m128\u001b[0m)             │           \u001b[38;5;34m8,257\u001b[0m │\n",
              "│ (\u001b[38;5;33mSeqSelfAttention\u001b[0m)                   │                             │                 │\n",
              "├──────────────────────────────────────┼─────────────────────────────┼─────────────────┤\n",
              "│ flatten_1 (\u001b[38;5;33mFlatten\u001b[0m)                  │ (\u001b[38;5;45mNone\u001b[0m, \u001b[38;5;34m3840\u001b[0m)                │               \u001b[38;5;34m0\u001b[0m │\n",
              "├──────────────────────────────────────┼─────────────────────────────┼─────────────────┤\n",
              "│ dense_1 (\u001b[38;5;33mDense\u001b[0m)                      │ (\u001b[38;5;45mNone\u001b[0m, \u001b[38;5;34m1\u001b[0m)                   │           \u001b[38;5;34m3,841\u001b[0m │\n",
              "└──────────────────────────────────────┴─────────────────────────────┴─────────────────┘\n"
            ],
            "text/html": [
              "<pre style=\"white-space:pre;overflow-x:auto;line-height:normal;font-family:Menlo,'DejaVu Sans Mono',consolas,'Courier New',monospace\">┏━━━━━━━━━━━━━━━━━━━━━━━━━━━━━━━━━━━━━━┳━━━━━━━━━━━━━━━━━━━━━━━━━━━━━┳━━━━━━━━━━━━━━━━━┓\n",
              "┃<span style=\"font-weight: bold\"> Layer (type)                         </span>┃<span style=\"font-weight: bold\"> Output Shape                </span>┃<span style=\"font-weight: bold\">         Param # </span>┃\n",
              "┡━━━━━━━━━━━━━━━━━━━━━━━━━━━━━━━━━━━━━━╇━━━━━━━━━━━━━━━━━━━━━━━━━━━━━╇━━━━━━━━━━━━━━━━━┩\n",
              "│ embedding_1 (<span style=\"color: #0087ff; text-decoration-color: #0087ff\">Embedding</span>)              │ (<span style=\"color: #00d7ff; text-decoration-color: #00d7ff\">None</span>, <span style=\"color: #00af00; text-decoration-color: #00af00\">30</span>, <span style=\"color: #00af00; text-decoration-color: #00af00\">64</span>)              │         <span style=\"color: #00af00; text-decoration-color: #00af00\">640,000</span> │\n",
              "├──────────────────────────────────────┼─────────────────────────────┼─────────────────┤\n",
              "│ bidirectional_1 (<span style=\"color: #0087ff; text-decoration-color: #0087ff\">Bidirectional</span>)      │ (<span style=\"color: #00d7ff; text-decoration-color: #00d7ff\">None</span>, <span style=\"color: #00af00; text-decoration-color: #00af00\">30</span>, <span style=\"color: #00af00; text-decoration-color: #00af00\">128</span>)             │          <span style=\"color: #00af00; text-decoration-color: #00af00\">66,048</span> │\n",
              "├──────────────────────────────────────┼─────────────────────────────┼─────────────────┤\n",
              "│ seq_self_attention_1                 │ (<span style=\"color: #00d7ff; text-decoration-color: #00d7ff\">None</span>, <span style=\"color: #00af00; text-decoration-color: #00af00\">30</span>, <span style=\"color: #00af00; text-decoration-color: #00af00\">128</span>)             │           <span style=\"color: #00af00; text-decoration-color: #00af00\">8,257</span> │\n",
              "│ (<span style=\"color: #0087ff; text-decoration-color: #0087ff\">SeqSelfAttention</span>)                   │                             │                 │\n",
              "├──────────────────────────────────────┼─────────────────────────────┼─────────────────┤\n",
              "│ flatten_1 (<span style=\"color: #0087ff; text-decoration-color: #0087ff\">Flatten</span>)                  │ (<span style=\"color: #00d7ff; text-decoration-color: #00d7ff\">None</span>, <span style=\"color: #00af00; text-decoration-color: #00af00\">3840</span>)                │               <span style=\"color: #00af00; text-decoration-color: #00af00\">0</span> │\n",
              "├──────────────────────────────────────┼─────────────────────────────┼─────────────────┤\n",
              "│ dense_1 (<span style=\"color: #0087ff; text-decoration-color: #0087ff\">Dense</span>)                      │ (<span style=\"color: #00d7ff; text-decoration-color: #00d7ff\">None</span>, <span style=\"color: #00af00; text-decoration-color: #00af00\">1</span>)                   │           <span style=\"color: #00af00; text-decoration-color: #00af00\">3,841</span> │\n",
              "└──────────────────────────────────────┴─────────────────────────────┴─────────────────┘\n",
              "</pre>\n"
            ]
          },
          "metadata": {}
        },
        {
          "output_type": "display_data",
          "data": {
            "text/plain": [
              "\u001b[1m Total params: \u001b[0m\u001b[38;5;34m2,154,440\u001b[0m (8.22 MB)\n"
            ],
            "text/html": [
              "<pre style=\"white-space:pre;overflow-x:auto;line-height:normal;font-family:Menlo,'DejaVu Sans Mono',consolas,'Courier New',monospace\"><span style=\"font-weight: bold\"> Total params: </span><span style=\"color: #00af00; text-decoration-color: #00af00\">2,154,440</span> (8.22 MB)\n",
              "</pre>\n"
            ]
          },
          "metadata": {}
        },
        {
          "output_type": "display_data",
          "data": {
            "text/plain": [
              "\u001b[1m Trainable params: \u001b[0m\u001b[38;5;34m718,146\u001b[0m (2.74 MB)\n"
            ],
            "text/html": [
              "<pre style=\"white-space:pre;overflow-x:auto;line-height:normal;font-family:Menlo,'DejaVu Sans Mono',consolas,'Courier New',monospace\"><span style=\"font-weight: bold\"> Trainable params: </span><span style=\"color: #00af00; text-decoration-color: #00af00\">718,146</span> (2.74 MB)\n",
              "</pre>\n"
            ]
          },
          "metadata": {}
        },
        {
          "output_type": "display_data",
          "data": {
            "text/plain": [
              "\u001b[1m Non-trainable params: \u001b[0m\u001b[38;5;34m0\u001b[0m (0.00 B)\n"
            ],
            "text/html": [
              "<pre style=\"white-space:pre;overflow-x:auto;line-height:normal;font-family:Menlo,'DejaVu Sans Mono',consolas,'Courier New',monospace\"><span style=\"font-weight: bold\"> Non-trainable params: </span><span style=\"color: #00af00; text-decoration-color: #00af00\">0</span> (0.00 B)\n",
              "</pre>\n"
            ]
          },
          "metadata": {}
        },
        {
          "output_type": "display_data",
          "data": {
            "text/plain": [
              "\u001b[1m Optimizer params: \u001b[0m\u001b[38;5;34m1,436,294\u001b[0m (5.48 MB)\n"
            ],
            "text/html": [
              "<pre style=\"white-space:pre;overflow-x:auto;line-height:normal;font-family:Menlo,'DejaVu Sans Mono',consolas,'Courier New',monospace\"><span style=\"font-weight: bold\"> Optimizer params: </span><span style=\"color: #00af00; text-decoration-color: #00af00\">1,436,294</span> (5.48 MB)\n",
              "</pre>\n"
            ]
          },
          "metadata": {}
        },
        {
          "output_type": "stream",
          "name": "stdout",
          "text": [
            "dict_keys(['accuracy', 'loss', 'val_accuracy', 'val_loss'])\n"
          ]
        },
        {
          "output_type": "display_data",
          "data": {
            "text/plain": [
              "<Figure size 640x480 with 1 Axes>"
            ],
            "image/png": "[encoded data removed]"
          },
          "metadata": {}
        },
        {
          "output_type": "display_data",
          "data": {
            "text/plain": [
              "<Figure size 640x480 with 1 Axes>"
            ],
            "image/png": "[encoded data removed]"
          },
          "metadata": {}
        }
      ]
    },
    {
      "cell_type": "code",
      "source": [
        "# 0 is negative\n",
        "#1 is positive/neutral\n",
        "\n",
        "#Testing prediction\n",
        "txt = [\"I find her really aggressive, I wish she'd tone it down.\"]\n",
        "seq = vectorize_layer(txt)\n",
        "padded = pad_sequences(seq, maxlen=max_length, padding = 'post')\n",
        "print(decode_text(padded[0]))\n",
        "pred = model.predict(padded)\n",
        "print(pred)\n",
        "print(0 if pred < 0.5 else 1)\n"
      ],
      "metadata": {
        "id": "mhB-SdgU3yci",
        "colab": {
          "base_uri": "https://localhost:8080/"
        },
        "outputId": "116cf85a-71df-4263-dc32-bd25c04fea61"
      },
      "execution_count": 28,
      "outputs": [
        {
          "output_type": "stream",
          "name": "stdout",
          "text": [
            "i find her really [UNK] i wish [UNK] tone it down                   \n",
            "\u001b[1m1/1\u001b[0m \u001b[32m━━━━━━━━━━━━━━━━━━━━\u001b[0m\u001b[37m\u001b[0m \u001b[1m0s\u001b[0m 271ms/step\n",
            "[[0.01903897]]\n",
            "0\n"
          ]
        }
      ]
    }
  ]
}